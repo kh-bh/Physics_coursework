{
 "cells": [
  {
   "attachments": {},
   "cell_type": "markdown",
   "metadata": {},
   "source": [
    "# Lab 01 : Root Finding\n",
    "\n",
    "#### Objectives\n",
    "\n",
    "The main objectives of this lab are as follows.\n",
    "\n",
    "- Learn that solving numerical problems requires a lot of analytic work too! This is a necessary feature! Computational techniques are an additional tool we use when solving problems, not a replacement for the analytic tools we already know.\n",
    "- Study root finding using functions from `scipy.optimize`.\n",
    "- Learn more about making good plots by creating our first real one!\n",
    "- Become more comfortable using the built-in documentation by always you looking up the documentation on new functions.\n",
    "\n",
    "## Initialization\n",
    "\n",
    "Put all the initialization in the cell below. This should include loading `numpy` and setting up plotting (loading the required module). It should also include loading `scipy.optimize`."
   ]
  },
  {
   "cell_type": "code",
   "execution_count": 17,
   "metadata": {
    "deletable": false,
    "nbgrader": {
     "cell_type": "code",
     "checksum": "2c5c1b960bdd26861b91b8a94a2afce3",
     "grade": true,
     "grade_id": "cell-5fc386b3780ea952",
     "locked": false,
     "points": 0,
     "schema_version": 3,
     "solution": true
    }
   },
   "outputs": [],
   "source": [
    "import numpy as np\n",
    "import scipy.optimize as opt\n",
    "import matplotlib.pyplot as plt"
   ]
  },
  {
   "cell_type": "markdown",
   "metadata": {},
   "source": [
    "## Problem Statement\n",
    "\n",
    "Here we will solve the following problem. Consider a water hose with initial water velocity, $v$, aimed at an angle, $\\alpha$, with respect to the ground, targeting a fire a height, $h$, above the ground. It can be shown that to hit the target the horizontal distance, $x$, between the nozzle and the fire satisfies the quadratic equation\n",
    "$$ \\frac{g}{2v^2\\cos^2\\alpha} x^2 - x \\tan\\alpha + h = 0. $$\n",
    "Our goal is to find the optimal angle, $\\alpha_O$, at which to aim the hose such that we hit the fire from the maximum distance away, $x_{\\mathrm{max}}$.\n",
    "\n",
    "Throughout this lab we will use $g=9.8\\;\\mathrm{m/s^2}$.\n",
    "\n",
    "(*Note:* \"It can be shown\" means that you know how to do this and should think about how you would do it, but you are not being asked to do it here.)"
   ]
  },
  {
   "attachments": {},
   "cell_type": "markdown",
   "metadata": {},
   "source": [
    "## Preliminaries\n",
    "\n",
    "We have a problem and we are taking a course in computational physics so our first thought is probably to start typing away hoping that the computer will produce answers. *This is the wrong approach!* In fact, we need to spend a fair bit of time doing analytic work to\n",
    "1. manipulate the system to answer specific questions,\n",
    "2. turn these manipulations into a form the computer can handle,\n",
    "3. calculate simple cases to test the numerical results,\n",
    "4. deal with any \"numerical issues\".\n",
    "\n",
    "To begin, the system described in the problem statement is a familiar one. It really has nothing to do with the flow of water. It is a topic studied extensively in introductory physics. When solving numerical problems it is important to understand the physics of the system being studied. This allows us to use our intuition to determine whether results produced by our codes make sense or not. Remember that a computer does what we tell it to do, which is often not what we want it to do! Thus we need to break our analysis down into small, understandable steps and constantly ask whether or not the results at each step make sense.\n",
    "\n",
    "What well known physics topic is this problem really about? (*Note:* If it is not immediate obvious then come back to this question after working on some of the other parts.)"
   ]
  },
  {
   "cell_type": "markdown",
   "metadata": {
    "deletable": false,
    "nbgrader": {
     "cell_type": "markdown",
     "checksum": "05e57b2679099ee0850b29f3e3ac65d9",
     "grade": true,
     "grade_id": "cell-5e843d36705066e0",
     "locked": false,
     "points": 1,
     "schema_version": 3,
     "solution": true
    }
   },
   "source": [
    "The well known physics topic that this problem is actually about is projectile motion."
   ]
  },
  {
   "cell_type": "markdown",
   "metadata": {},
   "source": [
    "## Test Case\n",
    "\n",
    "As stated above, it is essential to have a test case (or preferably more than one) in mind whenever solving a problem. You will see in future labs that you are first asked to solve a known case before applying your technique to unknown cases which cannot be solved analytically. Though correctly solving a simpler problem is not a guarantee that your technique will work for more complicated problems, at least it gives you some confidence. On the other hand, if your technique does not work for a simple problem, there is no reason to believe it works for a complicated one!\n",
    "\n",
    "Here we will start with the simple case of starting and ending at the same height, $h=0$. This is a problem you have solved before!\n",
    "\n",
    "For $h=0$, state the optimal angle, $\\alpha_O$, that leads to the maximum distance the water travels, $x_{\\mathrm{max}}$. Also calculate $x_{\\mathrm{max}}$. Specify your answers below. (*Note:* As you have seen in notebooks, we can insert full documentation including nicely formatted equations using LaTeX. We will discuss some basic LaTeX in the future. If you already know how, great, show the rest of the members of your group! Regardless, just make sure your answers can be clearly understood however you choose to write them.)"
   ]
  },
  {
   "cell_type": "markdown",
   "metadata": {
    "deletable": false,
    "nbgrader": {
     "cell_type": "markdown",
     "checksum": "9adbf14db95ef564a1c91f1b97843bb7",
     "grade": true,
     "grade_id": "cell-262b3a0188a5e2f5",
     "locked": false,
     "points": 1,
     "schema_version": 3,
     "solution": true
    }
   },
   "source": [
    "$\\alpha_O$ = 45 degrees or $\\pi$/4\n",
    "\n",
    "$x_{\\mathrm{max}}$ = $v^2 / g$\n"
   ]
  },
  {
   "cell_type": "markdown",
   "metadata": {},
   "source": [
    "## Solving the Problem\n",
    "\n",
    "We are now ready to think about the general problem. We will begin by *analytically* solving the quadratic equation for $x(\\alpha)$. Even this simple step is fraught with danger. If we blindly apply the solution we know to quadratic equations we will encounter a problem.\n",
    "\n",
    "Naively solving the quadratic equation would give us terms in the solution that include contributions proportional to $1/\\cos^2\\alpha$. Numerically, why is having $\\cos\\alpha$ in the denominator a problem? What would happen if we try to evaluate such a term for all values of the angle with $0\\le\\alpha\\le\\pi$?"
   ]
  },
  {
   "cell_type": "markdown",
   "metadata": {
    "deletable": false,
    "nbgrader": {
     "cell_type": "markdown",
     "checksum": "bbfe28fc1eb00d0c43a9cebdc2ae4e92",
     "grade": true,
     "grade_id": "cell-1b1b9b06b59a2912",
     "locked": false,
     "points": 1,
     "schema_version": 3,
     "solution": true
    }
   },
   "source": [
    "If we have cos($\\alpha$) in the denominator and our angle is $\\pi$/2 then we have a divide by zero error. If we have a value that is close to $\\pi$/2, we will effectively be dividing by zero. Either way, this is a problem."
   ]
  },
  {
   "cell_type": "markdown",
   "metadata": {},
   "source": [
    "To deal with the problem noted above it is probably best to multiply the quadratic equation by $\\cos^2\\alpha$ and use that as our base equation. In fact, we could go further than this. It may be more elegant to rewrite the equation in terms of $\\sin(2\\alpha)$ and $\\cos(2\\alpha)$ using double angle formulas. *Or it may not!* How far we go in manipulating the equations analytically is up to us and is a balance between wanting to have simple, easy to read and implement equations, and minimizing the amount of time we spend manipulating an equation that is going to be solved numerically anyway. *Decide as a group how much you want to simplify the equation.*\n",
    "\n",
    "Analytically solve the modified quadratic equation for $x(\\alpha)$ and write it in a form that can be evaluated numerically. Since we have yet to discuss how to typeset such equations, we will instead only define it as a function. Define a function that given $\\alpha$, $h$, and $v$, returns the solution. Of course, since we are solving a quadratic equation we know **there are two solutions**. To account for this, write a function based on the template\n",
    "```\n",
    "def xalpha(alpha, h, v, sgn=+1):\n",
    "``` \n",
    "\n",
    "Here `sgn` refers to the \"$\\pm$\" that appears in the solution to a quadratic equation. By default we choose the \"$+$\" solution, but can get the \"$-$\" solution by passing in `-1`. In other words, your function should be able to return either the \"+\" or \"-\" solution from the quadratic equation depending on whether sgn=+1 or sgn=-1.\n",
    "\n",
    "Further, this function should be used by a human. As a human we typically express angles in degrees. This is not how a computer expresses angles; it wants radians (see the documentation for the sine function). Your function should accept `alpha` in degrees.\n",
    "\n",
    "Finally, any non-trivial function must have documentation! Here you are given the documentation, make sure your function is consistent with it! In the future you must provide this documentation yourself. The general idea is that when you come back and look at this function in a week or month or ... will you immediately be able to tell what it is doing without having to go through the whole lab again?"
   ]
  },
  {
   "cell_type": "code",
   "execution_count": 18,
   "metadata": {
    "deletable": false,
    "nbgrader": {
     "cell_type": "code",
     "checksum": "504d162aec371535fa440f4abb6c5f57",
     "grade": true,
     "grade_id": "cell-a79bbb035b69c396",
     "locked": false,
     "points": 3,
     "schema_version": 3,
     "solution": true
    }
   },
   "outputs": [],
   "source": [
    "def xalpha(alpha, h, v, sgn=+1):\n",
    "    \"\"\"Distance as a function of angle, alpha, for a projectile with speed v\n",
    "    to hit a target at height h.\n",
    "    Input: \n",
    "      alpha: launch angle in degrees,\n",
    "      h: height of target in meters,\n",
    "      v: speed of projectile in m/s,\n",
    "      sgn : (optional) +1 or -1, determines which solution of the quadratic equation to calculate.\n",
    "    Output:\n",
    "      x distance: in meters\n",
    "    \"\"\"\n",
    "\n",
    "    #Convert angle into radians\n",
    "    rad_angle = alpha * (np.pi)/180\n",
    "    g = 9.8\n",
    "\n",
    "    q_eq = (v**2 * ((1/2)*np.sin(2*rad_angle) + (sgn * np.sqrt((1/4) * np.sin(2 * rad_angle) * np.sin(2 * rad_angle) - (2 * g * h * np.cos(rad_angle) * np.cos(rad_angle))/(v**2))))/ g)\n",
    "\n",
    "    return q_eq"
   ]
  },
  {
   "cell_type": "markdown",
   "metadata": {},
   "source": [
    "To test your function, print the two solutions for $h=0$ along with the expected results. These must agree! If they do not, go back and figure out why not! (*Note:* You were not told $v$, why not? What should you do in this case?)"
   ]
  },
  {
   "cell_type": "code",
   "execution_count": 19,
   "metadata": {
    "deletable": false,
    "nbgrader": {
     "cell_type": "code",
     "checksum": "decfedb1ba8f9c61c1741ca5602b73d5",
     "grade": true,
     "grade_id": "cell-ec9cc02cded06d5f",
     "locked": false,
     "points": 2,
     "schema_version": 3,
     "solution": true
    }
   },
   "outputs": [
    {
     "name": "stdout",
     "output_type": "stream",
     "text": [
      "The + result is 0.1020408163265306m\n",
      "The - result is 0.0m\n",
      "The expected + result is 0.1020408163265306m\n",
      "The expected - result is 0m\n"
     ]
    }
   ],
   "source": [
    "v=1\n",
    "print(f\"The + result is {xalpha(45,0,v)}m\")\n",
    "print(f\"The - result is {xalpha(45,0,v,-1)}m\")\n",
    "print(f\"The expected + result is {v**2/9.8}m\")\n",
    "print(f\"The expected - result is 0m\")"
   ]
  },
  {
   "cell_type": "markdown",
   "metadata": {},
   "source": [
    "Finally, we want to find the optimal angle. We know that we can find extrema using derivatives. In particular here we wish to find $\\alpha_O$ such that\n",
    "$$ \\left. \\frac{\\mathrm{d}x}{\\mathrm{d}\\alpha} \\right|_{\\alpha=\\alpha_O} = 0. $$\n",
    "\n",
    "Since we just solved for $x(\\alpha)$ our first thought might be take the derivative of it with respect to $\\alpha$. *Do not do this!* That is quite painful, there must be an easier way. Just because we are doing some manipulations analytically that does not mean we need to do them in a difficult way! A much simpler approach is to *implicitly differentiate* the original quadratic equation using the fact that the derivative of $x$ with respect to $\\alpha$ when evaluated at $\\alpha_O$ is zero. Actually, we should differentiate the modified form of the quadratic equation used above to solve for $x(\\alpha)$ (the one without the $\\cos\\alpha$ in the denominator). Do so to find an equation of the form $f(\\alpha_O)=0$ which can be solved using a root finder. Note that you will also have $x(\\alpha_O)$ appearing in your equation. This is fine, and actually preferred. Such an equation is easy for us to understand. It is also easy for the computer since we have already defined a function for $x(\\alpha)$.\n",
    "\n",
    "Calculate an equation of the form $f(\\alpha_O)=0$ that can be solved to find the optimal angle $\\alpha_O$. Define the function $f(\\alpha_O)$ of the form\n",
    "```\n",
    "def optimal_f(alpha, h, v, sgn=+1):\n",
    "```\n",
    "similar to `xalpha` defined above. Make sure you write it in a form that works for all allowed values of `alpha`.\n",
    "Finally, do not forget to document your function."
   ]
  },
  {
   "cell_type": "code",
   "execution_count": 20,
   "metadata": {
    "deletable": false,
    "nbgrader": {
     "cell_type": "code",
     "checksum": "0dea6ca2bf19ce51623e254e8686b514",
     "grade": true,
     "grade_id": "cell-55265c609a617099",
     "locked": false,
     "points": 5,
     "schema_version": 3,
     "solution": true
    }
   },
   "outputs": [],
   "source": [
    "def optimal_f(alpha, h, v, sgn=+1):\n",
    "    \"\"\"Distance as a function of angle, alpha, for a projectile with speed v\n",
    "    to hit a target at height h.\n",
    "    Input: \n",
    "      alpha: launch angle in degrees,\n",
    "      h: height of target in meters,\n",
    "      v: speed of projectile in m/s,\n",
    "      sgn : (optional) +1 or -1, determines which solution of the quadratic equation to calculate.\n",
    "    Output:\n",
    "      alpha: The alpha such that dx/dalpha is 0, or an extrema\n",
    "    \"\"\"\n",
    "    g=9.8\n",
    "    s_xalpha = xalpha(alpha,h,v,sgn)\n",
    "    rad_alpha= alpha * (np.pi/180)\n",
    "\n",
    "    eq = (s_xalpha * (((2* ((np.sin(rad_alpha))**2)))-1)) - (2*h*(np.cos(rad_alpha)*(np.sin(rad_alpha))))\n",
    "    return eq\n"
   ]
  },
  {
   "cell_type": "markdown",
   "metadata": {},
   "source": [
    "Verify your function `optimal_f` works by numerically finding the optimal angle when $h=0$. Print your result along with the expected one. Again, these **must agree**."
   ]
  },
  {
   "cell_type": "code",
   "execution_count": 21,
   "metadata": {
    "deletable": false,
    "nbgrader": {
     "cell_type": "code",
     "checksum": "2922325147ba9370d89931abcc66dea9",
     "grade": true,
     "grade_id": "cell-a1f542abfe86e217",
     "locked": false,
     "points": 3,
     "schema_version": 3,
     "solution": true
    }
   },
   "outputs": [
    {
     "name": "stdout",
     "output_type": "stream",
     "text": [
      "The expected result is: 45 degrees and the actual result is 45.0 degrees\n"
     ]
    }
   ],
   "source": [
    "(optimal_angle, optimal_info) = opt.brentq(optimal_f, 0.001, 89.999, full_output = True, args = (0,1))\n",
    "print(f\"The expected result is: 45 degrees and the actual result is {optimal_angle} degrees\")"
   ]
  },
  {
   "cell_type": "markdown",
   "metadata": {},
   "source": [
    "## Application\n",
    "\n",
    "Now that we have code that works for a known case, let us apply it to another case. Suppose we wish to put out a fire a height $10.3\\;\\mathrm{m}$ above a nozzle that projects water with a speed of $16.7\\;\\mathrm{m/s}$. \n",
    "\n",
    "Let us first see what $x(\\alpha)$ looks like. Produce a quick plot of $x(\\alpha)$ for $0\\le\\alpha\\le 180$ in degrees. Include both solutions in the plot."
   ]
  },
  {
   "cell_type": "code",
   "execution_count": 22,
   "metadata": {
    "deletable": false,
    "nbgrader": {
     "cell_type": "code",
     "checksum": "4e3708340dd93fdb50ed9d9b98387c10",
     "grade": true,
     "grade_id": "cell-c9687af2c03389f4",
     "locked": false,
     "points": 3,
     "schema_version": 3,
     "solution": true
    }
   },
   "outputs": [
    {
     "name": "stderr",
     "output_type": "stream",
     "text": [
      "C:\\Users\\bhoom\\AppData\\Local\\Temp\\ipykernel_33592\\2208707121.py:17: RuntimeWarning: invalid value encountered in sqrt\n",
      "  q_eq = (v**2 * ((1/2)*np.sin(2*rad_angle) + (sgn * np.sqrt((1/4) * np.sin(2 * rad_angle) * np.sin(2 * rad_angle) - (2 * g * h * np.cos(rad_angle) * np.cos(rad_angle))/(v**2))))/ g)\n"
     ]
    },
    {
     "data": {
      "text/plain": [
       "<matplotlib.legend.Legend at 0x1b783690860>"
      ]
     },
     "execution_count": 22,
     "metadata": {},
     "output_type": "execute_result"
    },
    {
     "data": {
      "image/png": "[encoded data removed]",
      "text/plain": [
       "<Figure size 640x480 with 1 Axes>"
      ]
     },
     "metadata": {},
     "output_type": "display_data"
    }
   ],
   "source": [
    "alphas=np.arange(0,180,.1)\n",
    "fig=plt.figure()\n",
    "ax=fig.add_subplot(111)\n",
    "plt.axhline(y=0,c='k')\n",
    "ax.set_xlabel('Angle of Projection')\n",
    "ax.set_ylabel('Water Distance')\n",
    "ax.set_title('Water Distance vs Angle of Hose')\n",
    "ax.set_xlim(0,180)\n",
    "ax.minorticks_on()\n",
    "ax.plot(alphas, xalpha(alphas,10.3,16.7,1),'r',label='positive sol.')\n",
    "ax.plot(alphas, xalpha(alphas,10.3,16.7,-1),'b--',label='negative sol.')\n",
    "plt.legend()\n"
   ]
  },
  {
   "cell_type": "markdown",
   "metadata": {},
   "source": [
    "This was a nice idea, but now we need to understand what just happened. Firstly, you probably received a warning message (red box) before the plot was created. Secondly, the plot does not run over the full range of angles we specified. Thirdly, there are negative distances! We need to fully understand and explain this plot before we can really trust our code. If things do not make sense then there is a good chance we have something wrong in the code. Note that \"understand\" and \"explain\" means both *numerically* and *physically*. After all, we are solving a physical problem!\n",
    "\n",
    "Assuming there was one, explain the source of the warning message (just because it is only a warning that does not mean we can ignore it), why the plot does not extend over the full range of angles, and why the distance changes sign when $\\alpha>90^\\circ$. Finally, which solution produces the maximum distance over the angles of interest, when `sgn=+1` or when `sgn=-1`?"
   ]
  },
  {
   "cell_type": "markdown",
   "metadata": {
    "deletable": false,
    "nbgrader": {
     "cell_type": "markdown",
     "checksum": "6a3e257b254224fdc2054cfade171f39",
     "grade": true,
     "grade_id": "cell-35627fbddc36cf74",
     "locked": false,
     "points": 5,
     "schema_version": 3,
     "solution": true
    }
   },
   "source": [
    "The source of the warning message is that there is an invalid number underneath the square root (or that the discriminat is less than 0). \n",
    "The full range of angles is not plotted because at some angles the discriminant is less than zero. We see this when we solve for values of alpha in $\\tan^2(2\\alpha) < \\frac{8gh}{v^2}$, which gives us the angles that would cause issues.\n",
    "When $\\alpha$ is greater than 90 degrees, we see that the distance changes sign because the hose is being shot in the negative x direction.\n",
    "The solution that produces the maximum distance over the angles of interest is when sgn = +1. This is evident by our graph, where the \"red\" part of the graph has a higher maximum value than the \"blue\" part of our graph."
   ]
  },
  {
   "cell_type": "markdown",
   "metadata": {},
   "source": [
    "Based on what we found above, we see that there is a *minimum* angle that can lead to a physical solution. Analytically calculate the value of this minimum angle, $\\alpha_{\\mathrm{min}}$, then numerically evaluate and print the value. Also store this value as we will use it later. (Recall that we prefer to see angles in degrees, but the computer does not. We should always print values in human readable forms and must always print out units.)"
   ]
  },
  {
   "cell_type": "markdown",
   "metadata": {},
   "source": [
    "$\\alpha=\\sin^{-1}(\\sqrt{\\frac{2gh}{v^2}})$"
   ]
  },
  {
   "cell_type": "code",
   "execution_count": 23,
   "metadata": {
    "deletable": false,
    "nbgrader": {
     "cell_type": "code",
     "checksum": "191ec7febbef5cb5bb1eef2942e24970",
     "grade": true,
     "grade_id": "cell-08a5d252bcaf0dfd",
     "locked": false,
     "points": 4,
     "schema_version": 3,
     "solution": true
    }
   },
   "outputs": [
    {
     "name": "stdout",
     "output_type": "stream",
     "text": [
      "The minimum angle is 58.29936448238549 degrees\n"
     ]
    }
   ],
   "source": [
    "alpha_min = np.arcsin(np.sqrt((2*9.8*10.3)/(16.7**2)))\n",
    "am_degrees = alpha_min * 180 / np.pi\n",
    "print(f\"The minimum angle is {am_degrees} degrees\")"
   ]
  },
  {
   "cell_type": "markdown",
   "metadata": {},
   "source": [
    "**Finally** numerically find the optimal angle, $\\alpha_O$. Print this angle and the value of the maximum distance. Once again, save this angle as we will need it again. (We will of course print the angle in degrees and include units on all output values.)"
   ]
  },
  {
   "cell_type": "code",
   "execution_count": 24,
   "metadata": {
    "deletable": false,
    "nbgrader": {
     "cell_type": "code",
     "checksum": "cad743f88d9913fff281fb7703673b61",
     "grade": true,
     "grade_id": "cell-ff47182fe783d9d7",
     "locked": false,
     "points": 4,
     "schema_version": 3,
     "solution": true
    }
   },
   "outputs": [
    {
     "name": "stdout",
     "output_type": "stream",
     "text": [
      "The optimal angle is 62.278922988882925 degrees and the maximum height is 14.95422659884196 meters.\n"
     ]
    }
   ],
   "source": [
    "(alpha_optimal, optimal_info) = opt.brentq(optimal_f, 58.3, 89.999, full_output = True, args = (10.3,16.7))\n",
    "max_height = xalpha(alpha_optimal, 10.3,16.7)\n",
    "\n",
    "print(f\"The optimal angle is {alpha_optimal} degrees and the maximum height is {max_height} meters.\")\n"
   ]
  },
  {
   "cell_type": "markdown",
   "metadata": {},
   "source": [
    "## Plot\n",
    "\n",
    "To confirm our results we are going to create our first quality plot. For this we will piece together things learned in PreLab01 and Lab00 along with some new rules. You should review what we have already learned as we will build on those now. In particular, the code for generating plots using figures and axes discussed in PreLab01 must be used.\n",
    "\n",
    "Here are some general rules to follow. There are, of course, exceptions to these suggestions but in general they should be followed:\n",
    "\n",
    "1. Each line in a figure should be distinct and easily recognizable. This means using different colors, styles, or both. Just changing colors may not be sufficient. It is still the case that many publications are printed in black and white, further, about 7-10 percent of people are (red-green) color blind. In matplotlib the `plot` function provides many options for changing the look of lines and markers. When you look at the documentation the most basic way of calling plot that allows changes is to include a format specifier. For example `plot(x, y, ‘k-’)` will plot a solid, black line. For purely online plots using different colors is often sufficient and has become common practice, though will be less useful for color blind readers. If the plot may appear in print then it will frequently appear in black and white. Thus it is best to use different line styles in addition to changing color. For example, specifying the format `r--` will produce a dashed, red line.\n",
    "2. When there are multiple lines in a figure, each line should be labeled. This can be done using the `label` keyword. It should provide a short description of what the line represents. The label is used to create a legend in the figure. This can be included by, not surprisingly, using the `legend` function.\n",
    "3. All figures must include labels on the axes and a title. Any figure that is not a \"quick plot\" that you create for a lab must have these! In general it is a good idea to include them in any figure you end up saving as an image file. When you later come back and wonder what this file is, having clear labels and legends will help.\n",
    "4. There are many other things that can be done to polish figures. We have already discussed using `minorticks_on`. Another minor polishing is that that the default line thickness might be too small. This can be changed using the `linewidth` or `lw` keyword to `plot`. We should decide what looks best."
   ]
  },
  {
   "cell_type": "markdown",
   "metadata": {},
   "source": [
    "With this advice in mind create a single plot containing both solutions of $x(\\alpha)$ for $\\alpha_{\\mathrm{min}}\\le\\alpha\\le 90^\\circ$. In this plot include a vertical line at $\\alpha_O$ and a horizontal line at $x(\\alpha_O)$."
   ]
  },
  {
   "cell_type": "code",
   "execution_count": 25,
   "metadata": {
    "deletable": false,
    "nbgrader": {
     "cell_type": "code",
     "checksum": "e15d539ebbe7c24a21c56db6b7f6afd9",
     "grade": true,
     "grade_id": "cell-116448b644d1874b",
     "locked": false,
     "points": 8,
     "schema_version": 3,
     "solution": true
    }
   },
   "outputs": [
    {
     "data": {
      "text/plain": [
       "<matplotlib.legend.Legend at 0x1b7857ff290>"
      ]
     },
     "execution_count": 25,
     "metadata": {},
     "output_type": "execute_result"
    },
    {
     "data": {
      "image/png": "[encoded data removed]",
      "text/plain": [
       "<Figure size 640x480 with 1 Axes>"
      ]
     },
     "metadata": {},
     "output_type": "display_data"
    }
   ],
   "source": [
    "alphas=np.arange(am_degrees,90,.1)\n",
    "fig=plt.figure()\n",
    "ax=fig.add_subplot(111)\n",
    "\n",
    "\n",
    "\n",
    "plt.axvline(x=alpha_optimal, color = \"k\", linestyle = \":\")\n",
    "ax.set_xlim(am_degrees,90)\n",
    "ax.set_ylim(0,16)\n",
    "\n",
    "ax.set_xlabel('Angle of Projection')\n",
    "ax.set_ylabel('Water Distance')\n",
    "ax.set_title('Water Distance vs Angle of Hose')\n",
    "\n",
    "ax.minorticks_on()\n",
    "ax.plot(alphas, xalpha(alphas,10.3,16.7,1),'r',label='positive sol.')\n",
    "ax.plot(alphas, xalpha(alphas,10.3,16.7,-1),'b--',label='negative sol.')\n",
    "\n",
    "plt.legend()"
   ]
  },
  {
   "cell_type": "markdown",
   "metadata": {},
   "source": [
    "### Rant\n",
    "\n",
    "Producing quality figures is somewhat subjective. Even so, the number of very low quality plots found in articles submitted for publication is appalling. Bad figures are easy to spot and it is also easy to avoid making them. This is particularly true when we use tools with good defaults, like matplotlib.\n",
    "\n",
    "Or at least mostly good defaults. A change made a number of years ago now that I completely disagree with for scientific figures is how tick marks are handled. In your figure you should see that tick marks point outward from the plotting region and they only appear on the left and bottom axes. Though I greatly prefer them pointing inward, one could argue that this is a matter of taste.\n",
    "\n",
    "On the other hand, not having tick marks on the right and top axes is atrocious (to put it mildly). In a scientific figure we are typically interested in the behavior of what we are plotting over the full range of the plot. Thus we want to be able to read off values of curves even if they are near the top or right hand side of the plot. Without tick marks on these axes this is extremely difficult, it makes reading plots much harder. I do not know the rationale for this change.\n",
    "\n",
    "Due to this I will always change the behavior (back to that in previous versions of matplotlib). Fortunately, matplotlib allows you to control everything. There are a few ways to do this. I will use the `rc` interface for achieving my desired look. This globally changes the behavior for all plots. In all subsequent notebooks you will see the extra boilerplate to set up my preferences:\n",
    "```python\n",
    "import matplotlib as mpl\n",
    "mpl.rc('xtick', direction='in', top=True)\n",
    "mpl.rc('ytick', direction='in', right=True)\n",
    "```\n",
    "I also pretty much always want the minor ticks turned on so I will also include\n",
    "```python\n",
    "mpl.rc('xtick.minor', visible=True)\n",
    "mpl.rc('ytick.minor', visible=True)\n",
    "```\n",
    "\n",
    "As this is somewhat a matter of taste, it will not be enforced. However, I would encourage you to think about this and other choices whenever you produce a figure. There are many other choices, existing styles, *etc*. that satisfy the same goal of clear plots. Any of them could also be used. There are other default behaviors that could also be changed to improve plot quality if desired.\n",
    "\n",
    "#### Online Figures\n",
    "\n",
    "The discussion above and preferences I choose are based on the idea that a figure is going to appear in print. More and more often these days that is not the case. Further, a notebook is an \"online\" document so maybe it does not need to be treated like a \"print\" document. Many styles designed for online viewing are in common use (particularly in data science it seems). Matplotlib makes it fairly easy to select such a style for all plots and could be included in your \"boiler plate\". I will leave it to you to find out more about this if you are interested .... Regardless, the style of your plots must be such that for any feature that would appear in the upper portion and/or right hand side of the plot, we can easily read off its $x$ and $y$ values without having to imprecisely trace \"by hand\" or \"by eye\" across the figure to tick marks far from the feature."
   ]
  },
  {
   "cell_type": "markdown",
   "metadata": {},
   "source": [
    "## Member Participation\n",
    "\n",
    "See Lab00 for instructions on turning in labs. We will follow this procedure the entire semester.\n",
    "\n",
    "In the following cell enter the *Case ID* for each student in the group who participated in this lab. Again, see Lab00 for more details. It is expected that you have read and understood those details."
   ]
  },
  {
   "cell_type": "markdown",
   "metadata": {
    "deletable": false,
    "nbgrader": {
     "cell_type": "markdown",
     "checksum": "a35ac2c1d36cf938af859fd31cdb473d",
     "grade": true,
     "grade_id": "cell-a6d846846198c253",
     "locked": false,
     "points": 0,
     "schema_version": 3,
     "solution": true,
     "task": false
    },
    "tags": []
   },
   "source": [
    "bxk421, syg9, cxz520"
   ]
  }
 ],
 "metadata": {
  "anaconda-cloud": {},
  "authors": [
   {
    "name": "Craig J Copi",
    "semester": "Spring 2025"
   }
  ],
  "kernelspec": {
   "display_name": ".venv",
   "language": "python",
   "name": "python3"
  },
  "language_info": {
   "codemirror_mode": {
    "name": "ipython",
    "version": 3
   },
   "file_extension": ".py",
   "mimetype": "text/x-python",
   "name": "python",
   "nbconvert_exporter": "python",
   "pygments_lexer": "ipython3",
   "version": "3.12.7"
  }
 },
 "nbformat": 4,
 "nbformat_minor": 4
}
