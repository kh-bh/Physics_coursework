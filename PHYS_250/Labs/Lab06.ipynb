{
 "cells": [
  {
   "cell_type": "markdown",
   "metadata": {},
   "source": [
    "# Lab 06 : Multidimensional Root Finding\n",
    "\n",
    "## Objectives\n",
    "\n",
    "The main objectives are as follows:\n",
    "* Develop the solution to a standard problem in multidimensional root finding.\n",
    "* Document and test this solution.\n"
   ]
  },
  {
   "cell_type": "markdown",
   "metadata": {},
   "source": [
    "## Initialization\n",
    "\n",
    "As always, initialize your environment now by loading all modules required and setting up the plotting environment."
   ]
  },
  {
   "cell_type": "code",
   "execution_count": 3,
   "metadata": {
    "deletable": false,
    "nbgrader": {
     "cell_type": "code",
     "checksum": "f7d7d67f5444865930ef2feeaad16e30",
     "grade": true,
     "grade_id": "cell-0d27b9d85e7d7dde",
     "locked": false,
     "points": 0,
     "schema_version": 3,
     "solution": true,
     "task": false
    }
   },
   "outputs": [],
   "source": [
    "import numpy as np\n",
    "import matplotlib.pyplot as plt"
   ]
  },
  {
   "cell_type": "markdown",
   "metadata": {
    "editable": true,
    "slideshow": {
     "slide_type": ""
    },
    "tags": []
   },
   "source": [
    "## Static Mass-Spring Configuration\n",
    "\n",
    "<div style='display: inline; float: right; padding-left: 3px'>\n",
    "    <img src=\"https://github.com/cwru-phys-250/p250-spring-2025/raw/main/figures/static_springs.png\" />\n",
    "</div>\n",
    "We will be studying a mass-spring system. Shown at the right is a form of this labeled as we would probably think about it if we were solving it analytically.\n",
    "\n",
    "Our goal is to find the static configuration for this system.\n",
    "\n",
    "As shown in the figure, this would mean finding the lengths, $\\ell_i$, and angles, $\\theta_i$, for the springs given the spring constants $k_i$, the natural lengths of the spring $\\ell_{0i}$, and the masses $m_j$. This is six quantities to determine. However, this is a perilous path to follow. Though quite educational, if we used this approach we would find it requires more work and that the \"naive\" implementation leads to an incorrect solution! Unfortunately we do not have time to pursue this (as previous students have done). Instead, we will jump to a better approach: use vectors. As we will continue to learn in our physics career, writing things in terms of vectors (and matrices) is far simpler.\n",
    "\n",
    "<div style='display: inline; float: right; padding-left: 3px'>\n",
    "    <img src=\"https://github.com/cwru-phys-250/p250-spring-2025/raw/main/figures/static_springs_vectors.png\" />\n",
    "</div>\n",
    "A more general form of the system is shown in the figure at the right. Here we allow for an arbitrary origin to our coordinate system and specify the locations of the supports as the vectors $\\vec{R}_j$ (we could easily have more than two) and the locations of massess as $\\vec{r}_j$ (again, we could easily have more than two). Our objective is to find these $\\vec{r}_j$ given $\\vec{R}_j$, and the same parameters for the springs, $k_i$, and the masses, $m_j$. The red arrows in the figure represent the length vectors for the springs, $\\vec\\ell_i$. Notice that now we are only solving for the positions of the masses. This means solving for four quantities, not six! We thus only need four equations, all of which come from Newton's second law.\n",
    "\n",
    "In practice we can make things a little simpler by placing the origin at the location of one of the two supports, rather than having it arbitrary. Doing so makes the $\\vec{R}_j$ simple vectors.\n",
    "\n",
    "### Problem Specification\n",
    "\n",
    "To solve this system we first need to know exactly what problem we want to solve. Vaguely it is to determine the static configuration. It is worth thinking about what that means for yourself. For the lab we will clearly specify the system along with what input will be given and what output is to be produced. You will be \"guided\" on how to think about and set up this problem. That does not mean this will be the best approach.\n",
    "\n",
    "When solving a problem we should try to be as general as possible. Rarely are we really interesting in the exact problem given, instead we are interested in a class of problems and would like to be able to solve any in that class. In this case we could imagine many generalizations to the system shown in the figure. We could allow for many changes.\n",
    "1. Arbitrary number of masses.\n",
    "2. Arbitrary number of connecting springs to each mass.\n",
    "3. Arbitrary number of support points.\n",
    "4. Three dimensional configuration.\n",
    "\n",
    "#### Initial Problem Specification\n",
    "\n",
    "We should include generalizations in our code if they do not make the solution significantly more complicated. For this lab you do not need to include such generalizations, but you should think about them.\n",
    "\n",
    "Our problem will be: given two masses, $m_1$ and $m_2$, connected by three springs with spring constants $k_1$, $k_2$, and $k_3$ and natural lengths $\\ell_{0,1}$, $\\ell_{0,2}$, and $\\ell_{0,3}$ at two support points separated by a distance $d$, determine the locations of the two masses $(x_j, y_j)$, in the static configuration.\n",
    "\n",
    "#### Dimensionless Form\n",
    "\n",
    "Actually, before proceeding we can do more than that. As is almost always the case we need to worry about units. Yet units should not matter. In fact, in the problem given does it matter if the distance between the support points is 1 cm, 1 meter, 1 mile, *etc.*? No! In general it is always best to work in terms of dimensionless quantities, that is, quantities that are relative to each other. In this case we really do not care what $d$ is, all we really care about is how all the lengths in this system compare to $d$. This means we can think of measuring all lengths in units of $d$, or equivalently that we will specify the natural lengths as the ratio $\\ell_{0,i}/d$ and find the locations of the masses in units of $d$, e.g., $x_j/d$, as our solution. Effectively this means that we can \"just set\" $d=1$ and when we say, for example, that $\\ell_{0,1}=1.5$ we mean that $\\ell_{0,1}=1.5 d$. Similarly it is convenient to specify the masses in terms of some mass unit, it really does not matter what it is. Let us call this mass $M$. We will thus always specify things as a ratio of masses. To make this more clear let us define $\\mu_j \\equiv m_j/M$. Finally, instead of specifying the spring constants in some units we can normalize them with this mass scale too by defining $\\kappa_i \\equiv \\frac{k_i d}{M g}$, where $g$ is the gravitational constant.\n",
    "\n",
    "#### Final Problem Specification\n",
    "\n",
    "The new statement of our problem is as follows. Given two normalize masses, $\\mu_j$, and three springs with normalized spring constants, $\\kappa_i$, and natural lengths, $\\ell_{0,i}$ in units of $d$, determine in the static configuration the positions of the two masses $(x_j, y_j)$ in units of $d$."
   ]
  },
  {
   "cell_type": "markdown",
   "metadata": {},
   "source": [
    "### System of Equations\n",
    "\n",
    "We need to find a total of four quantities, $x_j$ and $y_j$ for each of the two masses, so we need four equations to solve. Ultimately we will be able to write these equations in the form\n",
    "$$ \\vec{f}(\\vec{y}) = 0 $$\n",
    "and our goal will be to find the $\\vec{y}$ that solves this system of nonlinear equations.\n",
    "\n",
    "To begin we need the system of equations. You will derive them and document them here.\n",
    "\n",
    "What does it mean to \"document\"? You should give enough information that either you, or a classmate, could easily follow the steps and reproduce your results. This means you should not just give the final equations without any discussion/description, nor should you provide step-by-step algebraic manipulations. Instead you should determine what are the key ideas, what are the key steps, what intermediate steps are worth seeings, and finally, what is the final result."
   ]
  },
  {
   "cell_type": "markdown",
   "metadata": {},
   "source": [
    "Derive a system of nonlinear equations of the form \"left-hand side equals zero\" for the mass-spring system. Express your equations in terms of the quantities $x_j$ and $y_j$ given the inputs $\\ell_{0,i}$, $\\kappa_i$, and $\\mu_j$. Clearly describe your solution and document your equations giving their final form as a system of four equations, all written using `Markdown` and LaTeX. As good, young physicists your first thought will be to draw free-body diagrams. Follow the usual procedure you would from introductory physics and describe it below."
   ]
  },
  {
   "cell_type": "markdown",
   "metadata": {
    "deletable": false,
    "nbgrader": {
     "cell_type": "markdown",
     "checksum": "c6bc1e153d7d22bdfc15ba6cdbb47ed7",
     "grade": true,
     "grade_id": "cell-75e9117d24ff0642",
     "locked": false,
     "points": 8,
     "schema_version": 3,
     "solution": true,
     "task": false
    }
   },
   "source": [
    "YOUR ANSWER HERE"
   ]
  },
  {
   "cell_type": "markdown",
   "metadata": {},
   "source": [
    "### Implementation of the System of Equations\n",
    "\n",
    "The next step is to implement these equations. The input of this function will include an array `y` that contains the current guess for the locations of the masses. You must chose (and document) an order in which this information is stored. (This is very similar to `solve_ivp`.)\n",
    "\n",
    "The function you write calculates your system of equations and returns it as a numpy array. What order should you write the equations in? It does not matter, however, you should make it easy to understand. You chose an order to write them in your documentation above, use the same order here! It will be far less confusing to the reader if you preserve this ordering. In other words, be consistent between your documentation and code!\n",
    "\n",
    "We will want our function to be \"vectorized\". This means we want our function to work even if `y` is given as a two dimensional array of shape $(4,N)$ for arbitrary $N$. In other words, there will be four rows and an arbitrary number of columns. If you write your function in the \"natural\" way with appropriate uses of things like `np.zeros_like`, it might \"just work\" but we may also need to be careful and will definitely need to test it."
   ]
  },
  {
   "cell_type": "markdown",
   "metadata": {},
   "source": [
    "Write a function to return the values of the left-side of your system of equations as a numpy array. Your function must be of the form\n",
    "```\n",
    "def static_conditions(y, l0, kappa, mu):\n",
    "```\n",
    "where `y` is ordered as you choose and document, `l0` is an array containing the natural lengths of the spring (in units of $d$), `kappa` are the normalized spring constants, and `mu` are the normalized masses. **Clearly document your code.** (Of course you will not use any loops, since none are needed.)"
   ]
  },
  {
   "cell_type": "code",
   "execution_count": 1,
   "metadata": {
    "deletable": false,
    "nbgrader": {
     "cell_type": "code",
     "checksum": "1b02b4c59261373c6c6fe3ea7e252ecf",
     "grade": true,
     "grade_id": "cell-10645597b67f2eea",
     "locked": false,
     "points": 4,
     "schema_version": 3,
     "solution": true,
     "task": false
    }
   },
   "outputs": [
    {
     "ename": "NameError",
     "evalue": "name 'np' is not defined",
     "output_type": "error",
     "traceback": [
      "\u001b[1;31m---------------------------------------------------------------------------\u001b[0m",
      "\u001b[1;31mNameError\u001b[0m                                 Traceback (most recent call last)",
      "Cell \u001b[1;32mIn[1], line 31\u001b[0m\n\u001b[0;32m     28\u001b[0m     Massloc[\u001b[38;5;241m3\u001b[39m] \u001b[38;5;241m=\u001b[39m \u001b[38;5;241m-\u001b[39mmu[\u001b[38;5;241m1\u001b[39m] \u001b[38;5;241m*\u001b[39m normal_r2r1 \u001b[38;5;241m*\u001b[39m normal_r2 \u001b[38;5;241m+\u001b[39m (normal_r2r1 \u001b[38;5;241m*\u001b[39m kappa[\u001b[38;5;241m1\u001b[39m] \u001b[38;5;241m*\u001b[39m r2y \u001b[38;5;241m*\u001b[39m (normal_r2 \u001b[38;5;241m-\u001b[39m l0[\u001b[38;5;241m1\u001b[39m])) \u001b[38;5;241m-\u001b[39m (normal_r2 \u001b[38;5;241m*\u001b[39m kappa[\u001b[38;5;241m2\u001b[39m] \u001b[38;5;241m*\u001b[39m np\u001b[38;5;241m.\u001b[39mabs(r2y\u001b[38;5;241m-\u001b[39mr1y)) \u001b[38;5;241m*\u001b[39m (normal_r2r1 \u001b[38;5;241m-\u001b[39m l0[\u001b[38;5;241m2\u001b[39m])\n\u001b[0;32m     29\u001b[0m     \u001b[38;5;28;01mreturn\u001b[39;00m Massloc\n\u001b[1;32m---> 31\u001b[0m static_conditions(\u001b[43mnp\u001b[49m\u001b[38;5;241m.\u001b[39marray([[\u001b[38;5;241m0\u001b[39m,\u001b[38;5;241m-\u001b[39m\u001b[38;5;241m1\u001b[39m,\u001b[38;5;241m1\u001b[39m,\u001b[38;5;241m-\u001b[39m\u001b[38;5;241m1\u001b[39m],[\u001b[38;5;241m0\u001b[39m,\u001b[38;5;241m-\u001b[39m\u001b[38;5;241m1\u001b[39m,\u001b[38;5;241m1\u001b[39m,\u001b[38;5;241m-\u001b[39m\u001b[38;5;241m1\u001b[39m]]),np\u001b[38;5;241m.\u001b[39marray([\u001b[38;5;241m1\u001b[39m,\u001b[38;5;241m1\u001b[39m,\u001b[38;5;241m1\u001b[39m]),np\u001b[38;5;241m.\u001b[39marray([\u001b[38;5;241m1\u001b[39m,\u001b[38;5;241m1\u001b[39m,\u001b[38;5;241m1\u001b[39m]),np\u001b[38;5;241m.\u001b[39marray([\u001b[38;5;241m1\u001b[39m,\u001b[38;5;241m1\u001b[39m,\u001b[38;5;241m1\u001b[39m]))\n",
      "\u001b[1;31mNameError\u001b[0m: name 'np' is not defined"
     ]
    }
   ],
   "source": [
    "def static_conditions(y, l0, kappa, mu):\n",
    "    \"\"\"\n",
    "    Inputs:\n",
    "        y: Array of values that we have chosen in the order of \n",
    "            [r1x, r1y, r2x, r2y] as a column vector with N columns\n",
    "        l0: Array that contains the natural lengths of the spring in units of d in the order of [l01, l02, l03]\n",
    "        kappa: Array of normalized spring constants in the order of [kappa_1, kappa_2, kappa_3]\n",
    "        mu: Array of mu values in the order of [mu_1, mu_2]\n",
    "\n",
    "    Returns:\n",
    "        An array of size 4 x N that is equal to 0\n",
    "    \"\"\"\n",
    "    yt=y.T\n",
    "    Massloc=np.zeros_like(yt)\n",
    "    r1x=yt[0]\n",
    "    r1y=yt[1]\n",
    "    r2x=yt[2]\n",
    "    r2y=yt[3]\n",
    "    r1 = np.array([r1x,r1y])\n",
    "    r2 = np.array([r2x,r2y])\n",
    "    normal_r2r1 = la.norm(r2 - r1,axis=0)\n",
    "    normal_r1 = la.norm(r1,axis=0)\n",
    "    normal_r2 = la.norm(r2,axis=0)\n",
    "   \n",
    "    Massloc[0] = -normal_r2r1 * kappa[0] *r1x* (normal_r1 - l0[0]) + normal_r1 * kappa[2] * np.abs(r2x-r1x) * (normal_r2r1 - l0[2])\n",
    "    Massloc[1] = -mu[0] * normal_r2r1 * normal_r1 + (normal_r2r1 * kappa[0] * r1y * (normal_r1 - l0[0])) + (normal_r1 * kappa[2] * np.abs(r2y-r1y)) * (normal_r2r1 - l0[2])\n",
    "    Massloc[2] = -kappa[1] * normal_r2r1 * r2x * (normal_r2 - l0[1]) + kappa[2] * normal_r2 * np.abs(r2x-r1x) * (normal_r2r1 - l0[2])\n",
    "    Massloc[3] = -mu[1] * normal_r2r1 * normal_r2 + (normal_r2r1 * kappa[1] * r2y * (normal_r2 - l0[1])) - (normal_r2 * kappa[2] * np.abs(r2y-r1y)) * (normal_r2r1 - l0[2])\n",
    "    return Massloc\n",
    "\n",
    "static_conditions(np.array([[0,-1,1,-1],[0,-1,1,-1]]),np.array([1,1,1]),np.array([1,1,1]),np.array([1,1,1]))"
   ]
  },
  {
   "cell_type": "markdown",
   "metadata": {},
   "source": [
    "## Newton-Raphson Method\n",
    "\n",
    "As discussed in the lecture and shown in the example this week, we can use the Newton-Raphson method to solve a system of non-linear equations. We saw that the Newton-Raphson method is an iterative algorithm. Let $\\vec y_n$ be a guess for the desired solution.  An improved guess is given by\n",
    "$$ \\vec y_{n+1} = \\vec y_n + \\Delta\\vec y = \\vec y_n - \\mathsf{J}_{\\vec f}^{-1}(\\vec y) \\vec f(\\vec y), $$\n",
    "where $\\mathsf{J}_{\\vec f}(\\vec y)$ is the Jacobian matrix. From an initial guess, $\\vec y_0$, we iteratively improve our estimate and stop when convergence has been obtained, that is, when the correction becomes sufficiently small."
   ]
  },
  {
   "cell_type": "markdown",
   "metadata": {},
   "source": [
    "### Jacobian Matrix\n",
    "\n",
    "As we have seen, the Jacobian matrix is the matrix of first derivatives of the function. Written more explicitly\n",
    "$$\n",
    "\\mathsf{J}_{\\vec f} (\\vec y) = \\begin{pmatrix}\n",
    "\\frac{\\partial f_1}{\\partial y_1} & \\frac{\\partial f_1}{\\partial y_2} & \\cdots \\\\\n",
    "\\frac{\\partial f_2}{\\partial y_1} & \\frac{\\partial f_2}{\\partial y_2} & \\cdots \\\\\n",
    "\\vdots & \\vdots & \\ddots\n",
    "\\end{pmatrix} .\n",
    "$$\n",
    "\n",
    "This matrix can be calculated analytically or numerically. Just as in the prelab, we will do so numerically using center differencing. Thus, just knowing $\\vec f(\\vec y)$ and step sizes $\\vec h$ (potentially different step sizes for each coordinate) we can construct the Jacobian matrix. Here you can use your work from the prelab with a small generalization."
   ]
  },
  {
   "cell_type": "markdown",
   "metadata": {},
   "source": [
    "Write a function for calculating the Jacobian matrix at a point $\\vec y$ using center differencing with step sizes $\\vec h$ for a system of equations described by a function $\\vec f(\\vec y)$. The idea is the same as in the prelab, but here we now allow for this function to take extra arguments. Though we could require the use of `lambda` function, we will not, we will instead use `args`. As always, document your function!"
   ]
  },
  {
   "cell_type": "code",
   "execution_count": null,
   "metadata": {
    "deletable": false,
    "nbgrader": {
     "cell_type": "code",
     "checksum": "4b9478e31a66231d5149c61cc8949c2c",
     "grade": true,
     "grade_id": "cell-7e6da4edf256798c",
     "locked": false,
     "points": 3,
     "schema_version": 3,
     "solution": true,
     "task": false
    }
   },
   "outputs": [],
   "source": [
    "def Jacobian(f, y, h, args=()):\n",
    "# YOUR CODE HERE\n",
    "raise NotImplementedError()"
   ]
  },
  {
   "cell_type": "markdown",
   "metadata": {},
   "source": [
    "### Newton-Raphson Implementation\n",
    "\n",
    "We can now finally implement the Newton-Raphson method where we will calculate the Jacobian numerically. As we have done for the Jacobian itself, this can be written in a generic way. Since the Newton-Raphson method works for any set of functions and associated Jacobian matrix, we can write an implementation that is independent of the particular problem we are solving. Here we can pass in all the relevant functions. In writing such a generic implementation, we allow for the specification of the desired convergence tolerances (absolute in `atol` and relative in `rtol`). Finally, as noted in the example from this week, whenever we have an algorithm that depends on a convergence criterion to end we must specify a maximum number of iterations to allow. Without this it is possible (and even likely) that we will encounter a case that never converges and thus the algorithm will never complete!"
   ]
  },
  {
   "cell_type": "markdown",
   "metadata": {},
   "source": [
    "Implement the Newton-Raphson iteration scheme in a function of the form given below.\n",
    "\n",
    "Here `f` is Python function that evaluates the set of functions for which we are finding roots and will be called as `f(y, *args)`, `Jacobian` computes the Jacobian matrix for the set of functions using center differencing with steps sizes given in `h` and will be called as defined above, `y0` is our initial guess at the roots, `itermax` is the maximum number of iterations allowed, and `atol` and `rtol` are the desired absolute and relative tolerances.\n",
    "\n",
    "Your function should return the best estimate of the roots (in a NumPy array) and the number of iterations required, both of these in a tuple."
   ]
  },
  {
   "cell_type": "code",
   "execution_count": null,
   "metadata": {
    "deletable": false,
    "nbgrader": {
     "cell_type": "code",
     "checksum": "fcbadba49f41604e666b1811e853bdfd",
     "grade": true,
     "grade_id": "cell-2920a00ee217a6b5",
     "locked": false,
     "points": 4,
     "schema_version": 3,
     "solution": true,
     "task": false
    }
   },
   "outputs": [],
   "source": [
    "def newton_raphson_iterate(f, Jacobian, y0, h, itermax, args=(), atol=1e-10, rtol=1e-10):\n",
    "# YOUR CODE HERE\n",
    "raise NotImplementedError()"
   ]
  },
  {
   "cell_type": "markdown",
   "metadata": {},
   "source": [
    "### Test Case 1:\n",
    "\n",
    "As a first test, suppose that the two masses hang directly below the support on the right. We can analytically determine all the relevant parameters. To do so we need to choose $\\ell_{0,1}$ such that there is no tension. Do *not* choose $\\kappa_1 = 0$ as this would lead to a weaker test; we know the correct value for $\\ell_{10}$ independent of the choice of $\\kappa_1$.\n",
    "\n",
    "First solve for positions. the $x$ position of both masses is easy: $x_j=1$. What about $y$? For arbitrary values of $\\kappa_i$, $\\ell_{20}$, $\\ell_{30}$ determine values for $y_j$ and $\\ell_{0,1}$. Document these choices below using LaTeX."
   ]
  },
  {
   "cell_type": "markdown",
   "metadata": {
    "deletable": false,
    "nbgrader": {
     "cell_type": "markdown",
     "checksum": "fc177027bfdc509136e949eac9cf7efa",
     "grade": true,
     "grade_id": "cell-a3058d512be11858",
     "locked": false,
     "points": 3,
     "schema_version": 3,
     "solution": true,
     "task": false
    }
   },
   "source": [
    "YOUR ANSWER HERE"
   ]
  },
  {
   "cell_type": "markdown",
   "metadata": {},
   "source": [
    "Test your `static_conditions` function using the results from above for some choice of inputs. Include the test using `assert`."
   ]
  },
  {
   "cell_type": "code",
   "execution_count": null,
   "metadata": {
    "deletable": false,
    "nbgrader": {
     "cell_type": "code",
     "checksum": "dd872f0a38475df14f200844cacf6bb1",
     "grade": true,
     "grade_id": "cell-f53e90f890989159",
     "locked": false,
     "points": 2,
     "schema_version": 3,
     "solution": true,
     "task": false
    }
   },
   "outputs": [],
   "source": [
    "# YOUR CODE HERE\n",
    "raise NotImplementedError()"
   ]
  },
  {
   "cell_type": "markdown",
   "metadata": {},
   "source": [
    "### Test Case 2:\n",
    "\n",
    "There are more tests we can do. What is another simple system we can consider? Define another simple test case *that is different from the previous test case*. This case should test as much as possible yet must remain simple. You should be able to analytically determine all the required parameters based on arbitrary choices of inputs. Similar to test case 1, describe the physical configuration, the free parameters (those to be chosen arbitrarily), and expressions for the derived parameters.\n",
    "\n",
    "Describe the physical system and fully document the parameters using Markdown and LaTeX.\n",
    "\n",
    "*Note:* The masses hanging vertically down below the left support is not very different from test case 1. We can come up with something different."
   ]
  },
  {
   "cell_type": "markdown",
   "metadata": {
    "deletable": false,
    "nbgrader": {
     "cell_type": "markdown",
     "checksum": "c9061b284ff8e601365eb5274befa645",
     "grade": true,
     "grade_id": "cell-0395394b24236b95",
     "locked": false,
     "points": 5,
     "schema_version": 3,
     "solution": true,
     "task": false
    }
   },
   "source": [
    "YOUR ANSWER HERE"
   ]
  },
  {
   "cell_type": "markdown",
   "metadata": {},
   "source": [
    "Implement this test (showing that your code works) using `assert` as was done for test case 1."
   ]
  },
  {
   "cell_type": "code",
   "execution_count": null,
   "metadata": {
    "deletable": false,
    "nbgrader": {
     "cell_type": "code",
     "checksum": "8ca43a125ff4fc7de8bf5f018a316a64",
     "grade": true,
     "grade_id": "cell-dd3fb1eaa293d1aa",
     "locked": false,
     "points": 2,
     "schema_version": 3,
     "solution": true,
     "task": false
    }
   },
   "outputs": [],
   "source": [
    "# YOUR CODE HERE\n",
    "raise NotImplementedError()"
   ]
  },
  {
   "cell_type": "markdown",
   "metadata": {},
   "source": [
    "### Visualization\n",
    "\n",
    "To help with testing we can visualize the system. We will do so using matplotlib (even though this really is a drawing, not a plot, it will work well enough).\n",
    "\n",
    "Given the positions of the two masses *in the same order as you chose for `static_conditions`* produce a figure representing the system. In this figure include\n",
    "- the location of the supports,\n",
    "- the locations of the masses,\n",
    "- lines for the springs.\n",
    "\n",
    "This is just a simple visualization to help us while testing. You do not need to worry about making it look too good.\n",
    "\n",
    "Write a function to do this visualization and show use it to show one (or both) of the test cases from above."
   ]
  },
  {
   "cell_type": "code",
   "execution_count": 8,
   "metadata": {
    "deletable": false,
    "nbgrader": {
     "cell_type": "code",
     "checksum": "b271307f4aa43df7366808b2f6fbf048",
     "grade": true,
     "grade_id": "cell-fb6e4315846796f8",
     "locked": false,
     "points": 3,
     "schema_version": 3,
     "solution": true,
     "task": false
    }
   },
   "outputs": [
    {
     "ename": "ValueError",
     "evalue": "The truth value of an array with more than one element is ambiguous. Use a.any() or a.all()",
     "output_type": "error",
     "traceback": [
      "\u001b[1;31m---------------------------------------------------------------------------\u001b[0m",
      "\u001b[1;31mValueError\u001b[0m                                Traceback (most recent call last)",
      "Cell \u001b[1;32mIn[8], line 6\u001b[0m\n\u001b[0;32m      2\u001b[0m ax\u001b[38;5;241m=\u001b[39mfig\u001b[38;5;241m.\u001b[39madd_subplot(\u001b[38;5;241m111\u001b[39m)\n\u001b[0;32m      4\u001b[0m x \u001b[38;5;241m=\u001b[39m [\u001b[38;5;241m0\u001b[39m,\u001b[38;5;241m1\u001b[39m]\n\u001b[1;32m----> 6\u001b[0m \u001b[43mplt\u001b[49m\u001b[38;5;241;43m.\u001b[39;49m\u001b[43maxhline\u001b[49m\u001b[43m(\u001b[49m\u001b[43mx\u001b[49m\u001b[43m)\u001b[49m\n",
      "File \u001b[1;32mc:\\Users\\bhoom\\Documents\\GitHub\\Physics_coursework\\.venv\\Lib\\site-packages\\matplotlib\\pyplot.py:2920\u001b[0m, in \u001b[0;36maxhline\u001b[1;34m(y, xmin, xmax, **kwargs)\u001b[0m\n\u001b[0;32m   2918\u001b[0m \u001b[38;5;129m@_copy_docstring_and_deprecators\u001b[39m(Axes\u001b[38;5;241m.\u001b[39maxhline)\n\u001b[0;32m   2919\u001b[0m \u001b[38;5;28;01mdef\u001b[39;00m\u001b[38;5;250m \u001b[39m\u001b[38;5;21maxhline\u001b[39m(y: \u001b[38;5;28mfloat\u001b[39m \u001b[38;5;241m=\u001b[39m \u001b[38;5;241m0\u001b[39m, xmin: \u001b[38;5;28mfloat\u001b[39m \u001b[38;5;241m=\u001b[39m \u001b[38;5;241m0\u001b[39m, xmax: \u001b[38;5;28mfloat\u001b[39m \u001b[38;5;241m=\u001b[39m \u001b[38;5;241m1\u001b[39m, \u001b[38;5;241m*\u001b[39m\u001b[38;5;241m*\u001b[39mkwargs) \u001b[38;5;241m-\u001b[39m\u001b[38;5;241m>\u001b[39m Line2D:\n\u001b[1;32m-> 2920\u001b[0m     \u001b[38;5;28;01mreturn\u001b[39;00m \u001b[43mgca\u001b[49m\u001b[43m(\u001b[49m\u001b[43m)\u001b[49m\u001b[38;5;241;43m.\u001b[39;49m\u001b[43maxhline\u001b[49m\u001b[43m(\u001b[49m\u001b[43my\u001b[49m\u001b[38;5;241;43m=\u001b[39;49m\u001b[43my\u001b[49m\u001b[43m,\u001b[49m\u001b[43m \u001b[49m\u001b[43mxmin\u001b[49m\u001b[38;5;241;43m=\u001b[39;49m\u001b[43mxmin\u001b[49m\u001b[43m,\u001b[49m\u001b[43m \u001b[49m\u001b[43mxmax\u001b[49m\u001b[38;5;241;43m=\u001b[39;49m\u001b[43mxmax\u001b[49m\u001b[43m,\u001b[49m\u001b[43m \u001b[49m\u001b[38;5;241;43m*\u001b[39;49m\u001b[38;5;241;43m*\u001b[39;49m\u001b[43mkwargs\u001b[49m\u001b[43m)\u001b[49m\n",
      "File \u001b[1;32mc:\\Users\\bhoom\\Documents\\GitHub\\Physics_coursework\\.venv\\Lib\\site-packages\\matplotlib\\axes\\_axes.py:805\u001b[0m, in \u001b[0;36mAxes.axhline\u001b[1;34m(self, y, xmin, xmax, **kwargs)\u001b[0m\n\u001b[0;32m    803\u001b[0m \u001b[38;5;66;03m# Strip away the units for comparison with non-unitized bounds.\u001b[39;00m\n\u001b[0;32m    804\u001b[0m yy, \u001b[38;5;241m=\u001b[39m \u001b[38;5;28mself\u001b[39m\u001b[38;5;241m.\u001b[39m_process_unit_info([(\u001b[38;5;124m\"\u001b[39m\u001b[38;5;124my\u001b[39m\u001b[38;5;124m\"\u001b[39m, y)], kwargs)\n\u001b[1;32m--> 805\u001b[0m scaley \u001b[38;5;241m=\u001b[39m \u001b[43m(\u001b[49m\u001b[43myy\u001b[49m\u001b[43m \u001b[49m\u001b[38;5;241;43m<\u001b[39;49m\u001b[43m \u001b[49m\u001b[43mymin\u001b[49m\u001b[43m)\u001b[49m\u001b[43m \u001b[49m\u001b[38;5;129;43;01mor\u001b[39;49;00m\u001b[43m \u001b[49m\u001b[43m(\u001b[49m\u001b[43myy\u001b[49m\u001b[43m \u001b[49m\u001b[38;5;241;43m>\u001b[39;49m\u001b[43m \u001b[49m\u001b[43mymax\u001b[49m\u001b[43m)\u001b[49m\n\u001b[0;32m    807\u001b[0m trans \u001b[38;5;241m=\u001b[39m \u001b[38;5;28mself\u001b[39m\u001b[38;5;241m.\u001b[39mget_yaxis_transform(which\u001b[38;5;241m=\u001b[39m\u001b[38;5;124m'\u001b[39m\u001b[38;5;124mgrid\u001b[39m\u001b[38;5;124m'\u001b[39m)\n\u001b[0;32m    808\u001b[0m l \u001b[38;5;241m=\u001b[39m mlines\u001b[38;5;241m.\u001b[39mLine2D([xmin, xmax], [y, y], transform\u001b[38;5;241m=\u001b[39mtrans, \u001b[38;5;241m*\u001b[39m\u001b[38;5;241m*\u001b[39mkwargs)\n",
      "\u001b[1;31mValueError\u001b[0m: The truth value of an array with more than one element is ambiguous. Use a.any() or a.all()"
     ]
    },
    {
     "data": {
      "image/png": "[encoded data removed]",
      "text/plain": [
       "<Figure size 640x480 with 1 Axes>"
      ]
     },
     "metadata": {},
     "output_type": "display_data"
    }
   ],
   "source": [
    "fig=plt.figure()\n",
    "ax=fig.add_subplot(111)\n",
    "\n",
    "x = [0,1]\n",
    "\n",
    "plt.axhline(x)\n"
   ]
  },
  {
   "cell_type": "markdown",
   "metadata": {},
   "source": [
    "### Application\n",
    "\n",
    "We are now ready to apply our code to an unknown system. Consider the following. For the springs let the natural lengths in units of $d$ be given by $\\ell_{0,1}=0.7$, $\\ell_{0,2}=0.45$, and $\\ell_{0,3}=0.2$, and the normalized spring constants be $\\kappa_1=1.1$, $\\kappa_2=2$, and $\\kappa_3=0.6$. Let the normalized masses be $\\mu_1=3$ and $\\mu_2=1.4$. Make some reasonable initial guesses for the locations of the masses. Finally, use step sizes of $1\\times10^{-5}$ for all the derivatives when calculating the Jacobian matrix."
   ]
  },
  {
   "cell_type": "markdown",
   "metadata": {},
   "source": [
    "Implement the above choices and use your code to solve for the static configuration. Print the final results for the locations of the masses (clearly showing what quantities are being printed, of course) along with the number of iterations required to converge to a solution. Also produce a visualization of the static configuration. How do you know if the algorithm converged?"
   ]
  },
  {
   "cell_type": "code",
   "execution_count": null,
   "metadata": {
    "deletable": false,
    "nbgrader": {
     "cell_type": "code",
     "checksum": "d7c3169738f4e65c5a30eb797047b871",
     "grade": true,
     "grade_id": "cell-07578d07ac017568",
     "locked": false,
     "points": 6,
     "schema_version": 3,
     "solution": true,
     "task": false
    }
   },
   "outputs": [],
   "source": [
    "# YOUR CODE HERE\n",
    "raise NotImplementedError()"
   ]
  },
  {
   "cell_type": "markdown",
   "metadata": {},
   "source": [
    "## Member Participation\n",
    "\n",
    "See Lab00 for instructions on turning in labs. We will follow this procedure the entire semester.\n",
    "\n",
    "In the following cell enter the *Case ID* for each student in the group who participated in this lab. Again, see Lab00 for more details. It is expected that you have read and understood those details."
   ]
  },
  {
   "cell_type": "markdown",
   "metadata": {
    "editable": true,
    "slideshow": {
     "slide_type": ""
    },
    "tags": []
   },
   "source": []
  }
 ],
 "metadata": {
  "anaconda-cloud": {},
  "authors": [
   {
    "name": "Craig J Copi",
    "semester": "Spring 2025"
   }
  ],
  "kernelspec": {
   "display_name": ".venv",
   "language": "python",
   "name": "python3"
  },
  "language_info": {
   "codemirror_mode": {
    "name": "ipython",
    "version": 3
   },
   "file_extension": ".py",
   "mimetype": "text/x-python",
   "name": "python",
   "nbconvert_exporter": "python",
   "pygments_lexer": "ipython3",
   "version": "3.12.7"
  }
 },
 "nbformat": 4,
 "nbformat_minor": 4
}
