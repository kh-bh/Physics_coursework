{
 "cells": [
  {
   "cell_type": "markdown",
   "metadata": {},
   "source": [
    "# PreLab 04 : Numerical Integration\n",
    "\n",
    "## Objectives\n",
    "\n",
    "The main objectives of this lab are as follows.\n",
    "\n",
    "- Learn the Zen of Python.\n",
    "- Discover the incredible power of `scipy.integrate.quad`."
   ]
  },
  {
   "cell_type": "markdown",
   "metadata": {},
   "source": [
    "## Initialization\n",
    "\n",
    "As always you should add initialization to the top of your notebook."
   ]
  },
  {
   "cell_type": "code",
   "execution_count": 27,
   "metadata": {
    "deletable": false,
    "nbgrader": {
     "cell_type": "code",
     "checksum": "5d1ba5a21920a12891fee4d3faf11638",
     "grade": true,
     "grade_id": "cell-5050b1852e504821",
     "locked": false,
     "points": 0,
     "schema_version": 3,
     "solution": true
    }
   },
   "outputs": [
    {
     "name": "stdout",
     "output_type": "stream",
     "text": [
      "1.15.1\n"
     ]
    }
   ],
   "source": [
    "import numpy as np\n",
    "import scipy\n",
    "import scipy.integrate as integ\n",
    "import matplotlib.pyplot as plt\n",
    "print(scipy.__version__)\n"
   ]
  },
  {
   "cell_type": "markdown",
   "metadata": {},
   "source": [
    "## Doing Things the \"Right Way\"\n",
    "\n",
    "Why are we being so insistent that notebooks should be written in specific ways, enforcing all sorts of \"rules\" on what you do? There are a number of reasons that could be given, but, in the end, they reduce to this being the right way to create sustainable documents. In research it is often the case that we need to revisit calculations performed months or even years earlier. This could be due to a referee's comment on a paper suggesting some small change to try or it could be that we are working on a similar project and want to reuse code from the past. In this course it could be that you need to look back at the labs while working on the computational portion of the midterm or final exams! In such cases we typically will have forgotten the details of what we had been working on and instead only have the code sitting there. Notebooks make it much easier to leave this code in a documented, usable form. Even so, if we have implicitly made assumptions about the environment in which the code will be run, these assumptions will have been long since forgotten when we come back to the code, and thus we would need to spend a lot of time trying to figure out \"what we were thinking\" at the time. If instead we are explicit about all these details it will be much easier to figure out what the code is doing and how to use/reuse it.\n",
    "\n",
    "In Python these ideas are even more strongly ingrained in the community. So much so that there is a \"Zen of Python\", a set of mantras to follow which will lead to better coding. Though you could search for this online, it is provided with Python itself.\n",
    "\n",
    "  Run \n",
    "  ```python\n",
    "  import this\n",
    "  ```\n",
    "  in the cell below."
   ]
  },
  {
   "cell_type": "code",
   "execution_count": 28,
   "metadata": {},
   "outputs": [],
   "source": [
    "import this"
   ]
  },
  {
   "cell_type": "markdown",
   "metadata": {},
   "source": [
    "Now that your life has been changed we can proceed with the rest of the semeter ...."
   ]
  },
  {
   "cell_type": "markdown",
   "metadata": {},
   "source": [
    "## Homework!\n",
    "\n",
    "Read the homework and solve problem 1! Though it is not needed for this prelab and there is nothing you need to include here, you must read and solve this problem for the lab. You need a result from it to complete the lab. Note that this also means that you *will* get part of the homework correct since you will test the result in the lab."
   ]
  },
  {
   "cell_type": "markdown",
   "metadata": {},
   "source": [
    "## Romberg Integration?\n",
    "\n",
    "Romberg integration is an example of using Richardson extrapolation in integration.\n",
    "For many year `scipy.integrate` had a function called `romberg` to perform Romberg integration of a function.\n",
    "Since I expect most of us are using scipy version 1.14 or older, I expect we still have this function.\n",
    "You should look up its documentation.\n",
    "If you try to use it you will get a warning telling you that the function is deprecated and that it will be removed in version 1.15.\n",
    "Shockingly, **this function was actually removed** from scipy in version 1.15!\n",
    "Obviously, we should never use it in new code.\n",
    "\n",
    "On the other hand, `scipy.integrate.romb` still exists.\n",
    "It does something similar.\n",
    "Look up its documentation.\n",
    "Briefly explain why it makes sense for this function to still exist but for the other version of the function to no longer exist.\n",
    "What is the difference between these two functions?\n",
    "Why is that important?"
   ]
  },
  {
   "cell_type": "markdown",
   "metadata": {
    "deletable": false,
    "nbgrader": {
     "cell_type": "markdown",
     "checksum": "d3b57080689429c5ca06a881e490ff47",
     "grade": true,
     "grade_id": "cell-d2e7b48c77afdcc6",
     "locked": false,
     "points": 0.25,
     "schema_version": 3,
     "solution": true,
     "task": false
    }
   },
   "source": [
    "scipy.integrate.romberg was a function that could be evaluated at arbitary points. It was a lot more specific than the current function, which is scipy.integrate.romb. This function performs Romberg Integration on precomputed function values. This (probably) makes it more efficent for cases where function values are already computed.\n",
    "We likely kept romb but removed romberg because romberg was redundent with integrate.quad while romb has a specific purpose. integration.romberg of a callable function or method while inegration.romb uses samples of a function, which is something that quad cannot do."
   ]
  },
  {
   "cell_type": "markdown",
   "metadata": {},
   "source": [
    "All that being said, we can still using Romberg integration through `scipy.integrate.romb`.\n",
    "We will explore its use (and some other issues) by considering the integral\n",
    "$$ \\int_0^\\phi \\sqrt{2-\\sin^2 x} \\,\\mathrm{d}x = \\sqrt{2} E\\!\\left( \\phi, \\frac{1}{2} \\right), $$\n",
    "where $E(\\phi,k)$ is the incomplete elliptic integral of the second kind.\n",
    "It is available in scipy as `scipy.special.ellipeinc`.\n",
    "\n",
    "Evaluate this integral for $\\phi=58$ using `romb` where we have evaluated the function at 1025 points.\n",
    "(The documentation for `romb` makes it clear why I chose a number of points of this form.)\n",
    "Print the resulting value and its fractional error.\n",
    "This error will be approximately $10^{-11}$."
   ]
  },
  {
   "cell_type": "code",
   "execution_count": 29,
   "metadata": {
    "deletable": false,
    "nbgrader": {
     "cell_type": "code",
     "checksum": "f3b8b7fa726a58f740bf1b376f1039c2",
     "grade": true,
     "grade_id": "cell-2750d4f863fa5376",
     "locked": false,
     "points": 0.25,
     "schema_version": 3,
     "solution": true,
     "task": false
    }
   },
   "outputs": [
    {
     "name": "stdout",
     "output_type": "stream",
     "text": [
      "Romberg Integration Result: 70.55391225773273\n",
      "Exact Solution: 70.55391225806629\n",
      "Fractional Error: 4.727662705761304e-12\n"
     ]
    }
   ],
   "source": [
    "def f(x):\n",
    "    return np.sqrt(2 - (np.sin(x)**2))\n",
    "\n",
    "phi = 58\n",
    "N = 1025\n",
    "x_vals = np.linspace(0, phi, N)\n",
    "f_vals = f(x_vals)\n",
    "\n",
    "romb_result = scipy.integrate.romb(f_vals, dx=x_vals[1] - x_vals[0])\n",
    "\n",
    "exact_result = np.sqrt(2) * scipy.special.ellipeinc(phi, 1/2)\n",
    "\n",
    "fractional_error_romb = abs(1 - (romb_result / exact_result))\n",
    "\n",
    "# Print results\n",
    "print(f\"Romberg Integration Result: {romb_result}\")\n",
    "print(f\"Exact Solution: {exact_result}\")\n",
    "print(f\"Fractional Error: {fractional_error_romb}\")\n"
   ]
  },
  {
   "cell_type": "markdown",
   "metadata": {},
   "source": [
    "Let us compare this to `quad`.\n",
    "Use `quad` to perform this integral.\n",
    "Do not change the default tolerance settings.\n",
    "**Only print** the value of the integral, the error estimate quad reports, the actual fractional error, and the total number of function evaluations required.\n",
    "Notice how the reported error and the actual error can differ significantly."
   ]
  },
  {
   "cell_type": "code",
   "execution_count": 30,
   "metadata": {
    "deletable": false,
    "nbgrader": {
     "cell_type": "code",
     "checksum": "12f04ddb01bc4ea7491b0035bb2d0857",
     "grade": true,
     "grade_id": "cell-1195664ee051e59d",
     "locked": false,
     "points": 0.25,
     "schema_version": 3,
     "solution": true,
     "task": false
    }
   },
   "outputs": [
    {
     "name": "stdout",
     "output_type": "stream",
     "text": [
      "Quad Integration Result: 70.55391225806716\n",
      "Exact Solution: 70.55391225806629\n",
      "Error for Quad from Function 9.372475279027874e-07\n",
      "Fractional Error: 1.2212453270876722e-14\n",
      "Number of Evaluations 1239\n"
     ]
    }
   ],
   "source": [
    "quad_result, quad_error_estimate, info = scipy.integrate.quad(f, 0, phi, full_output=True)\n",
    "\n",
    "fractional_error_quad = abs(1 - (quad_result / exact_result))\n",
    "\n",
    "num_function_evals = info['neval']\n",
    "\n",
    "\n",
    "print(f\"Quad Integration Result: {quad_result}\")\n",
    "print(f\"Exact Solution: {exact_result}\")\n",
    "print(f\"Error for Quad from Function {quad_error_estimate}\")\n",
    "print(f\"Fractional Error: {fractional_error_quad}\")\n",
    "print(f\"Number of Evaluations {num_function_evals}\")"
   ]
  },
  {
   "cell_type": "markdown",
   "metadata": {},
   "source": [
    "Though the above works and `quad` does a remarkable job with approximately the same number of function evaluations as we used with `romb`, this is not the most efficient way to calculate this integral.\n",
    "To see why first produce a quick plot of the integrand over the full range of the integral."
   ]
  },
  {
   "cell_type": "code",
   "execution_count": 31,
   "metadata": {
    "deletable": false,
    "nbgrader": {
     "cell_type": "code",
     "checksum": "0f99d71fc839e87e28e975ee189cd3c2",
     "grade": true,
     "grade_id": "cell-227cfd06b4fa22a5",
     "locked": false,
     "points": 0.25,
     "schema_version": 3,
     "solution": true
    }
   },
   "outputs": [
    {
     "data": {
      "image/png": "[encoded data removed]",
      "text/plain": [
       "<Figure size 800x500 with 1 Axes>"
      ]
     },
     "metadata": {},
     "output_type": "display_data"
    }
   ],
   "source": [
    "# Generate points\n",
    "x = np.linspace(0, phi, 500)\n",
    "y = f(x)\n",
    "\n",
    "# Plot the function\n",
    "plt.figure(figsize=(8, 5))\n",
    "plt.plot(x, y, label=r\"$\\sqrt{2 - \\sin^2 x}$\", color='b')\n",
    "plt.xlabel(\"x (radians)\")\n",
    "plt.ylabel(\"Integral Value\")\n",
    "plt.title(\"Plot of the Integral\")\n",
    "plt.grid(True)"
   ]
  },
  {
   "cell_type": "markdown",
   "metadata": {},
   "source": [
    "You will notice that the function oscillates over a number of complete periods.\n",
    "Determine the oscillation frequency of the integrand (this you can do analytically!), the number of complete oscillations of the integrand, and the remaining extra part of an incomplete period at the end of the integrals range.\n",
    "Print these results.\n",
    "(*Note:* Here it is useful to employ `//` for integer division (or the `int()` function) to get the integer part of a calculation and `%` for modular arithmetic.)"
   ]
  },
  {
   "cell_type": "code",
   "execution_count": 32,
   "metadata": {
    "deletable": false,
    "nbgrader": {
     "cell_type": "code",
     "checksum": "f1b2730f82567e77753563bf1e3a737a",
     "grade": true,
     "grade_id": "cell-c4f291c689c27cde",
     "locked": false,
     "points": 0.5,
     "schema_version": 3,
     "solution": true
    }
   },
   "outputs": [
    {
     "name": "stdout",
     "output_type": "stream",
     "text": [
      "Oscillation Frequency: 0.318310\n",
      "Number of Complete Oscillations: 18\n",
      "Remaining Part of Incomplete Period: 0.461973 radians\n"
     ]
    }
   ],
   "source": [
    "# Okay, so we know that the frequency of sin^2 is pi \n",
    "# This is because when sin^odd, then the period is 2pi, and when sin^even, the period is pi\n",
    "\n",
    "#We can find the frequency \n",
    "oscillation_frequency = 1 / np.pi\n",
    "\n",
    "#We can find all full osciallations and the rest\n",
    "num_complete_oscillations = int(phi * oscillation_frequency)\n",
    "remaining_fraction = phi / np.pi % 1\n",
    "\n",
    "# Print results\n",
    "print(f\"Oscillation Frequency: {oscillation_frequency:.6f}\")\n",
    "print(f\"Number of Complete Oscillations: {num_complete_oscillations}\")\n",
    "print(f\"Remaining Part of Incomplete Period: {remaining_fraction:.6f} radians\")"
   ]
  },
  {
   "cell_type": "markdown",
   "metadata": {},
   "source": [
    "It is more efficient to break up the complete integral into an integral over one period multiplied by the number of periods and an integral over the remaining part of a period.\n",
    "Again use `quad` to separately evaluate these two integrals and combine them to get the complete result.\n",
    "**Only print** the value of the total integral, its true fractional error, and the total number of function evaluations required in this case.\n",
    "(We will ignore the error estimates produced by `quad`, a dangerous habit to acquire.)"
   ]
  },
  {
   "cell_type": "code",
   "execution_count": 33,
   "metadata": {
    "deletable": false,
    "nbgrader": {
     "cell_type": "code",
     "checksum": "c58a6f171955590beb3bf0d8a274e6c3",
     "grade": true,
     "grade_id": "cell-e3ef113fa763258b",
     "locked": false,
     "points": 0.5,
     "schema_version": 3,
     "solution": true
    }
   },
   "outputs": [
    {
     "name": "stdout",
     "output_type": "stream",
     "text": [
      "The value of the integral when split up is 70.55391225806628\n",
      "The true fractional error is 2.220446049250313e-16\n",
      "The number of function evaluations with splitting the integral up 84\n"
     ]
    }
   ],
   "source": [
    "(quad_result_full_osc, quad_error_estimate_full, info_full_osc) = scipy.integrate.quad(f, 0, np.pi, full_output=True)\n",
    "num_function_evals_full = info_full_osc['neval']\n",
    "\n",
    "(quad_result_remaining_osc, quad_error_estimate_remain, info_remin_osc) = scipy.integrate.quad(f, 0, remaining_fraction * np.pi, full_output=True)\n",
    "num_function_evals_remain = info_remin_osc['neval']\n",
    "\n",
    "combined = (quad_result_full_osc * num_complete_oscillations) + (quad_result_remaining_osc)\n",
    "\n",
    "fractional_error_combined = np.abs(1 - (combined / exact_result))\n",
    "\n",
    "print(f\"The value of the integral when split up is {combined}\")\n",
    "print(f\"The true fractional error is {fractional_error_combined}\")\n",
    "print(f\"The number of function evaluations with splitting the integral up {num_function_evals_full + num_function_evals_remain}\")"
   ]
  },
  {
   "cell_type": "markdown",
   "metadata": {},
   "source": [
    "Be amazed!\n",
    "You should find a very accurate result from far fewer function evaluations!\n",
    "Explain why far fewer function evaluations are required."
   ]
  },
  {
   "cell_type": "markdown",
   "metadata": {
    "deletable": false,
    "nbgrader": {
     "cell_type": "markdown",
     "checksum": "c0de710a3785dda7b449faea7697331d",
     "grade": true,
     "grade_id": "cell-1300bab6d056de17",
     "locked": false,
     "points": 0.5,
     "schema_version": 3,
     "solution": true
    }
   },
   "source": [
    "Fewer function evaluations are needed because the integral when it is split up because there is only two time that the function has to evaluate and they are over very small values. It is more efficent overall to break up the complete integral and add the remaining part of the integeral. "
   ]
  },
  {
   "cell_type": "markdown",
   "metadata": {},
   "source": [
    "Note that we could do even better. By symmetry, as seen in your plot above, we could instead integrate over a half period instead of a full period. Feel free to repeat the above now using a half period  You should find even fewer function evaluations are required!\n",
    "\n",
    "**This is not required.** But will be included in the solutions."
   ]
  },
  {
   "cell_type": "code",
   "execution_count": 34,
   "metadata": {
    "deletable": false,
    "nbgrader": {
     "cell_type": "code",
     "checksum": "28b7a89c7c492465bfdb858382bc2c07",
     "grade": true,
     "grade_id": "cell-63e2e3bf5c325a74",
     "locked": false,
     "points": 0,
     "schema_version": 3,
     "solution": true
    }
   },
   "outputs": [],
   "source": [
    "# You are not required to use this cell.\n",
    "# If you like, you can delete the contents to avoid it raising an error\n",
    "# when you rerun the notebook."
   ]
  },
  {
   "cell_type": "markdown",
   "metadata": {},
   "source": [
    "## The Power of `quad`\n",
    "\n",
    "As noted in class, `scipy.integrate.quad` is an extremely powerful integration routine.\n",
    "Here we will study one set of features it provides without us even asking for it: the ability to handle divergences in the integrand at the end points of the integration range and integration over (semi-)infinite intervals."
   ]
  },
  {
   "attachments": {},
   "cell_type": "markdown",
   "metadata": {},
   "source": [
    "### Divergent Integrand\n",
    "\n",
    "Consider the integral\n",
    "$$ \\int_0^1 \\frac{\\mathrm{d}x}{\\sqrt{x}}. $$\n",
    "Notice that the integrand diverges for $x \\to 0$.\n",
    "You can perform this integral analytically. Do so! We will use the result below. \n",
    "\n",
    "Evaluate this integral with `quad`.\n",
    "Print the value of the integral and the fractional error in the result (since you know the true value of the integral ...).\n",
    "You should find it handles the integral with no problem and produces a very accurate result!"
   ]
  },
  {
   "cell_type": "code",
   "execution_count": 35,
   "metadata": {
    "deletable": false,
    "nbgrader": {
     "cell_type": "code",
     "checksum": "62263cb636458832aa557217b6ba1216",
     "grade": true,
     "grade_id": "cell-3638abb8e00408fb",
     "locked": false,
     "points": 0.5,
     "schema_version": 3,
     "solution": true
    }
   },
   "outputs": [
    {
     "name": "stdout",
     "output_type": "stream",
     "text": [
      "Integration Result: 1.9999999999999984\n",
      "Exact Solution: 2\n",
      "Error for Quad from Function 5.773159728050814e-15\n",
      "Fractional Error: 7.771561172376096e-16\n"
     ]
    }
   ],
   "source": [
    "def sqrf(x):\n",
    "    return 1 / np.sqrt(x)\n",
    "\n",
    "quad, quad_error, info = scipy.integrate.quad(sqrf, 0, 1, full_output=True)\n",
    "\n",
    "true_sqr = 2\n",
    "\n",
    "fractional_error_sqr = np.abs(1 - (quad / true_sqr))\n",
    "\n",
    "print(f\"Integration Result: {quad}\")\n",
    "print(f\"Exact Solution: {true_sqr}\")\n",
    "print(f\"Error for Quad from Function {quad_error}\")\n",
    "print(f\"Fractional Error: {fractional_error_sqr}\")"
   ]
  },
  {
   "cell_type": "markdown",
   "metadata": {},
   "source": [
    "### Semi-infinite Integral Range\n",
    "\n",
    "Consider the integral\n",
    "$$ \\int_1^\\infty \\frac{\\mathrm{d}x}{x^2} . $$\n",
    "Once again we can perform this integral analytically.\n",
    "Clearly this integral **cannot be performed** using a method like Romberg integration, Newton-Cotes formulas, *etc*., since we cannot evaluate them over an infinite range.\n",
    "Similar to the previous case, if we needed to perform these problematic integrals using those techniques we would need to transform the integral in some way.\n",
    "For this case it is relatively easy to do. If we let $y\\equiv 1/x$ then we can show\n",
    "$$ \\int_1^\\infty \\frac{\\mathrm{d}x}{x^2} = \\int_0^1 \\mathrm{d}y, $$\n",
    "a very simple integral to evaluate!"
   ]
  },
  {
   "cell_type": "markdown",
   "metadata": {},
   "source": [
    "This was a simple case, other integrands may be much more tedious to transform.\n",
    "Once again `quad` can handle the semi-infinite range for us.\n",
    "Use `quad` to perform the integral in its original, semi-infinite form.\n",
    "Print the value of the integral and the fractional error in this value.\n",
    "You should find that `quad` does exceptionally well, almost as if it were using the transformation we just discussed, ....\n",
    "(*Note:* We can specify infinity in a few ways.\n",
    "I will typically use `np.inf` though there also exists `np.infty` which is a little more explicit.)"
   ]
  },
  {
   "cell_type": "code",
   "execution_count": 36,
   "metadata": {
    "deletable": false,
    "nbgrader": {
     "cell_type": "code",
     "checksum": "8006ae0b5ab2b55430042b31b63de53e",
     "grade": true,
     "grade_id": "cell-abd8af4a943a5bdc",
     "locked": false,
     "points": 0.5,
     "schema_version": 3,
     "solution": true
    }
   },
   "outputs": [
    {
     "name": "stdout",
     "output_type": "stream",
     "text": [
      "Integration Result: 1.0\n",
      "Exact Solution: 1\n",
      "Error for Quad from Function 1.1102230246251565e-14\n",
      "Fractional Error: 0.0\n"
     ]
    }
   ],
   "source": [
    "def f2(x):\n",
    "    return 1 / x**2\n",
    "\n",
    "quad_f2, quad_error_f2, info_f2 = scipy.integrate.quad(f2, 1, np.inf, full_output=True)\n",
    "\n",
    "true_f2 = 1\n",
    "\n",
    "fractional_error_f2 = np.abs(1 - (quad_f2 / true_f2))\n",
    "\n",
    "print(f\"Integration Result: {quad_f2}\")\n",
    "print(f\"Exact Solution: {true_f2}\")\n",
    "print(f\"Error for Quad from Function {quad_error_f2}\")\n",
    "print(f\"Fractional Error: {fractional_error_f2}\")"
   ]
  },
  {
   "attachments": {},
   "cell_type": "markdown",
   "metadata": {},
   "source": [
    "### Infinite Integral Range\n",
    "\n",
    "Finally, `quad` can also handle a completely infinite range.\n",
    "Consider the normalization integral for the Gaussian distribution that we have seen in previous labs,\n",
    "$$ \\frac{1}{\\sqrt{2\\pi}\\sigma} \\int_{-\\infty}^\\infty \\exp\\left[ -\\frac{(x-\\mu)^2}{2\\sigma^2} \\right] \\mathrm{d}x = 1. $$\n",
    "Again we could transform this to integrals over finite ranges.\n",
    "In this case we could use various techniques, first shift the integral to remove the mean, $\\mu$, from the integrand.\n",
    "Then use symmetry to turn it into an integral over the semi-infinite range $(0,\\infty)$.\n",
    "Next split this integral into two pieces, an integral from $0$ to $1$ and an integral from $1$ to $\\infty$.\n",
    "Finally, this second integral can be handled by the transformation discussed in the semi-infinite case above.\n",
    "\n",
    "Or, just let `quad` do it all for us!\n",
    "\n",
    "Calculate this integral over the infinite interval using `quad`.\n",
    "Print its value and fractional error.\n",
    "Note that this result holds for arbitrary mean, $\\mu$, and variance, $\\sigma$; for your own purposes you should try a few cases.\n",
    "Once again you should find (at least in the simplest case of $\\mu=0$ and $\\sigma=0$) it works extremely well!\n",
    "(For other choices of $\\mu$ and $\\sigma$ the error may be larger.\n",
    "You can think about why this makes sense.)"
   ]
  },
  {
   "cell_type": "code",
   "execution_count": 37,
   "metadata": {
    "deletable": false,
    "nbgrader": {
     "cell_type": "code",
     "checksum": "fe2ed09253efa89753eed3b7ed338931",
     "grade": true,
     "grade_id": "cell-401b1d2ef0c40c82",
     "locked": false,
     "points": 0.5,
     "schema_version": 3,
     "solution": true
    }
   },
   "outputs": [
    {
     "name": "stdout",
     "output_type": "stream",
     "text": [
      "Integration Result: 2.5066282746309994\n",
      "Error for Quad from Function 2.5512942220044495e-08\n",
      "Fractional Error: 3.3306690738754696e-16\n"
     ]
    }
   ],
   "source": [
    "mu = 0\n",
    "sig = 1\n",
    "\n",
    "def gaus(x):\n",
    "    return (np.exp(- ((x-mu)**2 / (2 * sig**2))))\n",
    "\n",
    "\n",
    "true_gaus = (np.sqrt(2 * np.pi * sig)) \n",
    "\n",
    "quad_gaus, quad_error_gaus, info_gaus = scipy.integrate.quad(gaus, -np.inf, np.inf, full_output=True)\n",
    "\n",
    "\n",
    "fractional_error_gaus = np.abs(1 - (quad_gaus / true_gaus))\n",
    "\n",
    "print(f\"Integration Result: {quad_gaus}\")\n",
    "print(f\"Error for Quad from Function {quad_error_gaus}\")\n",
    "print(f\"Fractional Error: {fractional_error_gaus}\")"
   ]
  },
  {
   "cell_type": "markdown",
   "metadata": {},
   "source": [
    "## Turning in the PreLab\n",
    "\n",
    "All prelabs will be handled as was done for PreLab01. See that file for details. It will be assumed from now on that you have read and understood the procedure and what it means when you submit a prelab."
   ]
  }
 ],
 "metadata": {
  "anaconda-cloud": {},
  "authors": [
   {
    "name": "Craig J Copi",
    "semester": "Spring 2025"
   }
  ],
  "kernelspec": {
   "display_name": ".venv",
   "language": "python",
   "name": "python3"
  },
  "language_info": {
   "codemirror_mode": {
    "name": "ipython",
    "version": 3
   },
   "file_extension": ".py",
   "mimetype": "text/x-python",
   "name": "python",
   "nbconvert_exporter": "python",
   "pygments_lexer": "ipython3",
   "version": "3.12.7"
  }
 },
 "nbformat": 4,
 "nbformat_minor": 4
}
