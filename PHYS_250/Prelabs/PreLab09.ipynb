{
 "cells": [
  {
   "cell_type": "markdown",
   "metadata": {},
   "source": [
    "# Pre Lab 09 : Curve Fitting"
   ]
  },
  {
   "cell_type": "markdown",
   "metadata": {},
   "source": [
    "## Objectives\n",
    "\n",
    "For the most part, this prelab is more about learning and less about doing. It is important to think about and understand what is presented here. The main objectives of this prelab are given below.\n",
    "* Learn more about reading data from the web using `urllib.request` along with the `with` statement.\n",
    "* Learn another way to avoid writing loops ourselves, even in cases when it looks like we would need to, by using the `np.vectorize()` function.\n",
    "* Explore more carefully the meaning and use of the $\\chi^2$, in particular the roles of the uncertainties. "
   ]
  },
  {
   "cell_type": "markdown",
   "metadata": {},
   "source": [
    "## Initialization\n",
    "\n",
    "As always you should add initialization to the top of your notebook. We will need to generate random numbers so create and store a random number generator in `rng`."
   ]
  },
  {
   "cell_type": "code",
   "execution_count": 1,
   "metadata": {
    "deletable": false,
    "nbgrader": {
     "cell_type": "code",
     "checksum": "630ee746a1e476a9635b112bc1de452e",
     "grade": true,
     "grade_id": "cell-fe908b01c259689d",
     "locked": false,
     "points": 0,
     "schema_version": 3,
     "solution": true
    }
   },
   "outputs": [],
   "source": [
    "import numpy as np\n",
    "import matplotlib.pyplot as plt\n",
    "import scipy.optimize as opt\n",
    "import scipy.special as sf\n",
    "rng = np.random.default_rng()"
   ]
  },
  {
   "cell_type": "markdown",
   "metadata": {},
   "source": [
    "## Loading Data from Text Files\n",
    "\n",
    "Plain text files are a common way of storing data. They have the advantage of being very flexible, readable by anyone (you can directly look at it), and platform independent. This flexibility comes at a cost. Since they need not follow a rigid structure they can be difficult and slow to parse.\n",
    "\n",
    "For simple, well formed text files NumPy provides the `loadtxt` function. For more general text files we can instead use `genfromtxt`. We will explore both of these functions below."
   ]
  },
  {
   "cell_type": "markdown",
   "metadata": {},
   "source": [
    "### Reading Data from the Web\n",
    "\n",
    "We have seen we can directly read data from the web using `urllib` without needing to download the file ourselves.\n",
    "We will need to read a data file for the lab this week so will get some practice now.\n",
    "\n",
    "There is more than one way to do this and if/when you search online you will find other code/approaches.\n",
    "Rather than blindly copying some code, we will understand the implications of the approach we use.\n",
    "Other approaches will do different things, in particular, *they will download the file and store it locally first*.\n",
    "This is not necessarily bad, but it is different and it is not the approach given here.\n",
    "It is nice that one can find recommendations online/from tools, that does not mean they are the approach you want to use.\n",
    "Just because the provided code \"works\" it does not mean that it is good.\n",
    "\n",
    "In our approach we **will not store the file on our computer**.\n",
    "We will directly read the data from the remote source.\n",
    "\n",
    "Given a url in a variable called `url` we can open the file using\n",
    "```\n",
    "import urllib.request\n",
    "fp = urllib.request.urlopen(url)\n",
    "```\n",
    "Though this works, it is not the best way to do things."
   ]
  },
  {
   "cell_type": "markdown",
   "metadata": {},
   "source": [
    "### The `with` Statement\n",
    "\n",
    "The simple way we described things above is actually bad practice. What we really should do when we open and read a file is\n",
    "1. Open the file.\n",
    "2. Check/catch any errors.\n",
    "3. Read the data.\n",
    "4. Close the file (that is, clean up after ourselves), regardless of whether parsing the file worked or gave an error.\n",
    "\n",
    "In general we do not do this, we just open the file, read it, and forget about it, hoping everything just worked. Fortunately, there is an idiomatic way to do this more correctly in Python by using the `with` statement. For our purpose the `with` statement just provides a local definition of some object, allows us to use it in a block of code, then cleans up this object after the block of code is executed.\n",
    "\n",
    "We will use this below. In our examples we will open the remote file using `urllib`, call this opened file `fp`, and then read it. Once the code in the `with` block is done executing the object `fp` will no longer exist and cannot be used again. It will be properly closed for us. "
   ]
  },
  {
   "cell_type": "markdown",
   "metadata": {},
   "source": [
    "### `loadtxt()`\n",
    "\n",
    "There are a number of data sets available for extracting information about the expansion rate of the Universe from type Ia supernova observations. More recent sources provide detailed data, for example from [Pan-STARRS](https://archive.stsci.edu/prepds/ps1cosmo/) or from [Pantheon+SHOES](https://github.com/PantheonPlusSH0ES/DataRelease). Such sources give the full information about each supernova to allow us to model their light curves, apply color corrections to calibrate them, *etc.* While that would be essential if we were performing a careful scientific analysis of the data, that is not what we want to do here. We will use a simpler (and older) data set that has done some of the processing for us already. We will only focus on the cosmology, not on the astrophysics.\n",
    "\n",
    "Thus, the data we will use for the lab this week comes from the Supernova Cosmology Project (the Union 2.1 set). It is stored in a text file that you may access from its original site at\n",
    "http://supernova.lbl.gov/union/figures/SCPUnion2.1_mu_vs_z.txt .\n",
    "More details about the data is given in the lab. Here we are just interested in reading it.\n",
    "\n",
    "Note that this is an actual data file used in research projects. See the [Supernova Cosmology Project page](http://supernova.lbl.gov/union/) for more information. As noted above, we can directly read this data file from the web without having to download it! To read a text file, `np.loadtxt` is the simplest choice. It is meant to be used to read simple text files where the same number of data values are given in each line of the file. This will mostly work in our case.\n",
    "\n",
    "The code below is the general method for doing this. You should see that it does not quite work, an exception is raised about a conversion error."
   ]
  },
  {
   "cell_type": "code",
   "execution_count": 2,
   "metadata": {
    "editable": true,
    "slideshow": {
     "slide_type": ""
    },
    "tags": [
     "raises-exception"
    ]
   },
   "outputs": [
    {
     "ename": "ValueError",
     "evalue": "could not convert string '1993ah' to float64 at row 0, column 1.",
     "output_type": "error",
     "traceback": [
      "\u001b[1;31m---------------------------------------------------------------------------\u001b[0m",
      "\u001b[1;31mValueError\u001b[0m                                Traceback (most recent call last)",
      "Cell \u001b[1;32mIn[2], line 4\u001b[0m\n\u001b[0;32m      2\u001b[0m \u001b[38;5;28;01mimport\u001b[39;00m\u001b[38;5;250m \u001b[39m\u001b[38;5;21;01murllib\u001b[39;00m\u001b[38;5;21;01m.\u001b[39;00m\u001b[38;5;21;01mrequest\u001b[39;00m\n\u001b[0;32m      3\u001b[0m \u001b[38;5;28;01mwith\u001b[39;00m urllib\u001b[38;5;241m.\u001b[39mrequest\u001b[38;5;241m.\u001b[39murlopen(url) \u001b[38;5;28;01mas\u001b[39;00m fp:\n\u001b[1;32m----> 4\u001b[0m     X \u001b[38;5;241m=\u001b[39m \u001b[43mnp\u001b[49m\u001b[38;5;241;43m.\u001b[39;49m\u001b[43mloadtxt\u001b[49m\u001b[43m(\u001b[49m\u001b[43mfp\u001b[49m\u001b[43m)\u001b[49m\n",
      "File \u001b[1;32mc:\\Users\\bhoom\\Documents\\GitHub\\Physics_coursework\\.venv\\Lib\\site-packages\\numpy\\lib\\_npyio_impl.py:1395\u001b[0m, in \u001b[0;36mloadtxt\u001b[1;34m(fname, dtype, comments, delimiter, converters, skiprows, usecols, unpack, ndmin, encoding, max_rows, quotechar, like)\u001b[0m\n\u001b[0;32m   1392\u001b[0m \u001b[38;5;28;01mif\u001b[39;00m \u001b[38;5;28misinstance\u001b[39m(delimiter, \u001b[38;5;28mbytes\u001b[39m):\n\u001b[0;32m   1393\u001b[0m     delimiter \u001b[38;5;241m=\u001b[39m delimiter\u001b[38;5;241m.\u001b[39mdecode(\u001b[38;5;124m'\u001b[39m\u001b[38;5;124mlatin1\u001b[39m\u001b[38;5;124m'\u001b[39m)\n\u001b[1;32m-> 1395\u001b[0m arr \u001b[38;5;241m=\u001b[39m \u001b[43m_read\u001b[49m\u001b[43m(\u001b[49m\u001b[43mfname\u001b[49m\u001b[43m,\u001b[49m\u001b[43m \u001b[49m\u001b[43mdtype\u001b[49m\u001b[38;5;241;43m=\u001b[39;49m\u001b[43mdtype\u001b[49m\u001b[43m,\u001b[49m\u001b[43m \u001b[49m\u001b[43mcomment\u001b[49m\u001b[38;5;241;43m=\u001b[39;49m\u001b[43mcomment\u001b[49m\u001b[43m,\u001b[49m\u001b[43m \u001b[49m\u001b[43mdelimiter\u001b[49m\u001b[38;5;241;43m=\u001b[39;49m\u001b[43mdelimiter\u001b[49m\u001b[43m,\u001b[49m\n\u001b[0;32m   1396\u001b[0m \u001b[43m            \u001b[49m\u001b[43mconverters\u001b[49m\u001b[38;5;241;43m=\u001b[39;49m\u001b[43mconverters\u001b[49m\u001b[43m,\u001b[49m\u001b[43m \u001b[49m\u001b[43mskiplines\u001b[49m\u001b[38;5;241;43m=\u001b[39;49m\u001b[43mskiprows\u001b[49m\u001b[43m,\u001b[49m\u001b[43m \u001b[49m\u001b[43musecols\u001b[49m\u001b[38;5;241;43m=\u001b[39;49m\u001b[43musecols\u001b[49m\u001b[43m,\u001b[49m\n\u001b[0;32m   1397\u001b[0m \u001b[43m            \u001b[49m\u001b[43munpack\u001b[49m\u001b[38;5;241;43m=\u001b[39;49m\u001b[43munpack\u001b[49m\u001b[43m,\u001b[49m\u001b[43m \u001b[49m\u001b[43mndmin\u001b[49m\u001b[38;5;241;43m=\u001b[39;49m\u001b[43mndmin\u001b[49m\u001b[43m,\u001b[49m\u001b[43m \u001b[49m\u001b[43mencoding\u001b[49m\u001b[38;5;241;43m=\u001b[39;49m\u001b[43mencoding\u001b[49m\u001b[43m,\u001b[49m\n\u001b[0;32m   1398\u001b[0m \u001b[43m            \u001b[49m\u001b[43mmax_rows\u001b[49m\u001b[38;5;241;43m=\u001b[39;49m\u001b[43mmax_rows\u001b[49m\u001b[43m,\u001b[49m\u001b[43m \u001b[49m\u001b[43mquote\u001b[49m\u001b[38;5;241;43m=\u001b[39;49m\u001b[43mquotechar\u001b[49m\u001b[43m)\u001b[49m\n\u001b[0;32m   1400\u001b[0m \u001b[38;5;28;01mreturn\u001b[39;00m arr\n",
      "File \u001b[1;32mc:\\Users\\bhoom\\Documents\\GitHub\\Physics_coursework\\.venv\\Lib\\site-packages\\numpy\\lib\\_npyio_impl.py:1046\u001b[0m, in \u001b[0;36m_read\u001b[1;34m(fname, delimiter, comment, quote, imaginary_unit, usecols, skiplines, max_rows, converters, ndmin, unpack, dtype, encoding)\u001b[0m\n\u001b[0;32m   1043\u001b[0m     data \u001b[38;5;241m=\u001b[39m _preprocess_comments(data, comments, encoding)\n\u001b[0;32m   1045\u001b[0m \u001b[38;5;28;01mif\u001b[39;00m read_dtype_via_object_chunks \u001b[38;5;129;01mis\u001b[39;00m \u001b[38;5;28;01mNone\u001b[39;00m:\n\u001b[1;32m-> 1046\u001b[0m     arr \u001b[38;5;241m=\u001b[39m \u001b[43m_load_from_filelike\u001b[49m\u001b[43m(\u001b[49m\n\u001b[0;32m   1047\u001b[0m \u001b[43m        \u001b[49m\u001b[43mdata\u001b[49m\u001b[43m,\u001b[49m\u001b[43m \u001b[49m\u001b[43mdelimiter\u001b[49m\u001b[38;5;241;43m=\u001b[39;49m\u001b[43mdelimiter\u001b[49m\u001b[43m,\u001b[49m\u001b[43m \u001b[49m\u001b[43mcomment\u001b[49m\u001b[38;5;241;43m=\u001b[39;49m\u001b[43mcomment\u001b[49m\u001b[43m,\u001b[49m\u001b[43m \u001b[49m\u001b[43mquote\u001b[49m\u001b[38;5;241;43m=\u001b[39;49m\u001b[43mquote\u001b[49m\u001b[43m,\u001b[49m\n\u001b[0;32m   1048\u001b[0m \u001b[43m        \u001b[49m\u001b[43mimaginary_unit\u001b[49m\u001b[38;5;241;43m=\u001b[39;49m\u001b[43mimaginary_unit\u001b[49m\u001b[43m,\u001b[49m\n\u001b[0;32m   1049\u001b[0m \u001b[43m        \u001b[49m\u001b[43musecols\u001b[49m\u001b[38;5;241;43m=\u001b[39;49m\u001b[43musecols\u001b[49m\u001b[43m,\u001b[49m\u001b[43m \u001b[49m\u001b[43mskiplines\u001b[49m\u001b[38;5;241;43m=\u001b[39;49m\u001b[43mskiplines\u001b[49m\u001b[43m,\u001b[49m\u001b[43m \u001b[49m\u001b[43mmax_rows\u001b[49m\u001b[38;5;241;43m=\u001b[39;49m\u001b[43mmax_rows\u001b[49m\u001b[43m,\u001b[49m\n\u001b[0;32m   1050\u001b[0m \u001b[43m        \u001b[49m\u001b[43mconverters\u001b[49m\u001b[38;5;241;43m=\u001b[39;49m\u001b[43mconverters\u001b[49m\u001b[43m,\u001b[49m\u001b[43m \u001b[49m\u001b[43mdtype\u001b[49m\u001b[38;5;241;43m=\u001b[39;49m\u001b[43mdtype\u001b[49m\u001b[43m,\u001b[49m\n\u001b[0;32m   1051\u001b[0m \u001b[43m        \u001b[49m\u001b[43mencoding\u001b[49m\u001b[38;5;241;43m=\u001b[39;49m\u001b[43mencoding\u001b[49m\u001b[43m,\u001b[49m\u001b[43m \u001b[49m\u001b[43mfilelike\u001b[49m\u001b[38;5;241;43m=\u001b[39;49m\u001b[43mfilelike\u001b[49m\u001b[43m,\u001b[49m\n\u001b[0;32m   1052\u001b[0m \u001b[43m        \u001b[49m\u001b[43mbyte_converters\u001b[49m\u001b[38;5;241;43m=\u001b[39;49m\u001b[43mbyte_converters\u001b[49m\u001b[43m)\u001b[49m\n\u001b[0;32m   1054\u001b[0m \u001b[38;5;28;01melse\u001b[39;00m:\n\u001b[0;32m   1055\u001b[0m     \u001b[38;5;66;03m# This branch reads the file into chunks of object arrays and then\u001b[39;00m\n\u001b[0;32m   1056\u001b[0m     \u001b[38;5;66;03m# casts them to the desired actual dtype.  This ensures correct\u001b[39;00m\n\u001b[0;32m   1057\u001b[0m     \u001b[38;5;66;03m# string-length and datetime-unit discovery (like `arr.astype()`).\u001b[39;00m\n\u001b[0;32m   1058\u001b[0m     \u001b[38;5;66;03m# Due to chunking, certain error reports are less clear, currently.\u001b[39;00m\n\u001b[0;32m   1059\u001b[0m     \u001b[38;5;28;01mif\u001b[39;00m filelike:\n",
      "\u001b[1;31mValueError\u001b[0m: could not convert string '1993ah' to float64 at row 0, column 1."
     ]
    }
   ],
   "source": [
    "url = \"http://supernova.lbl.gov/union/figures/SCPUnion2.1_mu_vs_z.txt\"\n",
    "import urllib.request\n",
    "with urllib.request.urlopen(url) as fp:\n",
    "    X = np.loadtxt(fp)"
   ]
  },
  {
   "cell_type": "markdown",
   "metadata": {},
   "source": [
    "The \"problem\" is that the first column contains strings (the names of the supernova). Unfortunately `np.loadtxt()` assumes that all columns contain numbers. Fortunately we can get around this by only reading in the columns we need. In this case we will only use columns two, three, and four (again, see the lab for details)."
   ]
  },
  {
   "cell_type": "markdown",
   "metadata": {},
   "source": [
    "Modify the code above to allow us to read the datafile using `np.loadtxt()`, but only read in columns two, three, and four. Print to result to show that you have actually read in the correct data. (*Hint:* See the documentation for `np.loadtxt()` and pay particular attention to the `usecols` keyword. The `unpack` keyword will also be convenient to use in the lab, though it need not be used here.)"
   ]
  },
  {
   "cell_type": "code",
   "execution_count": 3,
   "metadata": {
    "deletable": false,
    "nbgrader": {
     "cell_type": "code",
     "checksum": "ef0cca738dd01adaf805f1681bd8a730",
     "grade": true,
     "grade_id": "cell-9112ca9c596a06bf",
     "locked": false,
     "points": 0.5,
     "schema_version": 3,
     "solution": true
    }
   },
   "outputs": [
    {
     "name": "stdout",
     "output_type": "stream",
     "text": [
      "[[2.84880000e-02 3.53465834e+01 2.23905933e-01]\n",
      " [5.00430000e-02 3.66823679e+01 1.66828851e-01]\n",
      " [5.29260000e-02 3.68176913e+01 1.55755915e-01]\n",
      " ...\n",
      " [8.21000000e-01 4.36409388e+01 1.94013592e-01]\n",
      " [1.21500000e+00 4.52465209e+01 5.60317445e-01]\n",
      " [6.23000000e-01 4.25145240e+01 2.41428135e-01]]\n"
     ]
    }
   ],
   "source": [
    "with urllib.request.urlopen(url) as fp :\n",
    "    X = np.loadtxt(fp, usecols=(1,2,3))\n",
    "print(X)"
   ]
  },
  {
   "cell_type": "markdown",
   "metadata": {},
   "source": [
    "### `genfromtxt()`\n",
    "\n",
    "The more general, and thus more complicated, function for reading a text file is `genfromtxt`. This can handle text files with different numbers of values on each line. It has many, many options that can be used to read data from files even with crazy formatting choices. **We do not need to use `genfromtxt()` for our data file.** Even so, it is worth seeing what it does. Run the following cell."
   ]
  },
  {
   "cell_type": "code",
   "execution_count": 4,
   "metadata": {},
   "outputs": [
    {
     "name": "stdout",
     "output_type": "stream",
     "text": [
      "[[           nan 2.84880000e-02 3.53465834e+01 2.23905933e-01\n",
      "  1.28418942e-01]\n",
      " [           nan 5.00430000e-02 3.66823679e+01 1.66828851e-01\n",
      "  1.28418942e-01]\n",
      " [           nan 5.29260000e-02 3.68176913e+01 1.55755915e-01\n",
      "  1.28418942e-01]\n",
      " ...\n",
      " [           nan 8.21000000e-01 4.36409388e+01 1.94013592e-01\n",
      "  5.51671793e-01]\n",
      " [           nan 1.21500000e+00 4.52465209e+01 5.60317445e-01\n",
      "  1.47652666e-04]\n",
      " [           nan 6.23000000e-01 4.25145240e+01 2.41428135e-01\n",
      "  5.51671793e-01]]\n"
     ]
    }
   ],
   "source": [
    "with urllib.request.urlopen(url) as fp:\n",
    "    data = np.genfromtxt(fp)\n",
    "print(data)"
   ]
  },
  {
   "cell_type": "markdown",
   "metadata": {},
   "source": [
    "Notice that it read in the full file, filling in `nan` for the strings. Not necessarily ideal, but at least it did read in all the numeric information."
   ]
  },
  {
   "cell_type": "markdown",
   "metadata": {},
   "source": [
    "## Function vectorization\n",
    "\n",
    "As we have seen, operating on an array of values is easier and more efficient than writing our own loop to evaluate the values one at a time. When performing fits to data we must have a function that accepts and evaluates an array of input values. Unfortunately there are some functions that do not work in this way. Consider the example of an integral; suppose we wish to evaluate \n",
    "$$ f(x) = \\int_0^x y^2 \\,\\mathrm{d}y. $$\n",
    "The simple way to implement this is given below. It suffers from the fact that we cannot pass an array, `x`, to `scipy.integrate.quad()`. (Actually, we know that `scipy.integrate.quad_vec()` exists and it can be used in many cases. Even so, we are going to ignore it for this discussion. In this case, `x` is in the limit of integration and `quad_vec()` does not easily support this. We would need to modify the calculation to \"move\" `x` out of the limit of integration. In addition, from limited experience, `quad_vec()` is not a trivial drop-in replacement for a vectorized version of `quad()` so I will not consider its use in the calculation we are to perform. Instead, we are going to introduce a different way of vectorizing functions. The prelab and lab will be written with this in mind. You can explore the use of `quad_vec()`, if desired.) In the past we would have written a loop to go through all the values of `x` and compute the integrals one at a time. An alternative approach is to let NumPy vectorize the function for us using `np.vectorize()`. **We will encounter a use for `vectorize` in the lab this week.** Make sure you understand the following example.\n",
    "\n",
    "Study and Run the following example:"
   ]
  },
  {
   "cell_type": "code",
   "execution_count": 5,
   "metadata": {},
   "outputs": [
    {
     "data": {
      "text/plain": [
       "0.33333333333333337"
      ]
     },
     "execution_count": 5,
     "metadata": {},
     "output_type": "execute_result"
    }
   ],
   "source": [
    "import scipy.integrate as integ\n",
    "def y(x):\n",
    "    return x**2\n",
    "def f(x):\n",
    "    return integ.quad(y, 0, x)[0]\n",
    "# With this setup we can verify it works by doing, for example\n",
    "f(1)"
   ]
  },
  {
   "cell_type": "markdown",
   "metadata": {},
   "source": [
    "So it works for a single value, this is not surprising. On the other hand, it does not work if we pass in an array. Instead we get a hard to understand error (truth value?). You should look at the error message; it is actually a fairly common message that appears whenever we try to use an array when only a single number should appear."
   ]
  },
  {
   "cell_type": "code",
   "execution_count": 6,
   "metadata": {
    "editable": true,
    "slideshow": {
     "slide_type": ""
    },
    "tags": [
     "raises-exception"
    ]
   },
   "outputs": [
    {
     "ename": "ValueError",
     "evalue": "The truth value of an array with more than one element is ambiguous. Use a.any() or a.all()",
     "output_type": "error",
     "traceback": [
      "\u001b[1;31m---------------------------------------------------------------------------\u001b[0m",
      "\u001b[1;31mValueError\u001b[0m                                Traceback (most recent call last)",
      "Cell \u001b[1;32mIn[6], line 3\u001b[0m\n\u001b[0;32m      1\u001b[0m x \u001b[38;5;241m=\u001b[39m np\u001b[38;5;241m.\u001b[39mlinspace(\u001b[38;5;241m1\u001b[39m, \u001b[38;5;241m2\u001b[39m, \u001b[38;5;241m10\u001b[39m)\n\u001b[0;32m      2\u001b[0m \u001b[38;5;66;03m# This should produce an error.\u001b[39;00m\n\u001b[1;32m----> 3\u001b[0m \u001b[43mf\u001b[49m\u001b[43m(\u001b[49m\u001b[43mx\u001b[49m\u001b[43m)\u001b[49m\n",
      "Cell \u001b[1;32mIn[5], line 5\u001b[0m, in \u001b[0;36mf\u001b[1;34m(x)\u001b[0m\n\u001b[0;32m      4\u001b[0m \u001b[38;5;28;01mdef\u001b[39;00m\u001b[38;5;250m \u001b[39m\u001b[38;5;21mf\u001b[39m(x):\n\u001b[1;32m----> 5\u001b[0m     \u001b[38;5;28;01mreturn\u001b[39;00m \u001b[43minteg\u001b[49m\u001b[38;5;241;43m.\u001b[39;49m\u001b[43mquad\u001b[49m\u001b[43m(\u001b[49m\u001b[43my\u001b[49m\u001b[43m,\u001b[49m\u001b[43m \u001b[49m\u001b[38;5;241;43m0\u001b[39;49m\u001b[43m,\u001b[49m\u001b[43m \u001b[49m\u001b[43mx\u001b[49m\u001b[43m)\u001b[49m[\u001b[38;5;241m0\u001b[39m]\n",
      "File \u001b[1;32mc:\\Users\\bhoom\\Documents\\GitHub\\Physics_coursework\\.venv\\Lib\\site-packages\\scipy\\integrate\\_quadpack_py.py:432\u001b[0m, in \u001b[0;36mquad\u001b[1;34m(func, a, b, args, full_output, epsabs, epsrel, limit, points, weight, wvar, wopts, maxp1, limlst, complex_func)\u001b[0m\n\u001b[0;32m    429\u001b[0m     args \u001b[38;5;241m=\u001b[39m (args,)\n\u001b[0;32m    431\u001b[0m \u001b[38;5;66;03m# check the limits of integration: \\int_a^b, expect a < b\u001b[39;00m\n\u001b[1;32m--> 432\u001b[0m flip, a, b \u001b[38;5;241m=\u001b[39m b \u001b[38;5;241m<\u001b[39m a, \u001b[38;5;28;43mmin\u001b[39;49m\u001b[43m(\u001b[49m\u001b[43ma\u001b[49m\u001b[43m,\u001b[49m\u001b[43m \u001b[49m\u001b[43mb\u001b[49m\u001b[43m)\u001b[49m, \u001b[38;5;28mmax\u001b[39m(a, b)\n\u001b[0;32m    434\u001b[0m \u001b[38;5;28;01mif\u001b[39;00m complex_func:\n\u001b[0;32m    435\u001b[0m     \u001b[38;5;28;01mdef\u001b[39;00m\u001b[38;5;250m \u001b[39m\u001b[38;5;21mimfunc\u001b[39m(x, \u001b[38;5;241m*\u001b[39margs):\n",
      "\u001b[1;31mValueError\u001b[0m: The truth value of an array with more than one element is ambiguous. Use a.any() or a.all()"
     ]
    }
   ],
   "source": [
    "x = np.linspace(1, 2, 10)\n",
    "# This should produce an error.\n",
    "f(x)"
   ]
  },
  {
   "cell_type": "markdown",
   "metadata": {},
   "source": [
    "On the other hand, if we vectorize the code it magically works! (*Note:* Again, even though `quad_vec()` exists, there will always be cases where a function will not already be vectorized for us and `np.vectorize()` will be a convenient way to work around this.)"
   ]
  },
  {
   "cell_type": "code",
   "execution_count": 7,
   "metadata": {},
   "outputs": [
    {
     "data": {
      "text/plain": [
       "array([0.33333333, 0.45724737, 0.60859625, 0.79012346, 1.00457247,\n",
       "       1.25468679, 1.54320988, 1.87288523, 2.24645633, 2.66666667])"
      ]
     },
     "execution_count": 7,
     "metadata": {},
     "output_type": "execute_result"
    }
   ],
   "source": [
    "# Instead we can define a new function F(x) using vectorize():\n",
    "F = np.vectorize(f)\n",
    "# Now ...\n",
    "F(x)"
   ]
  },
  {
   "cell_type": "markdown",
   "metadata": {},
   "source": [
    "It should be noted that `np.vectorize()` is not actually working magic and **does not make your code faster**, it is merely a convenience function that allows you to avoid explicitly writing a loop. Essentially what it is does is \"write the loop for you\". It loops over your input arrays and executes the function once for each value in the arrays, collects these values, and returns them to you in a new array. The case encountered here is one example where this is useful."
   ]
  },
  {
   "cell_type": "markdown",
   "metadata": {},
   "source": [
    "## Understanding the $\\chi^2$\n",
    "\n",
    "We have introduced the $\\chi^2$ and will use it to fit for parameters of a model given some data, but what is it really? We know that given some data represented by the values $y_i$ and uncertainties $\\sigma_i$ when evaluated at some points $x_i$ we can fit for the parameters, $\\vec p$, of a model $f(x, \\vec p)$. Even if $f(x, \\vec p)$ is a linear function of the parameters, $\\vec p$, when there are more data points, $\\vec y$, than there are parameters, $\\vec p$, there will **not be a unique solution** for $\\vec p$. Instead we look for a set of parameters such that the curve described by the model is \"close\" to the data. Many choices could be made to define what \"close\" means. The one we make when performing least squares fitting is to minimize the $\\chi^2$ defined by\n",
    "$$ \\chi^2 = \\sum_{i=1}^{n} \\left( \\frac{ y_i - f(x_i, \\vec p) }{\\sigma_i} \\right)^2. $$\n",
    "This choice makes some sense, it looks similar to the distance between points in Euclidean space (otherwise known as the Pythagorean theorem).\n",
    "\n",
    "The $\\chi^2$ is useful even without performing a fit. Since it gives a measure of the \"distance\" between the data and a model, it can be used to quantify how \"good a fit\" the model is to the data. Unfortunately this *is* the way it is phrased. We talk about \"goodness of fit\" even when the $\\chi^2$ is not minimized in order to find the best fit parameters. In other words, the $\\chi^2$ can be used to perform model comparisons. When we speak of the \"goodness of fit\" we mean the probability that the $\\chi^2$ would exceed the value calculated by chance for the number of degrees. In statistics this is referred to as a one-sided $p$-value. We will continue to call it the goodness of fit, but it is perhaps better to think of it as a $p$-value.\n",
    "\n",
    "To get some practice and gain more familiarity with the $\\chi^2$ we will generate some fake data and analyze it. You should think about each of the comparisons performed below to develop some intuition of what to look for in plots of data. Essentially we want to gain some experience in performing \"chi by eye\", this means to get a rough idea of how well a model agrees with the data just by looking at plots. This is a common thing to do when seeing data presented in talks or a paper!"
   ]
  },
  {
   "cell_type": "markdown",
   "metadata": {},
   "source": [
    "### Generating Random Data\n",
    "\n",
    "To begin, we generate some random data for the simple curve\n",
    "$$ y(x, A, \\phi) = A\\sin(x+\\phi) $$\n",
    "with $A=4$ and $\\phi=0.4$. We first generate random $x$ values in the range $0\\le x<3\\pi$. With these we calculate the true values from the curve and then generate random fluctuations to represent observational uncertainties. Here we use Gaussian noise with a constant uncertainty for all observations $\\sigma_y$. (This is of course not necessary, it just makes the calculations a little easier.)\n",
    "\n",
    "**Run the following cell.** We want to use the same data for all our analyses below. If you rerun this cell you will get new random data and must rerun all your analysis cells so that the results are consistent. (You are encouraged to generate and analyze a number of different sets of random data to see how the results can vary.)"
   ]
  },
  {
   "cell_type": "code",
   "execution_count": 8,
   "metadata": {},
   "outputs": [],
   "source": [
    "# Generate random data. Rerun all subsequent analysis cells after this.\n",
    "A = 4.0\n",
    "phi = 0.4\n",
    "sigma_y = 2\n",
    "x = rng.random(size=30) * 3*np.pi\n",
    "def ymodel(x, A, phi):\n",
    "    return A * np.sin(x + phi)\n",
    "ytrue = ymodel(x, A, phi)\n",
    "y = ytrue + sigma_y * rng.normal(size=len(x))"
   ]
  },
  {
   "cell_type": "markdown",
   "metadata": {},
   "source": [
    "### True Model Comparison\n",
    "\n",
    "For our random data we know the values of the parameters $A$ and $\\phi$ from the true model. We will use this to see what a \"good\" model should look like."
   ]
  },
  {
   "cell_type": "markdown",
   "metadata": {},
   "source": [
    "The first thing we should do is plot the data and a curve representing the true model. Make a quick plot using `errorbar` to plot the data and include a curve for the model as usual."
   ]
  },
  {
   "cell_type": "code",
   "execution_count": 9,
   "metadata": {
    "deletable": false,
    "nbgrader": {
     "cell_type": "code",
     "checksum": "7270d53f7f054fd28e8b71b37a30c026",
     "grade": true,
     "grade_id": "cell-17d8453852141ebf",
     "locked": false,
     "points": 0.5,
     "schema_version": 3,
     "solution": true
    }
   },
   "outputs": [
    {
     "data": {
      "image/png": "[encoded data removed]",
      "text/plain": [
       "<Figure size 640x480 with 1 Axes>"
      ]
     },
     "metadata": {},
     "output_type": "display_data"
    }
   ],
   "source": [
    "plt.errorbar(x, y, yerr=sigma_y, fmt='ro')\n",
    "x_points = np.linspace(0, 3*np.pi, 1000)\n",
    "plt.plot(x_points, ymodel(x_points, A, phi), 'r-')\n",
    "plt.axhline(0, color='k')\n",
    "plt.minorticks_on()"
   ]
  },
  {
   "cell_type": "markdown",
   "metadata": {},
   "source": [
    "Calculate the $\\chi^2$ using the true values for the parameters $A$ and $\\phi$ in the model. Print the $\\chi^2$, the number of degrees of freedom, and the goodness of fit. (*Hint:* We are **not** performing a fit so how many parameters are we allowing to vary and what does this mean for the number of degrees of freedom?)"
   ]
  },
  {
   "cell_type": "code",
   "execution_count": 10,
   "metadata": {
    "deletable": false,
    "nbgrader": {
     "cell_type": "code",
     "checksum": "31226ecbf98f0349d7724a2bb5cb1a96",
     "grade": true,
     "grade_id": "cell-be5e248c4b54f8fd",
     "locked": false,
     "points": 0.5,
     "schema_version": 3,
     "solution": true
    }
   },
   "outputs": [
    {
     "name": "stdout",
     "output_type": "stream",
     "text": [
      "True Model: \n",
      " Chi-squared = 36.42373080336382 \n",
      " Degrees of Freedom = 30 \n",
      " Goodness of fit = 0.19453031264819712\n"
     ]
    }
   ],
   "source": [
    "chi_squared = np.sum((y-ymodel(x, A, phi))**2/sigma_y**2)\n",
    "deg_of_freedom = len(y)\n",
    "Q = sf.gammaincc(0.5*deg_of_freedom, 0.5*chi_squared)\n",
    "print(\"True Model: \\n Chi-squared = {} \\n Degrees of Freedom = {} \\n Goodness of fit = {}\".format(chi_squared, deg_of_freedom, Q))"
   ]
  },
  {
   "cell_type": "markdown",
   "metadata": {},
   "source": [
    "### Uncertainties\n",
    "\n",
    "The uncertainty, $\\sigma_y$, plays a very important role in the fit. It sets the scale for how accurately we know each data point and thus how much weight we should give to each data point. In every case we have discussed, will encounter, and probably have encountered, we mean that the uncertainty \"has the same units\" as the data and is already \"normalized\" to the data. It seems that there are other choices. For example, the [weighted least squares](https://en.wikipedia.org/wiki/Weighted_least_squares) is one generalization. Unfortunately, it seems this is the choice made as the default in `scipy.optimize.curve_fit`. I do not understand why this choice would be made, but it means that **we must always use** `absolute_sigma=True`. If we do not, the uncertainties in our fit parameters will not be reported correctly!\n",
    "\n",
    "Even before we perform a fit, we can explore the role of uncertainties. We may think it is best to *overestimate* the uncertainty \"just to be safe\". Recalculate the $\\chi^2$ now using twice the uncertainty, meaning replace $\\sigma_y$ with $2 \\sigma_y$ in your calculation. Print the $\\chi^2$, the number of degrees of freedom, and the goodness of fit for this case. Also produce another quick plot of the data and the true model but now with the doubled uncertainty for the error bars on the data."
   ]
  },
  {
   "cell_type": "code",
   "execution_count": 11,
   "metadata": {
    "deletable": false,
    "nbgrader": {
     "cell_type": "code",
     "checksum": "405b7b98936825416be5cda0d1231e3b",
     "grade": true,
     "grade_id": "cell-23c0986a23c472ef",
     "locked": false,
     "points": 0.5,
     "schema_version": 3,
     "solution": true
    }
   },
   "outputs": [
    {
     "name": "stdout",
     "output_type": "stream",
     "text": [
      "True Model: \n",
      " Chi-squared = 9.105932700840954 \n",
      " Degrees of Freedom = 30 \n",
      " Goodness of fit = 0.9999163715361248\n"
     ]
    },
    {
     "data": {
      "image/png": "[encoded data removed]",
      "text/plain": [
       "<Figure size 640x480 with 1 Axes>"
      ]
     },
     "metadata": {},
     "output_type": "display_data"
    }
   ],
   "source": [
    "chi_squared = np.sum((y-ymodel(x, A, phi))**2/(2*sigma_y)**2)\n",
    "deg_of_freedom = len(y)\n",
    "Q = sf.gammaincc(0.5*deg_of_freedom, 0.5*chi_squared)\n",
    "print(\"True Model: \\n Chi-squared = {} \\n Degrees of Freedom = {} \\n Goodness of fit = {}\".format(chi_squared, deg_of_freedom, Q))\n",
    "\n",
    "plt.errorbar(x, y, yerr=2*sigma_y, fmt='ro')\n",
    "x_points = np.linspace(0, 3*np.pi, 1000)\n",
    "plt.plot(x_points, ymodel(x_points, A, phi), 'r-')\n",
    "plt.axhline(0, color='k')\n",
    "plt.minorticks_on()"
   ]
  },
  {
   "cell_type": "markdown",
   "metadata": {},
   "source": [
    "Based on the $\\chi^2$, goodness of fit, **and from the plot itself** explain why this result does not look correct. The goodness of fit should be very, very close to one, why is this a problem?"
   ]
  },
  {
   "cell_type": "markdown",
   "metadata": {
    "deletable": false,
    "nbgrader": {
     "cell_type": "markdown",
     "checksum": "a92d1dbe894c0e9c54e12d5d5bf85fe8",
     "grade": true,
     "grade_id": "cell-d415b0d73e9ec256",
     "locked": false,
     "points": 0.5,
     "schema_version": 3,
     "solution": true
    }
   },
   "source": [
    "We expect and want $\\chi^2$ to be roughly equal to the number of DOF. We currently have the goodness of fit as one that is \"too good.\" Because of this, one could assume that the data is fake or that we overly exaggerated the error bars or that it doesn't follow a Gaussian distributation. The plot has almost every single error bar going through the data and that shouldn't be the case."
   ]
  },
  {
   "cell_type": "markdown",
   "metadata": {},
   "source": [
    "Alternatively, we might want to \"show off\" how good we are at performing experiments and thus *underestimate* the uncertainties. We also should never do this! Repeat the previous calculation now with $\\sigma_y$ instead replaced by $\\sigma_y/2$. Print the $\\chi^2$, the number of degrees of freedom, and the goodness of fit for this case. Also produce another quick plot of the data and the true model but now with the halved uncertainty for the error bars on the data."
   ]
  },
  {
   "cell_type": "code",
   "execution_count": 12,
   "metadata": {
    "deletable": false,
    "nbgrader": {
     "cell_type": "code",
     "checksum": "be266c61129887b3d5d57203629e1b79",
     "grade": true,
     "grade_id": "cell-a23bbe8892a429e0",
     "locked": false,
     "points": 0.25,
     "schema_version": 3,
     "solution": true
    }
   },
   "outputs": [
    {
     "name": "stdout",
     "output_type": "stream",
     "text": [
      "True Model: \n",
      " Chi-squared = 145.69492321345527 \n",
      " Degrees of Freedom = 30 \n",
      " Goodness of fit = 3.864971387398607e-17\n"
     ]
    },
    {
     "data": {
      "image/png": "[encoded data removed]",
      "text/plain": [
       "<Figure size 640x480 with 1 Axes>"
      ]
     },
     "metadata": {},
     "output_type": "display_data"
    }
   ],
   "source": [
    "chi_squared = np.sum((y-ymodel(x, A, phi))**2/(sigma_y/2)**2)\n",
    "deg_of_freedom = len(y)\n",
    "Q = sf.gammaincc(0.5*deg_of_freedom, 0.5*chi_squared)\n",
    "print(\"True Model: \\n Chi-squared = {} \\n Degrees of Freedom = {} \\n Goodness of fit = {}\".format(chi_squared, deg_of_freedom, Q))\n",
    "plt.errorbar(x, y, yerr=sigma_y/2, fmt='ro')\n",
    "plt.plot(x_points, ymodel(x_points, A, phi), 'r-')\n",
    "plt.axhline(0, color='k')\n",
    "plt.minorticks_on()"
   ]
  },
  {
   "cell_type": "markdown",
   "metadata": {},
   "source": [
    "Based on the $\\chi^2$, goodness of fit, **and from the plot itself** explain why this model does not agree well with the data."
   ]
  },
  {
   "cell_type": "markdown",
   "metadata": {
    "deletable": false,
    "nbgrader": {
     "cell_type": "markdown",
     "checksum": "99f683ec1b2b36b73cd83a71747ca1f0",
     "grade": true,
     "grade_id": "cell-216fbdf369943eb2",
     "locked": false,
     "points": 0.25,
     "schema_version": 3,
     "solution": true
    }
   },
   "source": [
    "Now, $\\chi^2$ is too large, which is cause the plot to not have a significant amount of datapoints have error bars that overlap the data. In this case, you would assume that the data is not consistent with the data. The goodness of fit is so small that you would assume there is no correlation."
   ]
  },
  {
   "cell_type": "markdown",
   "metadata": {},
   "source": [
    "### Best Fit\n",
    "\n",
    "Finally we *can* minimize the $\\chi^2$ to find the best fit values for the parameters $A$ and $\\phi$. It may come as a surprise to note that the best fit values are **not the true values**, even though we have generated fake data using particular values for the parameters, know the true errors, *etc*. You should find the $\\chi^2$ is smaller **but the goodness of fit may not be better** when the parameters take on values different than the true ones. Further, the values of the parameters should be \"close\" to the true values with \"close\" here being defined by the uncertainties in the best fit parameter values."
   ]
  },
  {
   "cell_type": "markdown",
   "metadata": {},
   "source": [
    "Perform a fit to the model using `scipy.optmize.curve_fit`. Do not forget to use `absolute_sigma=True`. Print the best fit values for the parameters $A$ and $\\phi$ along with their uncertainties. Also print the $\\chi^2$, the number of degrees of freedom, and the goodness of fit for the parameters found from this fit. (*Hint:* Since the parameters are now being fit for, what should the number of degrees of freedom be?)"
   ]
  },
  {
   "cell_type": "code",
   "execution_count": 13,
   "metadata": {
    "deletable": false,
    "nbgrader": {
     "cell_type": "code",
     "checksum": "fbfb8f16117e1d3813113682ffb6053b",
     "grade": true,
     "grade_id": "cell-de753946a0c2cb56",
     "locked": false,
     "points": 0.5,
     "schema_version": 3,
     "solution": true
    }
   },
   "outputs": [
    {
     "name": "stdout",
     "output_type": "stream",
     "text": [
      "Best Model: \n",
      " A = 3.958547560859022 +/- 0.5298800995601455 \n",
      " phi = 0.5968311358753431 +/- 0.12767559260326192 \n",
      " Chi-squared = 34.004299961936134 \n",
      " Degrees of Freedom = 28 \n",
      " Goodness of fit = 0.20073173903392136\n"
     ]
    }
   ],
   "source": [
    "p, C = opt.curve_fit(ymodel, x, y, sigma=sigma_y*np.ones_like(y), absolute_sigma=True)\n",
    "chi_squared = np.sum((y-ymodel(x, *p))**2/(sigma_y)**2)\n",
    "deg_of_freedom = len(y) - len(p)\n",
    "Q = sf.gammaincc(0.5*deg_of_freedom, 0.5*chi_squared)\n",
    "print(\"Best Model: \\n A = {0[0]} +/- {1[0]} \\n phi = {0[1]} +/- {1[1]} \\n Chi-squared = {2} \\n Degrees of Freedom = {3} \\n Goodness of fit = {4}\".format(p, np.sqrt(np.diag(C)),chi_squared, deg_of_freedom, Q))"
   ]
  },
  {
   "cell_type": "markdown",
   "metadata": {},
   "source": [
    "Produce a nice figure showing the data with its errors bars. Include in the figure a curve representing the true model and one representing the best fit model. (*Note:* It may not be obvious that the best fit model has a small $\\chi^2$, though it is worth staring at your figure to see that it seems plausible. Depending on your random realization the two curves may or may not be very different.)"
   ]
  },
  {
   "cell_type": "code",
   "execution_count": 14,
   "metadata": {
    "deletable": false,
    "nbgrader": {
     "cell_type": "code",
     "checksum": "56b4a14d60079bda512c21b0937f65ee",
     "grade": true,
     "grade_id": "cell-1dfb330831f20885",
     "locked": false,
     "points": 0.5,
     "schema_version": 3,
     "solution": true
    }
   },
   "outputs": [
    {
     "data": {
      "image/png": "[encoded data removed]",
      "text/plain": [
       "<Figure size 640x480 with 1 Axes>"
      ]
     },
     "metadata": {},
     "output_type": "display_data"
    }
   ],
   "source": [
    "fig = plt.figure()\n",
    "ax = fig.add_subplot(111)\n",
    "\n",
    "ax.errorbar(x, y, yerr=sigma_y, fmt='ro', label='Data', alpha = 0.7)\n",
    "ax.plot(x_points, ymodel(x_points, A, phi), 'r-', label='True Model', alpha = 0.7)\n",
    "ax.plot(x_points, ymodel(x_points, *p), 'b--', label='Best Fit Model')\n",
    "ax.axhline(0, color='k')\n",
    "ax.legend(loc='best', numpoints=1)\n",
    "ax.set_xlabel('x')\n",
    "ax.set_ylabel('y')\n",
    "ax.set_title('Random Data')\n",
    "ax.minorticks_on()"
   ]
  },
  {
   "cell_type": "markdown",
   "metadata": {},
   "source": [
    "### What did we just learn?\n",
    "\n",
    "The calculations performed above are nice, but what do we learn from them? The answer is somewhat subtle; such is the nature of statistics. Since we are using random data, some of the small details of the calculations can change. It is worthwhile to rerun the calculations for a few different data sets to see which results change and which do not. (If you do this you should make sure you leave your notebook in a state where all the calculations have been run for the same set of random data.) We should find that the $\\chi^2$ and goodness of fit for a model using the true parameters varies, perhaps even significantly. On the other hand, doubling the error bars always leads to a goodness of fit extremely close to one and halving the error bars always leads to a very small goodness of fit. Finally, the best fit parameters will not be the true values but will always be close (usually within 2 or 3 times the uncertainty in the parameters), the $\\chi^2$ will be smaller than that from the model with the known parameters, but the goodness of fit will sometimes be smaller and sometimes be larger.\n",
    "\n",
    "This last point may seem strange. How can it be that we have the best fit parameters and yet the goodness of fit be worse? The important point is that **when we perform a statistical calculation we are answering a specific question**. We must clearly understand the question we are asking before we can interpret the results. Further, if we ask a different question we will get a different answer and it is often difficult to know how to compare the results from two different statistical calculations.\n",
    "\n",
    "In the calculations performed here we have asked two different questions. In the first case we had a fixed model with **no free parameters**. Here we were asking how close is the data to a particular model with particular values for the parameters. In the second case we had a model with two parameters which could be optimized to find the values that best reproduce the data (best in the least squares sense). Here we were asking for the best fit values of the parameters in our model given the data. The \"fitting\" performed used some of the information in the data points to tune the values of the parameters, thus all of the data points were no longer independent pieces of information. Since we were asking different questions it is not surprising that trying to compare the values for the goodness of fit between the two cases can be confusing.\n",
    "\n",
    "Turning this around, comparing different cases such as we have here can be used to address the question of whether the data justifies (or needs) a more complicated model. Do we need to add more parameters to the model and fit for their best values? If adding more parameters does not increase the goodness of fit then we are not justified in adding them."
   ]
  },
  {
   "cell_type": "markdown",
   "metadata": {},
   "source": [
    "## Turning in the PreLab\n",
    "\n",
    "All prelabs will be handled as was done for PreLab01. See that file for details. It will be assumed from now on that you have read and understood the procedure and what it means when you submit a prelab."
   ]
  }
 ],
 "metadata": {
  "anaconda-cloud": {},
  "authors": [
   {
    "name": "Craig J Copi",
    "semester": "Spring 2025"
   }
  ],
  "kernelspec": {
   "display_name": ".venv",
   "language": "python",
   "name": "python3"
  },
  "language_info": {
   "codemirror_mode": {
    "name": "ipython",
    "version": 3
   },
   "file_extension": ".py",
   "mimetype": "text/x-python",
   "name": "python",
   "nbconvert_exporter": "python",
   "pygments_lexer": "ipython3",
   "version": "3.12.7"
  }
 },
 "nbformat": 4,
 "nbformat_minor": 4
}
