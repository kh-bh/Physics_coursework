{
 "cells": [
  {
   "cell_type": "markdown",
   "metadata": {},
   "source": [
    "# Pre Lab 05 : ODE\n",
    "\n",
    "## Objectives\n",
    "\n",
    "The main objectives of this lab are as follows.\n",
    "\n",
    "- Become familiar with array slicing. This is a very powerful was of easily manipulating data, but does require some practice for it to become natural.\n",
    "- Extend array slicing by slicing based on conditions.\n",
    "- Have an opportunity to use `lambda` functions (if desired).\n",
    "- Numerically solve a differential equation."
   ]
  },
  {
   "cell_type": "markdown",
   "metadata": {},
   "source": [
    "## Initialization\n",
    "\n",
    "As always you should add initialization to the top of your notebook. Note that random numbers will be used in this prelab so initialize a random number generator called `rng` in this cell too in the now standard way."
   ]
  },
  {
   "cell_type": "code",
   "execution_count": 1,
   "metadata": {
    "deletable": false,
    "nbgrader": {
     "cell_type": "code",
     "checksum": "1c092312e09082a493fc04c617f26f8d",
     "grade": true,
     "grade_id": "cell-7408df0aeb41ad92",
     "locked": false,
     "points": 0,
     "schema_version": 3,
     "solution": true
    }
   },
   "outputs": [],
   "source": [
    "import numpy as np\n",
    "import matplotlib.pyplot as plt\n",
    "import scipy.integrate as integ\n",
    "\n",
    "rng = np.random.default_rng()"
   ]
  },
  {
   "cell_type": "markdown",
   "metadata": {},
   "source": [
    "## Accessing Data in Arrays\n",
    "\n",
    "In our never ending quest to avoid writing loops we need ways of accessing and changing data in arrays without needing to individually step through each element. We have seen that most operations and functions act on arrays exactly as we would expect (or hope) they would. We have also seen that array slicing provides a convenient way of accessing parts of an array. We will now study this more carefully."
   ]
  },
  {
   "attachments": {
    "array_visualization.png": {
     "image/png": "[encoded data removed]"
    }
   },
   "cell_type": "markdown",
   "metadata": {},
   "source": [
    "### Indexing\n",
    "\n",
    "We have already seen how to index elements in an array. Array indices start at zero, whether this seems strange or the obvious choice depends on how you think about arrays and the programming languages you have used. If you are familiar with pointers or references, then this is the obvious choice. Consider the array `a = [0, 0.25, 0.5, 0.75, 1]`. In Python (and C and related languages) if we construct such an array, for example as `a = np.linspace(0, 1, 5)`, then we can think of `a` as pointing to the beginning of the array. Thus `a[0]` represents moving the pointer zero elements along the array, `a[1]` as moving the pointer one element along the array, and in general `a[j]` as moving `j` elements along the array. This is represented in the figure below, where we see that `a[2]` is two steps along the array so it contains the value `0.5`. This choice can seem confusing in the sense that `a[2]` is the *third element* in the array, not the second.\n",
    "\n",
    "![array_visualization.png](attachment:array_visualization.png)\n",
    "\n",
    "Similarly, this choice makes it easy to understand what it means to step backwards in an array. In particular `a[-1]` represents stepping one element backwards from the beginning of the array with the extra fact that we *wrap around* the array, so that we end up at the last element in it. We can then understand what any backwards step, `a[-j]`, means. For the example above this means that `a[-3]` is the same as `a[2]`.\n",
    "\n",
    "Note that while this way of picturing negative indexing is nice, we should be careful not to push it to far. An array is not cyclic (it is not periodic). We *can* walk off the end or beginning of the array. Thus in the example above, `a[j]` is **not defined** for $j\\ge 5$ nor $j<-5$.\n",
    "\n",
    "These ideas extend to two dimensional arrays. For a two dimensional array, `M`, then `M[i,j]` is the element from *row* `i` and *column* `j`. Again, both of these index values start from zero.\n",
    "\n",
    "It is expected that you are comfortable accessing elements of an array. Feel free to generate arrays and play with pulling out specific elements of them.\n",
    "\n",
    "###     Array Slicing\n",
    "\n",
    "Array slicing is discussed in detail in Sections 2.2 and 3.4 of the *Guide to Numpy* (see the course syllabus for a link). We will only need basic slicing and will study some simple cases here.\n",
    "\n",
    "#### One Dimension\n",
    "\n",
    "The index we use to access elements of an array need not just be a single number. The generic structure is `[start:end:step]`. This will give a view of the array starting at index `start` and proceeding up to, *but not including*, index `end` in steps of `step`. We can leave out any of the values and use the defaults instead. The default for `start` is the first index (zero), the default for `end` is the length of the array, and the default for `step` is one. This means there are many ways to reference the whole array. Let `a` be a one dimensional array, then all the following are equivalent: `a`, `a[:]`, `a[::]`, `a[0:len(a)]`, `a[0:len(a):]`, `a[0::1]`, and `a[0:len(a):1]`. \n",
    "\n",
    "Array slicing is more than just a convenient way of viewing the data, it also allows us to *change* parts of the array. Technically, array slicing gives a *view* of the array. It **does not make a copy**, it really produces a \"smart pointer\" that allows us to examine and modify parts of an array. This is a very important and powerful feature. For the small arrays we will work with here it would not matter if we made copies, but if we were working with very large arrays this would be very important.\n",
    "\n",
    "Let `a=np.arange(20)`. Use array slicing to print every third value of the array, that is, to print `a[0]`, `a[3]`, ...."
   ]
  },
  {
   "cell_type": "code",
   "execution_count": 2,
   "metadata": {
    "deletable": false,
    "nbgrader": {
     "cell_type": "code",
     "checksum": "8e04dc30bf32ef0328ed26217e81b8b5",
     "grade": true,
     "grade_id": "cell-34e5ceac48ac5525",
     "locked": false,
     "points": 0.25,
     "schema_version": 3,
     "solution": true
    }
   },
   "outputs": [
    {
     "name": "stdout",
     "output_type": "stream",
     "text": [
      "[ 0  3  6  9 12 15 18]\n"
     ]
    }
   ],
   "source": [
    "a = np.arange(20)\n",
    "print(a[::3])"
   ]
  },
  {
   "cell_type": "markdown",
   "metadata": {},
   "source": [
    "For the array of **integers** `a` from the previous part, use array slicing to modify the array in places so that all the even elements are divided by 2, that is, replace all the even values by their values divided by 2. Print the modified array. (*Note:* Python supports in-place operators such as `+=`, `-=`, `*=`, `/=`, `//=`, and a few others that you may be familiar with from other languages. It does not, however, support `++` nor `--`.)"
   ]
  },
  {
   "cell_type": "code",
   "execution_count": 3,
   "metadata": {
    "deletable": false,
    "nbgrader": {
     "cell_type": "code",
     "checksum": "070a72d521487e59c3a97d543eeae543",
     "grade": true,
     "grade_id": "cell-eb74e5110f608ab2",
     "locked": false,
     "points": 0.25,
     "schema_version": 3,
     "solution": true
    }
   },
   "outputs": [
    {
     "name": "stdout",
     "output_type": "stream",
     "text": [
      "[ 0  1  1  3  2  5  3  7  4  9  5 11  6 13  7 15  8 17  9 19]\n"
     ]
    }
   ],
   "source": [
    "a[::2] = a[::2]/2\n",
    "\n",
    "print(a)"
   ]
  },
  {
   "cell_type": "markdown",
   "metadata": {},
   "source": [
    "#### Higher Dimensions\n",
    "\n",
    "Array slicing works for higher dimensional arrays also. Let `M` be a two dimensional array with 6 rows and 4 columns. Since NumPy arrays are accessed in row major order, the fourth row of the array can be accessed as `M[3,:]` or in shorthand as `M[3]`. The third column can be accessed as `M[:,2]`. Notice that to access a row we can use a shortcut but to access a column we must specify something about the rows. In the example of accessing the third column we are asking for all the rows (represented by the `:`).\n",
    "\n",
    "For `M` a 6 by 4 array as discussed above state the size and the specific elements that will be accessed by `M[::2,::3]`. For example, this will access `M[0,0]`, what other elements will this access? How many rows and columns will be accessed? (*Note:* You should think about this first, then construct an example array and test your ideas.)"
   ]
  },
  {
   "cell_type": "markdown",
   "metadata": {
    "deletable": false,
    "nbgrader": {
     "cell_type": "markdown",
     "checksum": "31f96f96470951e5596cdde245e74749",
     "grade": true,
     "grade_id": "cell-59b030084914b853",
     "locked": false,
     "points": 0.25,
     "schema_version": 3,
     "solution": true
    }
   },
   "source": [
    "For an array where we want to find [::2,::3], we would assume that the elements that will be accessed will be in every other row starting at 0 (aka divisible by 2) and every third column starting at 0 (aka divisible by 3). For an array of size 6 by 4, we can assume that the rows accessed will be 0,2,4 and the columns accessed will be 0,3. Therefore, if we have an array with values from 0-24, we should get 0, 3, 8, 11, 16, and 19."
   ]
  },
  {
   "cell_type": "code",
   "execution_count": 4,
   "metadata": {},
   "outputs": [
    {
     "name": "stdout",
     "output_type": "stream",
     "text": [
      "[[ 0  3]\n",
      " [ 8 11]\n",
      " [16 19]]\n"
     ]
    }
   ],
   "source": [
    "b = np.arange(24).reshape(6,4)\n",
    "#print(b)\n",
    "print(b[::2,::3])"
   ]
  },
  {
   "cell_type": "markdown",
   "metadata": {},
   "source": [
    "### Conditional Slicing\n",
    "\n",
    "The simple slicing discussed above is great if we have regularly spaced indices we wish to access. There are also techniques for selecting elements of an array based on other conditions. One way of doing this is through the `where` function provided by NumPy (you are now looking up its documentation). To become familiar with using it we will consider a simple example."
   ]
  },
  {
   "cell_type": "code",
   "execution_count": 5,
   "metadata": {},
   "outputs": [
    {
     "data": {
      "text/plain": [
       "(array([10, 11, 12, 13, 14, 15, 16, 17, 18, 19]),)"
      ]
     },
     "execution_count": 5,
     "metadata": {},
     "output_type": "execute_result"
    }
   ],
   "source": [
    "a = np.linspace(0, 1, 20)\n",
    "np.where(a >= 0.5)"
   ]
  },
  {
   "cell_type": "markdown",
   "metadata": {},
   "source": [
    "By default the `where` function returns an array of index values for which the condition specified is true. Actually, if we look more closely at what is printed we see it really is returning a `tuple` of arrays. This is done because the `where` function also works for multidimensional arrays and it is returning the index values in a more general format. (This is discussed in the sections of the *Guide to Numpy* noted above.) This is \"annoying\" when working with 1 dimensional arrays when we are interested in the index values themselves (as opposed to the values in array `a`). A couple of common idioms for obtaining the array of index values in the one dimensional case are\n",
    "```\n",
    "ind = np.where(a >= 0.5)[0]\n",
    "ind, = np.where(a >= 0.5)\n",
    "```\n",
    "Notice the comma in the second expression this is here for a similar reason as the one we included in `args` last week.\n",
    "\n",
    "Construct an array of 20 random values between 0 and 1 using `rng.random`. Use the `where` function to find all values in this array larger than 0.5. Replace those values with one minus their value, that is \"fold\" them back to be in the interval $[0,0.5]$. Print the updated array."
   ]
  },
  {
   "cell_type": "code",
   "execution_count": 6,
   "metadata": {
    "deletable": false,
    "nbgrader": {
     "cell_type": "code",
     "checksum": "69579866bf826b68c00871cce4ad8ea8",
     "grade": true,
     "grade_id": "cell-1a3b02db7aa78e60",
     "locked": false,
     "points": 0.25,
     "schema_version": 3,
     "solution": true
    }
   },
   "outputs": [
    {
     "name": "stdout",
     "output_type": "stream",
     "text": [
      "Original Array\n",
      "[0.76798723 0.93808597 0.49911211 0.86830074 0.08412371 0.79244523\n",
      " 0.05859352 0.4259226  0.34856393 0.56477449 0.54071931 0.66126938\n",
      " 0.73371976 0.38999975 0.81303045 0.74364591 0.55056369 0.24491327\n",
      " 0.58614078 0.72741441]\n",
      "\n",
      "Updated Array:\n",
      "[0.76798723 0.93808597 0.50088789 0.86830074 0.91587629 0.79244523\n",
      " 0.94140648 0.5740774  0.65143607 0.56477449 0.54071931 0.66126938\n",
      " 0.73371976 0.61000025 0.81303045 0.74364591 0.55056369 0.75508673\n",
      " 0.58614078 0.72741441]\n"
     ]
    }
   ],
   "source": [
    "a = rng.random(size=20)\n",
    "ind, = np.where(a <= 0.5)\n",
    "print(\"Original Array\")\n",
    "print(a)\n",
    "a[ind] = 1 - a[ind]\n",
    "print(\"\\nUpdated Array:\")\n",
    "print(a)"
   ]
  },
  {
   "cell_type": "markdown",
   "metadata": {},
   "source": [
    "The previous question could be solved without using the `where` function. We can instead directly construct a boolean array showing where the condition is satisfied as seen here (run this cell)."
   ]
  },
  {
   "cell_type": "code",
   "execution_count": 7,
   "metadata": {},
   "outputs": [
    {
     "name": "stdout",
     "output_type": "stream",
     "text": [
      "[0.6200839  0.9916348  0.9701368  0.36444686 0.25547367 0.50783963\n",
      " 0.56957192 0.94518619 0.69582112 0.97694804 0.80352902 0.82963962\n",
      " 0.05955969 0.36558911 0.81420267 0.26816031 0.97388371 0.38165483\n",
      " 0.13365267 0.0605831 ]\n",
      "[ True  True  True False False  True  True  True  True  True  True  True\n",
      " False False  True False  True False False False]\n"
     ]
    }
   ],
   "source": [
    "b = rng.random(size=20)\n",
    "boolind = b > 0.5\n",
    "print(b)\n",
    "print(boolind)"
   ]
  },
  {
   "cell_type": "markdown",
   "metadata": {},
   "source": [
    "This boolean array can also be used as an index. (Think about the following cells before you run them. What do you expect to happen and why? Then run them and make sense of the results for yourself!)"
   ]
  },
  {
   "cell_type": "code",
   "execution_count": 8,
   "metadata": {},
   "outputs": [
    {
     "name": "stdout",
     "output_type": "stream",
     "text": [
      "[0.6200839  0.9916348  0.9701368  0.50783963 0.56957192 0.94518619\n",
      " 0.69582112 0.97694804 0.80352902 0.82963962 0.81420267 0.97388371]\n"
     ]
    }
   ],
   "source": [
    "# Only print the values satisfying our condition: b>0.5\n",
    "print(b[boolind])"
   ]
  },
  {
   "cell_type": "markdown",
   "metadata": {},
   "source": [
    "Finally, multiple conditions can be specified using the logical operator `|` for *or* and `&` for *and*. In doing so we must be careful about *order of operations*. It is best to enclose conditions in parentheses. The conditions can be specified in the same way in the `where` function and they create a boolean array. Again, it is best to look at some examples."
   ]
  },
  {
   "cell_type": "code",
   "execution_count": 9,
   "metadata": {},
   "outputs": [
    {
     "name": "stdout",
     "output_type": "stream",
     "text": [
      "[0.         0.05263158 0.10526316 0.15789474 0.21052632 0.78947368\n",
      " 0.84210526 0.89473684 0.94736842 1.        ]\n",
      "[0.26315789 0.31578947 0.36842105 0.42105263 0.47368421 0.52631579\n",
      " 0.57894737 0.63157895 0.68421053 0.73684211]\n"
     ]
    }
   ],
   "source": [
    "a = np.linspace(0, 1, 20)\n",
    "# Print all values smaller than 0.25 or larger than 0.75.\n",
    "# We could do this with the where command or a boolean array,\n",
    "# here I show the use of the where command.\n",
    "ind = np.where((a < 0.25) | (a > 0.75))\n",
    "print(a[ind])\n",
    "# Print all the values between 0.25 and 0.75, inclusive.\n",
    "# Here I show the use of a boolean array.\n",
    "print(a[(a >= 0.25) & (a <= 0.75)])"
   ]
  },
  {
   "cell_type": "markdown",
   "metadata": {},
   "source": [
    "Construct a 6 by 4 array of random values using `rng.random`. Print all values in the array less than 0.3 or between 0.5 and 0.8, inclusive."
   ]
  },
  {
   "cell_type": "code",
   "execution_count": 10,
   "metadata": {
    "deletable": false,
    "nbgrader": {
     "cell_type": "code",
     "checksum": "79dcc4ed5ca49622c5c07b1b8549c9ab",
     "grade": true,
     "grade_id": "cell-bab4c77d61ff1b32",
     "locked": false,
     "points": 0.25,
     "schema_version": 3,
     "solution": true
    }
   },
   "outputs": [
    {
     "name": "stdout",
     "output_type": "stream",
     "text": [
      "Original Array\n",
      "[[0.86077831 0.84652737 0.43381144 0.65342902 0.62767844 0.91941237]\n",
      " [0.81334855 0.01700851 0.28595756 0.18489408 0.78750236 0.06858268]\n",
      " [0.7504178  0.38307156 0.72060231 0.28095982 0.18947834 0.95230745]\n",
      " [0.89450378 0.28245941 0.60808438 0.69751923 0.99994409 0.76017455]]\n",
      "\n",
      "Filtered Array:\n",
      "[0.65342902 0.62767844 0.01700851 0.28595756 0.18489408 0.78750236\n",
      " 0.06858268 0.7504178  0.72060231 0.28095982 0.18947834 0.28245941\n",
      " 0.60808438 0.69751923 0.76017455]\n"
     ]
    }
   ],
   "source": [
    "a = rng.random((4,6))\n",
    "\n",
    "print(\"Original Array\")\n",
    "print(a)\n",
    "\n",
    "print(\"\\nFiltered Array:\")\n",
    "print(a[(a <= 0.3) | ((a >= 0.5) & (a <= 0.8))])"
   ]
  },
  {
   "cell_type": "markdown",
   "metadata": {},
   "source": [
    "### View Versus Copy\n",
    "\n",
    "NumPy always tries to return a view of an array when it can, only making a copy when it is necessary. The exact rules for this depend on many details we have not discussed. For us this means that we must always be careful when assigning arrays, or slices of arrays, to variables; particularly if we then change some elements of the arrays or their slices. Things may not behave as we expect. This can lead to many hard to discover bugs, particularly when arrays are passed to functions and those functions change elements in the array they receive. We expect these changes to be localized to the function, but they are not!\n",
    "\n",
    "If we are going to change elements of an array and we are uncertain if it is also stored and used under another name, it is best to make a copy of the array. For example\n",
    "```\n",
    "b = a.copy()\n",
    "```\n",
    "will ensure that `b` starts with the same elements as `a`, but is a copy, so changing `b` will not affect `a`.\n",
    "\n",
    "To make this more clear consider the following cell. Think about what you expect `a`, `b`, `c`, and `d` to contain after this is run."
   ]
  },
  {
   "cell_type": "code",
   "execution_count": 11,
   "metadata": {},
   "outputs": [],
   "source": [
    "a = np.arange(10)\n",
    "b = a[::2]\n",
    "b += 1\n",
    "c = np.arange(10)\n",
    "d = c[::2].copy()\n",
    "d += 1"
   ]
  },
  {
   "cell_type": "markdown",
   "metadata": {},
   "source": [
    "After you have thought about what you expect, print all four arrays."
   ]
  },
  {
   "cell_type": "code",
   "execution_count": 12,
   "metadata": {
    "deletable": false,
    "nbgrader": {
     "cell_type": "code",
     "checksum": "56d0f68b9bc8dc359657081cb12d4b61",
     "grade": true,
     "grade_id": "cell-c254b42c64cd1d7f",
     "locked": false,
     "points": 0,
     "schema_version": 3,
     "solution": true
    }
   },
   "outputs": [
    {
     "name": "stdout",
     "output_type": "stream",
     "text": [
      "[1 1 3 3 5 5 7 7 9 9]\n",
      "[1 3 5 7 9]\n",
      "[0 1 2 3 4 5 6 7 8 9]\n",
      "[1 3 5 7 9]\n"
     ]
    }
   ],
   "source": [
    "print(a)\n",
    "print(b)\n",
    "print(c)\n",
    "print(d)"
   ]
  },
  {
   "cell_type": "markdown",
   "metadata": {},
   "source": [
    "Explain why the arrays have the values they have."
   ]
  },
  {
   "cell_type": "markdown",
   "metadata": {
    "deletable": false,
    "nbgrader": {
     "cell_type": "markdown",
     "checksum": "fc55540a3b29b519f993709cf7d71b13",
     "grade": true,
     "grade_id": "cell-5de26e25934e7258",
     "locked": false,
     "points": 0.25,
     "schema_version": 3,
     "solution": true
    }
   },
   "source": [
    "Array A has an end value of [1 1 3 3 5 5 7 7 9 9] because of the change that was done to array b. Since array b was made without the .copy() extension, any changes that were done to b were also done to array a. Thus, when we added 1 to every index divisible by 2, the same change happened to array 1, which causes the \"doubles\" of odd numbers. On the other hand, array c and array d look normal because when creating array d, the .copy() extension was added, which means the changes mde to array d were only made to array d."
   ]
  },
  {
   "cell_type": "markdown",
   "metadata": {},
   "source": [
    "## Lane-Emden Equation\n",
    "\n",
    "The Lane-Emden equation describes a self-gravitating, spherically symmetric, polytropic fluid. It is often used as a (rather) simple model of a star. A polytropic fluid is one that satisfies the polytropic equation of state, $P \\propto \\rho^{1+1/n}$, where $P$ is the pressure, $\\rho$ is the density, and $n$ is called the polytropic index. Written in dimensionless form, the Lane-Emden equation becomes the second order differential equation:\n",
    "$$ \\frac1{\\xi^2} \\frac{\\mathrm{d}}{\\mathrm{d}\\xi} \\left( \\xi^2 \\frac{\\mathrm{d}\\theta}{\\mathrm{d}\\xi} \\right) + \\theta^n = 0. $$\n",
    "Here $\\xi$ is a dimensionless radius and $\\theta^n$ is proportional to the density (and so is also related to the pressure) in the fluid. See [Wikipedia](http://en.wikipedia.org/wiki/Lane%E2%80%93Emden_equation) for a brief discussion and derivation. For our purposes, this is just a differential equation we can solve numerically.\n",
    "\n",
    "We now want to write a function that can be used by `scipy.integrate.solve_ivp` to solve this differential equation. *Before* starting to write code, clearly describe the **first order system of differential equations** and the choices you have made in defining your function. Yes, you do need to perform some mathematical manipulations *before* turning to the computer to reduce this equation to a set of first order equations. Typeset your resulting system using LaTeX."
   ]
  },
  {
   "cell_type": "markdown",
   "metadata": {
    "deletable": false,
    "nbgrader": {
     "cell_type": "markdown",
     "checksum": "5bafaa51acb1398a066692f7d742ccf7",
     "grade": true,
     "grade_id": "cell-08c84c3b65aa1cff",
     "locked": false,
     "points": 0.5,
     "schema_version": 3,
     "solution": true
    }
   },
   "source": [
    "$\\frac{\\mathrm{d}\\theta}{\\mathrm{d}\\xi} = \\frac{\\omega}{\\xi^2}$\n",
    "\n",
    "$\\frac{\\mathrm{d}\\omega}{\\mathrm{d}\\xi} = -\\theta^n\\xi^2.$"
   ]
  },
  {
   "cell_type": "markdown",
   "metadata": {},
   "source": [
    "Write the code implementing the system of equations you described above. We want our function to *also* accept the parameter $n$ with the default value of zero. **You must document this function.** Though you should have always been doing this, **any non-trivial function must be documented** using a *docstring* as has been seen in many examples and solutions.\n",
    "\n",
    "*Note*: I have chosen to write the function using notation for the arguments as `f(t,y)` since that is what appears in documentation for `solve_ivp`. There is nothing wrong with, and perhaps it is actually preferable, to change the names of the variables to something more representative of the problem we are solving."
   ]
  },
  {
   "cell_type": "code",
   "execution_count": 13,
   "metadata": {
    "deletable": false,
    "nbgrader": {
     "cell_type": "code",
     "checksum": "fcb2561a74b89fcdb53b1a674dd8fd8d",
     "grade": true,
     "grade_id": "cell-7993a777003fb47c",
     "locked": false,
     "points": 0.5,
     "schema_version": 3,
     "solution": true
    }
   },
   "outputs": [],
   "source": [
    "def lane_emden(t, y, n=0):\n",
    "    \"\"\"\n",
    "    Lane-Emden equation for a self-gravitating, spherically symmetric, polytopic fluid.\n",
    "    Inputs:\n",
    "        t: Current radius step (float)\n",
    "        y: Theta (related to density by rho = rho_c*θ^n) and change in theta with radius (array)\n",
    "            Stored as:\n",
    "            y[0] = theta\n",
    "            y[1] = omega \n",
    "        n: Polytropic index, default value = 0 (float)\n",
    "    Return:\n",
    "        The array of derivatives dy/dt in the same order as y.\n",
    "    \"\"\"\n",
    "    dydt = np.zeros_like(y)\n",
    "    dydt[0] = y[1]/t**2\n",
    "    dydt[1] = -((y[0])**n)*(t**2)\n",
    "    return dydt"
   ]
  },
  {
   "cell_type": "markdown",
   "metadata": {},
   "source": [
    "### $n=0$ Polytrope\n",
    "\n",
    "Whenever we solve a problem numerically we should try to find a case with a known solution to use as a test of our technique. The solution to the Lane-Emden equation for $n=0$ can directly be shown to be\n",
    "$$ \\theta(\\xi) = C_0 - \\frac{C_1}{\\xi} - \\frac16 \\xi^2, $$\n",
    "where $C_0$ and $C_1$ are constants determined from the initial conditions. We will use this result.\n",
    "\n",
    "Solve the Lane-Emden equation for $n=0$ using `solve_ivp` and the initial conditions $\\theta(0)=1$ and $\\frac{\\mathrm{d}\\theta}{\\mathrm{d}\\xi}(0)=0$. Compare your numerical answer to the exact solution by producing a quick plot. (To calculate the exact solution you will need to solve for the constants $C_0$ and $C_1$ given these initial conditions -- think about what values make sense!). Make sure you integrate to a large enough $\\xi$ so that $\\theta$ becomes negative.\n",
    "\n",
    "You were told to \"compare\" the results, what would be a smart way to compare them and show how well they agree? Even though this is \"just\" a quick plot, we should make sure it is clear what we are showing.\n",
    "\n",
    "**Note:** Your system of equations should diverge numerically for $\\xi=0$. To work around this start integrating from a small value of $\\xi$ instead of zero, such as $\\xi = 10^{-8}$. Also, we chose a default of `n=0` so we do not need to do anything special when calling the function we defined above.\n",
    "Further, recall that `solve_ivp` chooses where to evaluate the solution unless you tell it otherwise.\n",
    "If a plot is sparsely populated does that show that the solutions agree?\n",
    "What could we do in this case?"
   ]
  },
  {
   "cell_type": "code",
   "execution_count": 14,
   "metadata": {
    "deletable": false,
    "nbgrader": {
     "cell_type": "code",
     "checksum": "fc1c6c80ff9873163cdfda8adf99bdb1",
     "grade": true,
     "grade_id": "cell-f39c76ca74b6e112",
     "locked": false,
     "points": 0.5,
     "schema_version": 3,
     "solution": true
    }
   },
   "outputs": [
    {
     "data": {
      "text/plain": [
       "200"
      ]
     },
     "execution_count": 14,
     "metadata": {},
     "output_type": "execute_result"
    },
    {
     "data": {
      "image/png": "[encoded data removed]",
      "text/plain": [
       "<Figure size 640x480 with 1 Axes>"
      ]
     },
     "metadata": {},
     "output_type": "display_data"
    }
   ],
   "source": [
    "y0 = np.array([1, 0])\n",
    "\n",
    "t = np.linspace(0,5,200)\n",
    "analytic_solution = 1-(t**2)/6\n",
    "\n",
    "solution=integ.solve_ivp(lane_emden, (1e-8, 5), y0, dense_output=True, vectorized=True, atol=1e-12, rtol=1e-12)\n",
    "theta = solution.sol(t)[0]\n",
    "\n",
    "fig = plt.figure()\n",
    "ax = fig.add_subplot(111)\n",
    "\n",
    "ax.plot(t, analytic_solution, color = 'darkblue', lw=3, label= 'theta(t): Analytic')\n",
    "ax.plot(t, theta, color = 'lightcoral', ls = 'dashed', lw=3, label= 'theta(t): Numerical')\n",
    "ax.legend()\n",
    "ax.set_xlabel('Radius')\n",
    "ax.set_ylabel('Theta')\n",
    "ax.set_title('Lane-Emden Equation for n=0')\n",
    "len(solution.sol(t)[0])"
   ]
  },
  {
   "cell_type": "markdown",
   "metadata": {},
   "source": [
    "### $n=2$ Polytrope\n",
    "\n",
    "Now we will numerically solve the Lane-Emden equation for $n=2$.\n",
    "\n",
    "To pass in the $n$ value we can use the `args` argument to `solve_ivp` or use a `lambda` function.\n",
    "See the example notebook from this week for how this is done in practice.\n",
    "\n",
    "Since $\\theta(\\xi)$ is related to the density, when $\\theta(\\xi)=0$, the edge of the fluid has been reached.\n",
    "When applied to a star, this defines its radius.\n",
    "Find the value of $\\xi$ for which $\\theta(\\xi) \\simeq 0$.\n",
    "We have seen problems like this a few times and can start by getting a **quick estimate** using the `where` function.\n",
    "Find and print this value.\n",
    "\n",
    "Of course we can also do much better.\n",
    "Find a more accurate value and also print it.\n",
    "One way to more accurately find the required value using the `events` keyword to `solve_ivp`.\n",
    "There are other ways.\n",
    "Any accurate method acceptable.\n",
    "\n",
    "*Hint:* When using the `where` function it is easy to find all index values where $\\theta<0$.\n",
    "We do not want all of them, just the smallest value of $\\xi$ for which this condition is met.\n"
   ]
  },
  {
   "cell_type": "code",
   "execution_count": 15,
   "metadata": {
    "deletable": false,
    "nbgrader": {
     "cell_type": "code",
     "checksum": "857c32c042ec9f35d5dbe780718b7660",
     "grade": true,
     "grade_id": "cell-a3813d0c9f27d5dd",
     "locked": false,
     "points": 1,
     "schema_version": 3,
     "solution": true
    }
   },
   "outputs": [
    {
     "name": "stdout",
     "output_type": "stream",
     "text": [
      "Estimate epsilon such that of theta(epsilon) is 0: 4.371859296482413\n",
      "Value of epsilon found using events: 4.35287459594114\n"
     ]
    }
   ],
   "source": [
    "n = 2\n",
    "\n",
    "def event(t,y,n): \n",
    "    return y[0]\n",
    "\n",
    "solution=integ.solve_ivp(lane_emden, (1e-8, 5), y0, args=(n,), dense_output=True, vectorized=True, atol=1e-12, rtol=1e-12, events=event)\n",
    "\n",
    "theta = solution.sol(t)[0]\n",
    "ls = np.where(theta<0)[0]\n",
    "print('Estimate epsilon such that of theta(epsilon) is 0: {}'.format(t[ls[0]]))\n",
    "print(\"Value of epsilon found using events: {}\".format(solution.t_events[0][0]))"
   ]
  },
  {
   "cell_type": "markdown",
   "metadata": {},
   "source": [
    "## Turning in the PreLab\n",
    "\n",
    "All prelabs will be handled as was done for PreLab01. See that file for details. It will be assumed from now on that you have read and understood the procedure and what it means when you submit a prelab."
   ]
  }
 ],
 "metadata": {
  "anaconda-cloud": {},
  "authors": [
   {
    "name": "Craig J Copi",
    "semester": "Spring 2024"
   }
  ],
  "kernelspec": {
   "display_name": ".venv",
   "language": "python",
   "name": "python3"
  },
  "language_info": {
   "codemirror_mode": {
    "name": "ipython",
    "version": 3
   },
   "file_extension": ".py",
   "mimetype": "text/x-python",
   "name": "python",
   "nbconvert_exporter": "python",
   "pygments_lexer": "ipython3",
   "version": "3.12.7"
  }
 },
 "nbformat": 4,
 "nbformat_minor": 4
}
