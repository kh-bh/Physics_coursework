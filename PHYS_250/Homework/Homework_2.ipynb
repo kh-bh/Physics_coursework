{
 "cells": [
  {
   "cell_type": "code",
   "execution_count": 99,
   "metadata": {},
   "outputs": [],
   "source": [
    "import urllib.request\n",
    "import scipy.interpolate as interp\n",
    "import numpy as np\n",
    "import matplotlib.pyplot as plt\n",
    "import scipy.optimize as opt"
   ]
  },
  {
   "cell_type": "markdown",
   "metadata": {},
   "source": [
    "#### Problem 1"
   ]
  },
  {
   "cell_type": "code",
   "execution_count": 100,
   "metadata": {},
   "outputs": [],
   "source": [
    "#Years 1960,1970,1980,1990,2000,2010,2020,2050\n",
    "pop = np.array([3.015470894, 3.694683794, 4.447606236, 5.327803110, 6.171702993, 7.021732148, 7.887001292, 9.664378587])"
   ]
  },
  {
   "cell_type": "code",
   "execution_count": 101,
   "metadata": {},
   "outputs": [],
   "source": [
    "q1 = interp.lagrange([1980,2000], pop[[2,4]])\n",
    "\n",
    "pop1990 = q1(1990)"
   ]
  },
  {
   "cell_type": "code",
   "execution_count": 102,
   "metadata": {},
   "outputs": [
    {
     "name": "stdout",
     "output_type": "stream",
     "text": [
      "Population in 1990 : est 5.309654615 billion, frac error 0.003406375\n"
     ]
    }
   ],
   "source": [
    "print(\"Population in {} : est {:.9f} billion, frac error {:.9f}\".format(\n",
    "1990, pop1990, np.abs(1-pop1990/pop[3])))"
   ]
  },
  {
   "cell_type": "code",
   "execution_count": 103,
   "metadata": {},
   "outputs": [
    {
     "name": "stdout",
     "output_type": "stream",
     "text": [
      "Population in 1960 : est 2.723509479 billion, frac error 0.096821168\n",
      "Population in 2020 : est 7.895799750 billion, frac error 0.001115564\n"
     ]
    }
   ],
   "source": [
    "pop1960 = q1(1960)\n",
    "print(\"Population in {} : est {:.9f} billion, frac error {:.9f}\".format(\n",
    "1960, pop1960, np.abs(1-pop1960/pop[0])))\n",
    "\n",
    "pop2020 = q1(2020)\n",
    "print(\"Population in {} : est {:.9f} billion, frac error {:.9f}\".format(\n",
    "2020, pop2020, np.abs(1-pop2020/pop[6])))"
   ]
  },
  {
   "cell_type": "code",
   "execution_count": 104,
   "metadata": {},
   "outputs": [
    {
     "name": "stdout",
     "output_type": "stream",
     "text": [
      "Population in 2050 : est 10.481944886 billion\n",
      "Population in 2100 : est 14.792186778 billion\n"
     ]
    }
   ],
   "source": [
    "pop2050 = q1(2050)\n",
    "print(\"Population in {} : est {:.9f} billion\".format(2050, pop2050))\n",
    "pop2100 = q1(2100)\n",
    "print(\"Population in {} : est {:.9f} billion\".format(2100, pop2100))"
   ]
  },
  {
   "cell_type": "code",
   "execution_count": 105,
   "metadata": {},
   "outputs": [
    {
     "name": "stdout",
     "output_type": "stream",
     "text": [
      "Population in 1990 : est 5.273279302 billion, frac error 0.010233826\n",
      "Population in 1960 : est 3.014511976 billion, frac error 0.000317999\n",
      "Population in 2020 : est 8.186802247 billion, frac error 0.038012033\n",
      "Population in 2050 : est 11.755080811 billion\n",
      "Population in 2100 : est 19.157224238 billion\n"
     ]
    }
   ],
   "source": [
    "i2 = interp.lagrange([1970, 1980, 2000], pop[[1,2,4]])\n",
    "pop1990 = i2(1990)\n",
    "pop1960 = i2(1960)\n",
    "pop2020 = i2(2020)\n",
    "pop2050 = i2(2050)\n",
    "pop2100 = i2(2100)\n",
    "print(\"Population in {} : est {:.9f} billion, frac error {:.9f}\".format(\n",
    "1990, pop1990, np.abs(1-pop1990/pop[3])))\n",
    "print(\"Population in {} : est {:.9f} billion, frac error {:.9f}\".format(\n",
    "1960, pop1960, np.abs(1-pop1960/pop[0])))\n",
    "print(\"Population in {} : est {:.9f} billion, frac error {:.9f}\".format(\n",
    "2020, pop2020, np.abs(1-pop2020/pop[6])))\n",
    "print(\"Population in {} : est {:.9f} billion\".format(2050, pop2050))\n",
    "print(\"Population in {} : est {:.9f} billion\".format(2100, pop2100))"
   ]
  },
  {
   "cell_type": "markdown",
   "metadata": {},
   "source": [
    "#### Question 2"
   ]
  },
  {
   "cell_type": "code",
   "execution_count": 106,
   "metadata": {},
   "outputs": [
    {
     "name": "stdout",
     "output_type": "stream",
     "text": [
      "Values stored in the `time` array:\n",
      "\t [1. 2. 3. 4. 7. 8. 9.]\n",
      "Values stored in the `position` array:\n",
      "\t [-3.4083885 -5.6100975 -5.8256509 -3.9787359  5.3127362  5.9562532\n",
      "  4.4910645]\n"
     ]
    }
   ],
   "source": [
    "url = 'https://raw.githubusercontent.com/cwru-phys-250/resources/main/data/hw2.dat'\n",
    "with urllib.request.urlopen(url) as fp:\n",
    "    (time, position) = np.loadtxt(fp, unpack=True)\n",
    "\n",
    "print (\"Values stored in the `time` array:\\n\\t\", time)\n",
    "print (\"Values stored in the `position` array:\\n\\t\", position)"
   ]
  },
  {
   "cell_type": "code",
   "execution_count": 107,
   "metadata": {},
   "outputs": [
    {
     "data": {
      "text/plain": [
       "<scipy.interpolate._bsplines.BSpline at 0x1afcba69310>"
      ]
     },
     "execution_count": 107,
     "metadata": {},
     "output_type": "execute_result"
    }
   ],
   "source": [
    "posInterpolation = interp.make_interp_spline(time, position)\n",
    "posInterpolation"
   ]
  },
  {
   "cell_type": "code",
   "execution_count": 108,
   "metadata": {},
   "outputs": [
    {
     "name": "stdout",
     "output_type": "stream",
     "text": [
      "Position at day 5 : -0.746379 arcseconds\n",
      "Position at day 6 : 2.748133 arcseconds\n"
     ]
    }
   ],
   "source": [
    "print(\"Position at day {} : {:8f} arcseconds\".format(5, posInterpolation(5)))\n",
    "print(\"Position at day {} : {:8f} arcseconds\".format(6, posInterpolation(6)))"
   ]
  },
  {
   "cell_type": "code",
   "execution_count": 109,
   "metadata": {},
   "outputs": [
    {
     "data": {
      "text/plain": [
       "np.float64(3.4945125299266233)"
      ]
     },
     "execution_count": 109,
     "metadata": {},
     "output_type": "execute_result"
    }
   ],
   "source": [
    "np.abs(posInterpolation(6)) + np.abs(posInterpolation(5))"
   ]
  },
  {
   "cell_type": "code",
   "execution_count": 115,
   "metadata": {},
   "outputs": [
    {
     "data": {
      "text/plain": [
       "np.float64(9.2914721)"
      ]
     },
     "execution_count": 115,
     "metadata": {},
     "output_type": "execute_result"
    }
   ],
   "source": [
    "np.abs(posInterpolation(4)) + np.abs(posInterpolation(7))"
   ]
  },
  {
   "cell_type": "code",
   "execution_count": 110,
   "metadata": {},
   "outputs": [
    {
     "name": "stdout",
     "output_type": "stream",
     "text": [
      "Minimum diameter = 5.496266525681339 arcseconds\n"
     ]
    }
   ],
   "source": [
    "print(\"Minimum diameter = {} arcseconds\".format(2*np.abs(posInterpolation([5,6])).max()))"
   ]
  },
  {
   "cell_type": "code",
   "execution_count": 111,
   "metadata": {},
   "outputs": [
    {
     "name": "stdout",
     "output_type": "stream",
     "text": [
      "Maximum diameter = 6.816777 arcseconds\n"
     ]
    }
   ],
   "source": [
    "print(\"Maximum diameter = {} arcseconds\".format(2*np.abs(position).min()))"
   ]
  },
  {
   "cell_type": "code",
   "execution_count": 112,
   "metadata": {},
   "outputs": [
    {
     "name": "stdout",
     "output_type": "stream",
     "text": [
      "\u001b[1;31mSignature:\u001b[0m      \u001b[0mposInterpolation\u001b[0m\u001b[1;33m(\u001b[0m\u001b[0mx\u001b[0m\u001b[1;33m,\u001b[0m \u001b[0mnu\u001b[0m\u001b[1;33m=\u001b[0m\u001b[1;36m0\u001b[0m\u001b[1;33m,\u001b[0m \u001b[0mextrapolate\u001b[0m\u001b[1;33m=\u001b[0m\u001b[1;32mNone\u001b[0m\u001b[1;33m)\u001b[0m\u001b[1;33m\u001b[0m\u001b[1;33m\u001b[0m\u001b[0m\n",
      "\u001b[1;31mType:\u001b[0m           BSpline\n",
      "\u001b[1;31mString form:\u001b[0m    <scipy.interpolate._bsplines.BSpline object at 0x000001AFCBA69310>\n",
      "\u001b[1;31mFile:\u001b[0m           c:\\users\\bhoom\\documents\\github\\physics_coursework\\.venv\\lib\\site-packages\\scipy\\interpolate\\_bsplines.py\n",
      "\u001b[1;31mDocstring:\u001b[0m     \n",
      "Univariate spline in the B-spline basis.\n",
      "\n",
      ".. math::\n",
      "\n",
      "    S(x) = \\sum_{j=0}^{n-1} c_j  B_{j, k; t}(x)\n",
      "\n",
      "where :math:`B_{j, k; t}` are B-spline basis functions of degree `k`\n",
      "and knots `t`.\n",
      "\n",
      "Parameters\n",
      "----------\n",
      "t : ndarray, shape (n+k+1,)\n",
      "    knots\n",
      "c : ndarray, shape (>=n, ...)\n",
      "    spline coefficients\n",
      "k : int\n",
      "    B-spline degree\n",
      "extrapolate : bool or 'periodic', optional\n",
      "    whether to extrapolate beyond the base interval, ``t[k] .. t[n]``,\n",
      "    or to return nans.\n",
      "    If True, extrapolates the first and last polynomial pieces of b-spline\n",
      "    functions active on the base interval.\n",
      "    If 'periodic', periodic extrapolation is used.\n",
      "    Default is True.\n",
      "axis : int, optional\n",
      "    Interpolation axis. Default is zero.\n",
      "\n",
      "Attributes\n",
      "----------\n",
      "t : ndarray\n",
      "    knot vector\n",
      "c : ndarray\n",
      "    spline coefficients\n",
      "k : int\n",
      "    spline degree\n",
      "extrapolate : bool\n",
      "    If True, extrapolates the first and last polynomial pieces of b-spline\n",
      "    functions active on the base interval.\n",
      "axis : int\n",
      "    Interpolation axis.\n",
      "tck : tuple\n",
      "    A read-only equivalent of ``(self.t, self.c, self.k)``\n",
      "\n",
      "Methods\n",
      "-------\n",
      "__call__\n",
      "basis_element\n",
      "derivative\n",
      "antiderivative\n",
      "integrate\n",
      "insert_knot\n",
      "construct_fast\n",
      "design_matrix\n",
      "from_power_basis\n",
      "\n",
      "Notes\n",
      "-----\n",
      "B-spline basis elements are defined via\n",
      "\n",
      ".. math::\n",
      "\n",
      "    B_{i, 0}(x) = 1, \\textrm{if $t_i \\le x < t_{i+1}$, otherwise $0$,}\n",
      "\n",
      "    B_{i, k}(x) = \\frac{x - t_i}{t_{i+k} - t_i} B_{i, k-1}(x)\n",
      "             + \\frac{t_{i+k+1} - x}{t_{i+k+1} - t_{i+1}} B_{i+1, k-1}(x)\n",
      "\n",
      "**Implementation details**\n",
      "\n",
      "- At least ``k+1`` coefficients are required for a spline of degree `k`,\n",
      "  so that ``n >= k+1``. Additional coefficients, ``c[j]`` with\n",
      "  ``j > n``, are ignored.\n",
      "\n",
      "- B-spline basis elements of degree `k` form a partition of unity on the\n",
      "  *base interval*, ``t[k] <= x <= t[n]``.\n",
      "\n",
      "\n",
      "Examples\n",
      "--------\n",
      "\n",
      "Translating the recursive definition of B-splines into Python code, we have:\n",
      "\n",
      ">>> def B(x, k, i, t):\n",
      "...    if k == 0:\n",
      "...       return 1.0 if t[i] <= x < t[i+1] else 0.0\n",
      "...    if t[i+k] == t[i]:\n",
      "...       c1 = 0.0\n",
      "...    else:\n",
      "...       c1 = (x - t[i])/(t[i+k] - t[i]) * B(x, k-1, i, t)\n",
      "...    if t[i+k+1] == t[i+1]:\n",
      "...       c2 = 0.0\n",
      "...    else:\n",
      "...       c2 = (t[i+k+1] - x)/(t[i+k+1] - t[i+1]) * B(x, k-1, i+1, t)\n",
      "...    return c1 + c2\n",
      "\n",
      ">>> def bspline(x, t, c, k):\n",
      "...    n = len(t) - k - 1\n",
      "...    assert (n >= k+1) and (len(c) >= n)\n",
      "...    return sum(c[i] * B(x, k, i, t) for i in range(n))\n",
      "\n",
      "Note that this is an inefficient (if straightforward) way to\n",
      "evaluate B-splines --- this spline class does it in an equivalent,\n",
      "but much more efficient way.\n",
      "\n",
      "Here we construct a quadratic spline function on the base interval\n",
      "``2 <= x <= 4`` and compare with the naive way of evaluating the spline:\n",
      "\n",
      ">>> from scipy.interpolate import BSpline\n",
      ">>> k = 2\n",
      ">>> t = [0, 1, 2, 3, 4, 5, 6]\n",
      ">>> c = [-1, 2, 0, -1]\n",
      ">>> spl = BSpline(t, c, k)\n",
      ">>> spl(2.5)\n",
      "array(1.375)\n",
      ">>> bspline(2.5, t, c, k)\n",
      "1.375\n",
      "\n",
      "Note that outside of the base interval results differ. This is because\n",
      "`BSpline` extrapolates the first and last polynomial pieces of B-spline\n",
      "functions active on the base interval.\n",
      "\n",
      ">>> import matplotlib.pyplot as plt\n",
      ">>> import numpy as np\n",
      ">>> fig, ax = plt.subplots()\n",
      ">>> xx = np.linspace(1.5, 4.5, 50)\n",
      ">>> ax.plot(xx, [bspline(x, t, c ,k) for x in xx], 'r-', lw=3, label='naive')\n",
      ">>> ax.plot(xx, spl(xx), 'b-', lw=4, alpha=0.7, label='BSpline')\n",
      ">>> ax.grid(True)\n",
      ">>> ax.legend(loc='best')\n",
      ">>> plt.show()\n",
      "\n",
      "\n",
      "References\n",
      "----------\n",
      ".. [1] Tom Lyche and Knut Morken, Spline methods,\n",
      "    http://www.uio.no/studier/emner/matnat/ifi/INF-MAT5340/v05/undervisningsmateriale/\n",
      ".. [2] Carl de Boor, A practical guide to splines, Springer, 2001.\n",
      "\u001b[1;31mCall docstring:\u001b[0m\n",
      "Evaluate a spline function.\n",
      "\n",
      "Parameters\n",
      "----------\n",
      "x : array_like\n",
      "    points to evaluate the spline at.\n",
      "nu : int, optional\n",
      "    derivative to evaluate (default is 0).\n",
      "extrapolate : bool or 'periodic', optional\n",
      "    whether to extrapolate based on the first and last intervals\n",
      "    or return nans. If 'periodic', periodic extrapolation is used.\n",
      "    Default is `self.extrapolate`.\n",
      "\n",
      "Returns\n",
      "-------\n",
      "y : array_like\n",
      "    Shape is determined by replacing the interpolation axis\n",
      "    in the coefficient array with the shape of `x`."
     ]
    }
   ],
   "source": [
    "?posInterpolation"
   ]
  },
  {
   "cell_type": "code",
   "execution_count": 113,
   "metadata": {},
   "outputs": [
    {
     "name": "stdout",
     "output_type": "stream",
     "text": [
      "Full period = 10.395713109337262 days\n"
     ]
    }
   ],
   "source": [
    "# Brackets for roots came from looking at a quick plot.\n",
    "t1 = opt.brentq(posInterpolation, 1, 4, args=(1))\n",
    "t2 = opt.brentq(posInterpolation, 7, 9, args=(1))\n",
    "print(\"Full period = {} days\".format(2*np.abs(t1-t2)))"
   ]
  },
  {
   "cell_type": "code",
   "execution_count": 114,
   "metadata": {},
   "outputs": [
    {
     "data": {
      "text/plain": [
       "(0.0, 12.0)"
      ]
     },
     "execution_count": 114,
     "metadata": {},
     "output_type": "execute_result"
    },
    {
     "data": {
      "image/png": "[encoded data removed]",
      "text/plain": [
       "<Figure size 640x480 with 1 Axes>"
      ]
     },
     "metadata": {},
     "output_type": "display_data"
    }
   ],
   "source": [
    "fig = plt.figure()\n",
    "\n",
    "ax = fig.add_subplot(111)\n",
    "time12 = np.linspace(0,12,50)\n",
    "\n",
    "\n",
    "postion = posInterpolation(time12)\n",
    "\n",
    "ax.plot(time12, posInterpolation(time12), color = 'purple', label = \"Spline\")\n",
    "ax.plot(time12, posInterpolation(time12,nu=1), 'g--', label = \"1st Derivative\")\n",
    "ax.scatter(time, position, color = 'k', label = \"Original Points\")\n",
    "ax.scatter(0, position[0], color = 'orange', label = \"Spline\")\n",
    "\n",
    "plt.legend()\n",
    "\n",
    "ax.set_xlabel(\"Time (day)\")\n",
    "ax.set_ylabel(\"Position (arcsecond)\")\n",
    "ax.set_title(\"Satellite Postion versus Time\")\n",
    "ax.set_xlim(0,12)"
   ]
  }
 ],
 "metadata": {
  "kernelspec": {
   "display_name": ".venv",
   "language": "python",
   "name": "python3"
  },
  "language_info": {
   "codemirror_mode": {
    "name": "ipython",
    "version": 3
   },
   "file_extension": ".py",
   "mimetype": "text/x-python",
   "name": "python",
   "nbconvert_exporter": "python",
   "pygments_lexer": "ipython3",
   "version": "3.12.7"
  }
 },
 "nbformat": 4,
 "nbformat_minor": 2
}
