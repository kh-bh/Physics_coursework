{
 "cells": [
  {
   "cell_type": "code",
   "execution_count": 64,
   "metadata": {},
   "outputs": [],
   "source": [
    "import numpy as np\n",
    "import matplotlib.pyplot as plt\n",
    "import scipy.optimize as opt"
   ]
  },
  {
   "cell_type": "markdown",
   "metadata": {},
   "source": [
    "#### Problem 1"
   ]
  },
  {
   "cell_type": "code",
   "execution_count": 65,
   "metadata": {},
   "outputs": [],
   "source": [
    "x = 0.65"
   ]
  },
  {
   "cell_type": "code",
   "execution_count": 66,
   "metadata": {},
   "outputs": [],
   "source": [
    "# Define the function and its derivative\n",
    "def f(x):\n",
    "    return np.exp(-x / 4)\n",
    "\n",
    "def f_prime(x):\n",
    "    return (-1/4) * np.exp(-x/4)\n"
   ]
  },
  {
   "cell_type": "code",
   "execution_count": 67,
   "metadata": {},
   "outputs": [
    {
     "name": "stdout",
     "output_type": "stream",
     "text": [
      "The derivative with step size 10^-4 is -0.2125040225781083 and the fractional error is 1.0239231684749939e-10\n",
      "The derivative with step size 10^-5 is -0.21250402255645892 and the fractional error is 5.146993942162226e-13\n",
      "The derivative with step size 10^-6 is -0.21250402260086787 and the fractional error is 2.0949397772085376e-10\n",
      "The derivative with step size 10^-7 is -0.21250402271189017 and the fractional error is 7.319420625151452e-10\n"
     ]
    }
   ],
   "source": [
    "h4 = 10**(-4)\n",
    "h5 = 10**(-5)\n",
    "h6 = 10**(-6)\n",
    "h7 = 10**(-7)\n",
    "\n",
    "def f_center(x,h):\n",
    "    return (f(x+h) - f(x-h)) / (2*h)\n",
    "\n",
    "def frac_error(a,t):\n",
    "    return np.abs(1-(a/t))\n",
    "\n",
    "true_deriv = f_prime(x)\n",
    "\n",
    "print(\"The derivative with step size 10^-4 is {} and the fractional error is {}\".format(f_center(x,h4), frac_error(f_center(x,h4),true_deriv)))\n",
    "print(\"The derivative with step size 10^-5 is {} and the fractional error is {}\".format(f_center(x,h5), frac_error(f_center(x,h5),true_deriv)))\n",
    "print(\"The derivative with step size 10^-6 is {} and the fractional error is {}\".format(f_center(x,h6), frac_error(f_center(x,h6),true_deriv)))\n",
    "print(\"The derivative with step size 10^-7 is {} and the fractional error is {}\".format(f_center(x,h7), frac_error(f_center(x,h7),true_deriv)))"
   ]
  },
  {
   "cell_type": "markdown",
   "metadata": {},
   "source": [
    "#### Problem 2"
   ]
  },
  {
   "cell_type": "code",
   "execution_count": 68,
   "metadata": {},
   "outputs": [],
   "source": [
    "def richardson_center (f, z, h, nsteps, args=()):\n",
    "    \"\"\"Evaluate the first derivative of a function at z, that is f'(z),\n",
    "    using Richardson extrapolation and center differencing.\n",
    "\n",
    "    Returned is the full table of approximations, Fij for j <= i. The\n",
    "    values of Fij for j > i are set to zero. The final value F[-1,-1]\n",
    "    should be the most accurate estimate.\n",
    "\n",
    "    Parameters\n",
    "    ----------\n",
    "    f : function\n",
    "        Vectorized Python function.\n",
    "        This is the function for which we are estimating the derivative.\n",
    "    z : number\n",
    "        Value at which to evaluate the derivative.\n",
    "    h : number\n",
    "        Initial stepsize.\n",
    "    nsteps : integer\n",
    "        Number of steps to perform.\n",
    "    args : tuple, optional\n",
    "        extra arguments to pass to the function, f.\n",
    "    \"\"\"\n",
    "    # Extra check to allow for args=(1) to be handled properly. This is a\n",
    "    # technical detail that you do not need to worry about.\n",
    "    if not isinstance(args, (tuple, list, np.ndarray)):\n",
    "        args = (args,)\n",
    "    # Create a zero filled table for our estimates\n",
    "    F = np.zeros((nsteps, nsteps))\n",
    "    # First column of F is the center differencing estimate.\n",
    "    # We can fill this without a loop!\n",
    "    harr = h / 2.**np.arange(nsteps)\n",
    "    F[:,0] = (f(z+harr, *args) - f(z-harr, *args)) / (2.*harr)\n",
    "    # Now iterate, unfortunately we do need one loop. We could\n",
    "    # get rid of the inner loop but the algorithm is a little easier to\n",
    "    # understand if we do not.\n",
    "    for i in range(1, nsteps):\n",
    "        fact = 0.25\n",
    "        for j in range(1, i+1):\n",
    "            F[i,j] = F[i-1,j-1] - (F[i-1,j-1] - F[i,j-1])/ (1-fact)\n",
    "            fact *= 0.25\n",
    "    return F"
   ]
  },
  {
   "cell_type": "code",
   "execution_count": 69,
   "metadata": {},
   "outputs": [],
   "source": [
    "def richardson_forward(f, z, h, nsteps, args=()):\n",
    "    \"\"\"Evaluate the first derivative of a function at z, that is f'(z),\n",
    "    using Richardson extrapolation and forward differencing.\n",
    "\n",
    "    Returned is the full table of approximations, Fij for j <= i. The\n",
    "    values of Fij for j > i are set to zero. The final value F[-1,-1]\n",
    "    should be the most accurate estimate.\n",
    "\n",
    "    Parameters\n",
    "    ----------\n",
    "    f : function\n",
    "        Vectorized Python function.\n",
    "        This is the function for which we are estimating the derivative.\n",
    "    z : number\n",
    "        Value at which to evaluate the derivative.\n",
    "    h : number\n",
    "        Initial stepsize.\n",
    "    nsteps : integer\n",
    "        Number of steps to perform.\n",
    "    args : tuple, optional\n",
    "        extra arguments to pass to the function, f.\n",
    "    \"\"\"\n",
    "    # Extra check to allow for args=(1) to be handled properly. This is a\n",
    "    # technical detail that you do not need to worry about.\n",
    "    if not isinstance(args, (tuple, list, np.ndarray)):\n",
    "        args = (args,)\n",
    "    # Create a zero filled table for our estimates\n",
    "    F = np.zeros((nsteps, nsteps))\n",
    "    # First column of F is the center differencing estimate.\n",
    "    # We can fill this without a loop!\n",
    "    harr = h / 2.**np.arange(nsteps)\n",
    "    F[:,0] = (f(z+harr, *args) - f(z, *args)) / harr\n",
    "    # Now iterate, unfortunately we do need one loop. We could\n",
    "    # get rid of the inner loop but the algorithm is a little easier to\n",
    "    # understand if we do not.\n",
    "    for i in range(1, nsteps):\n",
    "        q = 2\n",
    "        for j in range(1, i+1):\n",
    "            F[i,j] = (q*F[i,j-1] - F[i-1,j-1])/ (q-1)\n",
    "            q *= 2\n",
    "    return F"
   ]
  },
  {
   "cell_type": "code",
   "execution_count": 70,
   "metadata": {},
   "outputs": [
    {
     "name": "stdout",
     "output_type": "stream",
     "text": [
      "Richardson_center: 4.992255689431632. Frac Error: 1.4432899320127035e-14\n",
      "Richardson_forward: 4.9922556894312375. Frac Error: 6.461498003318411e-14\n"
     ]
    }
   ],
   "source": [
    "def f(x):\n",
    "    return (3**x) * np.sin(x)\n",
    "\n",
    "def f_prime(x):\n",
    "    return (3**x) * np.cos(x) + (np.log(3) * 3**x * np.sin(x))\n",
    "\n",
    "true_deriv = f_prime(1.15)\n",
    "\n",
    "richardson_center_answer = richardson_center(f, 1.15, 0.4, 8)\n",
    "richardson_forward_answer = richardson_forward(f, 1.15, 0.4, 8)\n",
    "\n",
    "print(\"Richardson_center: {}. Frac Error: {}\".format(richardson_center_answer[-1,-1], frac_error(richardson_center_answer[-1,-1],true_deriv)))\n",
    "print(\"Richardson_forward: {}. Frac Error: {}\".format(richardson_forward_answer[-1,-1], frac_error(richardson_forward_answer[-1,-1],true_deriv)))"
   ]
  },
  {
   "cell_type": "code",
   "execution_count": 75,
   "metadata": {},
   "outputs": [
    {
     "name": "stdout",
     "output_type": "stream",
     "text": [
      "Richardson_center: 4.992255689431567. Frac Error: 1.3322676295501878e-15\n",
      "Richardson_forward: 4.992255689431513. Frac Error: 9.43689570931383e-15\n"
     ]
    }
   ],
   "source": [
    "richardson_center_answer = richardson_center(f, 1.15, 0.4, 6)\n",
    "richardson_forward_answer = richardson_forward(f, 1.15, 0.4, 9)\n",
    "\n",
    "print(\"Richardson_center: {}. Frac Error: {}\".format(richardson_center_answer[-1,-1], frac_error(richardson_center_answer[-1,-1],true_deriv)))\n",
    "print(\"Richardson_forward: {}. Frac Error: {}\".format(richardson_forward_answer[-1,-1], frac_error(richardson_forward_answer[-1,-1],true_deriv)))"
   ]
  }
 ],
 "metadata": {
  "kernelspec": {
   "display_name": ".venv",
   "language": "python",
   "name": "python3"
  },
  "language_info": {
   "codemirror_mode": {
    "name": "ipython",
    "version": 3
   },
   "file_extension": ".py",
   "mimetype": "text/x-python",
   "name": "python",
   "nbconvert_exporter": "python",
   "pygments_lexer": "ipython3",
   "version": "3.12.7"
  }
 },
 "nbformat": 4,
 "nbformat_minor": 2
}
