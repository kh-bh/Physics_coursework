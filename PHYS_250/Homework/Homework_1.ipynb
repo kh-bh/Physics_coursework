{
 "cells": [
  {
   "cell_type": "code",
   "execution_count": 1,
   "metadata": {},
   "outputs": [],
   "source": [
    "import numpy as np\n",
    "import scipy.optimize as opt"
   ]
  },
  {
   "cell_type": "code",
   "execution_count": 3,
   "metadata": {},
   "outputs": [
    {
     "ename": "ValueError",
     "evalue": "f(a) and f(b) must have different signs",
     "output_type": "error",
     "traceback": [
      "\u001b[1;31m---------------------------------------------------------------------------\u001b[0m",
      "\u001b[1;31mValueError\u001b[0m                                Traceback (most recent call last)",
      "Cell \u001b[1;32mIn[3], line 3\u001b[0m\n\u001b[0;32m      1\u001b[0m \u001b[38;5;28;01mdef\u001b[39;00m\u001b[38;5;250m \u001b[39m\u001b[38;5;21meq1\u001b[39m(x):\n\u001b[0;32m      2\u001b[0m     \u001b[38;5;28;01mreturn\u001b[39;00m \u001b[38;5;241m3\u001b[39m \u001b[38;5;241m*\u001b[39m (\u001b[38;5;241m1\u001b[39m\u001b[38;5;241m/\u001b[39m\u001b[38;5;241m2\u001b[39m)\u001b[38;5;241m*\u001b[39m\u001b[38;5;241m*\u001b[39m (x\u001b[38;5;241m-\u001b[39m\u001b[38;5;241m1\u001b[39m)\n\u001b[1;32m----> 3\u001b[0m (bisect_root_1, bisect_output_1) \u001b[38;5;241m=\u001b[39m \u001b[43mopt\u001b[49m\u001b[38;5;241;43m.\u001b[39;49m\u001b[43mbisect\u001b[49m\u001b[43m(\u001b[49m\u001b[43meq1\u001b[49m\u001b[43m,\u001b[49m\u001b[43m \u001b[49m\u001b[38;5;241;43m.1\u001b[39;49m\u001b[43m,\u001b[49m\u001b[43m \u001b[49m\u001b[38;5;241;43m1\u001b[39;49m\u001b[43m,\u001b[49m\u001b[43m \u001b[49m\u001b[43mxtol\u001b[49m\u001b[38;5;241;43m=\u001b[39;49m\u001b[43m \u001b[49m\u001b[38;5;241;43m1e-14\u001b[39;49m\u001b[43m,\u001b[49m\u001b[43m \u001b[49m\u001b[43mfull_output\u001b[49m\u001b[38;5;241;43m=\u001b[39;49m\u001b[38;5;28;43;01mTrue\u001b[39;49;00m\u001b[43m)\u001b[49m\n\u001b[0;32m      4\u001b[0m \u001b[38;5;28mprint\u001b[39m(\u001b[38;5;124m'\u001b[39m\u001b[38;5;124mbisection, x =\u001b[39m\u001b[38;5;124m'\u001b[39m, bisect_root_1)\n",
      "File \u001b[1;32mc:\\Users\\bhoom\\Documents\\GitHub\\Physics_coursework\\.venv\\Lib\\site-packages\\scipy\\optimize\\_zeros_py.py:577\u001b[0m, in \u001b[0;36mbisect\u001b[1;34m(f, a, b, args, xtol, rtol, maxiter, full_output, disp)\u001b[0m\n\u001b[0;32m    575\u001b[0m     \u001b[38;5;28;01mraise\u001b[39;00m \u001b[38;5;167;01mValueError\u001b[39;00m(\u001b[38;5;124mf\u001b[39m\u001b[38;5;124m\"\u001b[39m\u001b[38;5;124mrtol too small (\u001b[39m\u001b[38;5;132;01m{\u001b[39;00mrtol\u001b[38;5;132;01m:\u001b[39;00m\u001b[38;5;124mg\u001b[39m\u001b[38;5;132;01m}\u001b[39;00m\u001b[38;5;124m < \u001b[39m\u001b[38;5;132;01m{\u001b[39;00m_rtol\u001b[38;5;132;01m:\u001b[39;00m\u001b[38;5;124mg\u001b[39m\u001b[38;5;132;01m}\u001b[39;00m\u001b[38;5;124m)\u001b[39m\u001b[38;5;124m\"\u001b[39m)\n\u001b[0;32m    576\u001b[0m f \u001b[38;5;241m=\u001b[39m _wrap_nan_raise(f)\n\u001b[1;32m--> 577\u001b[0m r \u001b[38;5;241m=\u001b[39m \u001b[43m_zeros\u001b[49m\u001b[38;5;241;43m.\u001b[39;49m\u001b[43m_bisect\u001b[49m\u001b[43m(\u001b[49m\u001b[43mf\u001b[49m\u001b[43m,\u001b[49m\u001b[43m \u001b[49m\u001b[43ma\u001b[49m\u001b[43m,\u001b[49m\u001b[43m \u001b[49m\u001b[43mb\u001b[49m\u001b[43m,\u001b[49m\u001b[43m \u001b[49m\u001b[43mxtol\u001b[49m\u001b[43m,\u001b[49m\u001b[43m \u001b[49m\u001b[43mrtol\u001b[49m\u001b[43m,\u001b[49m\u001b[43m \u001b[49m\u001b[43mmaxiter\u001b[49m\u001b[43m,\u001b[49m\u001b[43m \u001b[49m\u001b[43margs\u001b[49m\u001b[43m,\u001b[49m\u001b[43m \u001b[49m\u001b[43mfull_output\u001b[49m\u001b[43m,\u001b[49m\u001b[43m \u001b[49m\u001b[43mdisp\u001b[49m\u001b[43m)\u001b[49m\n\u001b[0;32m    578\u001b[0m \u001b[38;5;28;01mreturn\u001b[39;00m results_c(full_output, r, \u001b[38;5;124m\"\u001b[39m\u001b[38;5;124mbisect\u001b[39m\u001b[38;5;124m\"\u001b[39m)\n",
      "\u001b[1;31mValueError\u001b[0m: f(a) and f(b) must have different signs"
     ]
    }
   ],
   "source": [
    "def eq1(x):\n",
    "    return 3 * (1/2)** (x-1)\n",
    "(bisect_root_1, bisect_output_1) = opt.bisect(eq1, .1, 1, xtol= 1e-14, full_output=True)\n",
    "print('bisection, x =', bisect_root_1)"
   ]
  },
  {
   "cell_type": "code",
   "execution_count": 26,
   "metadata": {},
   "outputs": [
    {
     "name": "stdout",
     "output_type": "stream",
     "text": [
      "bisection, w = 69.97274559624347\n",
      "Bisect: 47 iterations\n",
      "bisection, w = 135.28978276091115\n",
      "Bisect: 47 iterations\n",
      "brentq, x = 1.2212547973153456\n",
      "Bisect: 11 iterations\n",
      "brentq, x = 2.361252153485865\n",
      "Bisect: 12 iterations\n"
     ]
    }
   ],
   "source": [
    "def eq1(w,t,m):\n",
    "    mult = 9.8 / (4*w**2)\n",
    "    mult2 = (np.e ** (w*t) - np.e ** (-w*t) - 2*np.sin(w*t))\n",
    "    eq = mult * mult2 - m\n",
    "    return eq\n",
    "(bisect_root_1, bisect_output_1) = opt.bisect(eq1, .001, 90, xtol= 1e-12, full_output=True, args = (1,2))\n",
    "print('bisection, w =', bisect_root_1 * 180 / np.pi)\n",
    "print(\"Bisect: \" + format(bisect_output_1.iterations) + \" iterations\")\n",
    "\n",
    "(bisect_root_2, bisect_output_2) = opt.bisect(eq1, .001, 90, xtol= 1e-12, full_output=True, args = (1,4))\n",
    "print('bisection, w =', bisect_root_2 * 180 / np.pi)\n",
    "print(\"Bisect: \" + format(bisect_output_2.iterations) + \" iterations\")\n",
    "\n",
    "(brentq_root_1, brentq_output_1) = opt.brentq(eq1, .001, 90, xtol= 1e-12, full_output=True, args = (1,2))\n",
    "print('brentq, x =', brentq_root_1)\n",
    "print(\"Bisect: \" + format(brentq_output_1.iterations) + \" iterations\")\n",
    "\n",
    "(brentq_root_2, brentq_output_2) = opt.brentq(eq1, .001, 90, xtol= 1e-12, full_output=True, args = (1,4))\n",
    "print('brentq, x =', brentq_root_2)\n",
    "print(\"Bisect: \" + format(brentq_output_2.iterations) + \" iterations\")"
   ]
  }
 ],
 "metadata": {
  "kernelspec": {
   "display_name": ".venv",
   "language": "python",
   "name": "python3"
  },
  "language_info": {
   "codemirror_mode": {
    "name": "ipython",
    "version": 3
   },
   "file_extension": ".py",
   "mimetype": "text/x-python",
   "name": "python",
   "nbconvert_exporter": "python",
   "pygments_lexer": "ipython3",
   "version": "3.12.7"
  }
 },
 "nbformat": 4,
 "nbformat_minor": 2
}
