{
 "cells": [
  {
   "cell_type": "code",
   "execution_count": 29,
   "id": "61ecc03a",
   "metadata": {},
   "outputs": [],
   "source": [
    "import numpy as np"
   ]
  },
  {
   "cell_type": "code",
   "execution_count": 30,
   "id": "1c893a25",
   "metadata": {},
   "outputs": [],
   "source": [
    "def linear_leastsq (x, y, sigma=None):\n",
    "    \"\"\"\n",
    "    Perform a least squares fit\n",
    "    Parameters:\n",
    "        x: x\n",
    "        y: a1 + a2 x\n",
    "        sigma: Uncertainty (If sigma is not specified -- set to one)\n",
    "    Returns:\n",
    "        (a1, a2, sigma_a1, sigma_a2)\n",
    "    \"\"\"\n",
    "    if sigma is None :\n",
    "        sigma = np.ones_like(y)\n",
    "\n",
    "    #S values\n",
    "    S = np.sum(1./sigma**2)\n",
    "    S_x = np.sum(x / sigma**2)\n",
    "    S_y = np.sum(y / sigma**2)\n",
    "    S_xy = np.sum(x*y / sigma**2)\n",
    "    S_xx = np.sum(x*x / sigma**2)\n",
    "    delta = (S * S_xx) - (S_x**2)\n",
    "\n",
    "    # Params\n",
    "    a1 = (S_xx*S_y - S_x*S_xy) / delta\n",
    "    a2 = (S_xy*S - S_x*S_y) / delta\n",
    "\n",
    "    # Uncertainties\n",
    "    sigma_a1 = np.sqrt(S_xx / delta)\n",
    "    sigma_a2 = np.sqrt(S / delta)\n",
    "\n",
    "    return (a1, a2, sigma_a1, sigma_a2)"
   ]
  },
  {
   "cell_type": "code",
   "execution_count": 31,
   "id": "ccae9f39",
   "metadata": {},
   "outputs": [],
   "source": [
    "x = np.array([-2,-1,0,1,2])\n",
    "y = np.array([-4,-7,-3,-3,-2])"
   ]
  },
  {
   "cell_type": "code",
   "execution_count": 32,
   "id": "ae613d5d",
   "metadata": {},
   "outputs": [
    {
     "name": "stdout",
     "output_type": "stream",
     "text": [
      "A1 is equal to -3.80000 with uncertainty of 0.44721 \n",
      "A2 is equal to 0.80000 with uncertainty of 0.31623\n",
      "The DOF is 3 because 5 (number of points) - 2 (parameters).\n"
     ]
    }
   ],
   "source": [
    "a1, a2, sig1, sig2 = linear_leastsq(x,y)\n",
    "\n",
    "print(\"A1 is equal to {:.5f} with uncertainty of {:.5f} \\nA2 is equal to {:.5f} with uncertainty of {:.5f}\".format(a1, sig1, a2, sig2))\n",
    "print(\"The DOF is 3 because 5 (number of points) - 2 (parameters).\")"
   ]
  },
  {
   "cell_type": "code",
   "execution_count": 33,
   "id": "db428d8c",
   "metadata": {},
   "outputs": [],
   "source": [
    "x = np.array([-2,0,1,2])\n",
    "y = np.array([-4,-3,-3,-2])"
   ]
  },
  {
   "cell_type": "code",
   "execution_count": 34,
   "id": "86738518",
   "metadata": {},
   "outputs": [
    {
     "name": "stdout",
     "output_type": "stream",
     "text": [
      "A1 is equal to -3.11429 with uncertainty of 0.50709 \n",
      "A2 is equal to 0.45714 with uncertainty of 0.33806\n",
      "The DOF is 2 because 2 (number of points) - 2 (parameters).\n"
     ]
    }
   ],
   "source": [
    "a1, a2, sig1, sig2 = linear_leastsq(x,y)\n",
    "\n",
    "print(\"A1 is equal to {:.5f} with uncertainty of {:.5f} \\nA2 is equal to {:.5f} with uncertainty of {:.5f}\".format(a1, sig1, a2, sig2))\n",
    "print(\"The DOF is 2 because 2 (number of points) - 2 (parameters).\")"
   ]
  }
 ],
 "metadata": {
  "kernelspec": {
   "display_name": ".venv",
   "language": "python",
   "name": "python3"
  },
  "language_info": {
   "codemirror_mode": {
    "name": "ipython",
    "version": 3
   },
   "file_extension": ".py",
   "mimetype": "text/x-python",
   "name": "python",
   "nbconvert_exporter": "python",
   "pygments_lexer": "ipython3",
   "version": "3.12.7"
  }
 },
 "nbformat": 4,
 "nbformat_minor": 5
}
