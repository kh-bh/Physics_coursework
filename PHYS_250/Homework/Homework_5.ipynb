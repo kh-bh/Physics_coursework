{
 "cells": [
  {
   "cell_type": "code",
   "execution_count": 26,
   "metadata": {},
   "outputs": [],
   "source": [
    "import numpy as np"
   ]
  },
  {
   "cell_type": "code",
   "execution_count": 27,
   "metadata": {},
   "outputs": [],
   "source": [
    "#f is defined as f(t,y, *args)\n",
    "\n",
    "def rk2 (f, y0, t, args=()):\n",
    "    \"\"\"\n",
    "    Second-order Runge-Kutta for solving dy/dt = f(t, y).\n",
    "    Parameters:\n",
    "        f: Function defining dy/dt = f(t, y), called as f(t, y, *args).\n",
    "        y0: Initial value y(t[0]).\n",
    "        t: Array of time points where y should be computed.\n",
    "        args (optional): Extra arguments to pass to f.\n",
    "    Returns:\n",
    "        y: Array of y-values at each time step in t.\n",
    "    \"\"\"\n",
    "    y = np.zeros_like(t)\n",
    "    y[0] = y0\n",
    "\n",
    "    for i in range(1, len(t)):\n",
    "        dt = t[i] - t[i-1]\n",
    "        k1 = f(t[i-1], y[i-1], *args)\n",
    "        k2 = f(t[i-1] + 0.5*dt, y[i-1] + 0.5*dt*k1, *args)\n",
    "        y[i] = y[i-1] + dt * k2\n",
    "    return y\n"
   ]
  },
  {
   "cell_type": "code",
   "execution_count": 28,
   "metadata": {},
   "outputs": [],
   "source": [
    "def rk4 (f, y0, t, args=()):\n",
    "    \"\"\"\n",
    "    Fourth-order Runge-Kutta for solving dy/dt = f(t, y).\n",
    "    Parameters:\n",
    "        f: Function defining dy/dt = f(t, y), called as f(t, y, *args).\n",
    "        y0: Initial value y(t[0]).\n",
    "        t: Array of time points where y should be computed.\n",
    "        args (optional): Extra arguments to pass to f.\n",
    "    Returns:\n",
    "        y: Array of y-values at each time step in t.\n",
    "    \"\"\"\n",
    "    y = np.zeros_like(t)\n",
    "    y[0] = y0\n",
    "    for i in range(1, len(t)):\n",
    "        dt = t[i] - t[i-1]\n",
    "        t_prev = t[i-1]\n",
    "        y_prev = y[i-1]\n",
    "        k1 = f(t_prev, y_prev, *args)\n",
    "        k2 = f(t_prev + dt/2, y_prev + dt/2 * k1, *args)\n",
    "        k3 = f(t_prev + dt/2, y_prev + dt/2 * k2, *args)\n",
    "        k4 = f(t_prev + dt, y_prev + dt * k3, *args)\n",
    "        y[i] = y_prev + (dt/6) * (k1 + 2*k2 + 2*k3 + k4)\n",
    "    return y"
   ]
  },
  {
   "cell_type": "code",
   "execution_count": 36,
   "metadata": {},
   "outputs": [
    {
     "name": "stdout",
     "output_type": "stream",
     "text": [
      "y(0.2) Analytical: 0.091274\n",
      "y(0.2) RK2: 0.003083, Error: 8.819110e-02\n",
      "y(0.2) RK4: 0.003076, Error: 8.819784e-02\n"
     ]
    }
   ],
   "source": [
    "# Define the differential equation dy/dt = 6t^2 - t - 12y\n",
    "def f(t, y):\n",
    "    return 6*t**2 - t - 12*y\n",
    "\n",
    "# Time points\n",
    "t = np.linspace(0, 5, 1000)\n",
    "\n",
    "# Initial condition\n",
    "y0 = 1/24\n",
    "\n",
    "# Solve numerically using RK2 and RK4\n",
    "y_rk2 = rk2(f, y0, t)\n",
    "y_rk4 = rk4(f, y0, t)\n",
    "\n",
    "# Evaluate y(0.2) for all methods\n",
    "t_target = 0.2\n",
    "\n",
    "y_exact_02 = 0.091274\n",
    "\n",
    "y_rk2_02 = np.interp(t_target, t, y_rk2)\n",
    "y_rk4_02 = np.interp(t_target, t, y_rk4)\n",
    "\n",
    "# Compute errors\n",
    "error_rk2 = abs(y_rk2_02 - y_exact_02)\n",
    "error_rk4 = abs(y_rk4_02 - y_exact_02)\n",
    "\n",
    "# Results\n",
    "print(f\"y(0.2) Analytical: {y_exact_02:.6f}\")\n",
    "\n",
    "print(f\"y(0.2) RK2: {y_rk2_02:.6f}, Error: {error_rk2:.6e}\")\n",
    "print(f\"y(0.2) RK4: {y_rk4_02:.6f}, Error: {error_rk4:.6e}\")\n",
    "\n"
   ]
  }
 ],
 "metadata": {
  "kernelspec": {
   "display_name": ".venv",
   "language": "python",
   "name": "python3"
  },
  "language_info": {
   "codemirror_mode": {
    "name": "ipython",
    "version": 3
   },
   "file_extension": ".py",
   "mimetype": "text/x-python",
   "name": "python",
   "nbconvert_exporter": "python",
   "pygments_lexer": "ipython3",
   "version": "3.12.7"
  }
 },
 "nbformat": 4,
 "nbformat_minor": 2
}
